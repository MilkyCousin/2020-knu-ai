{
  "nbformat": 4,
  "nbformat_minor": 0,
  "metadata": {
    "kernelspec": {
      "name": "python3",
      "display_name": "Python 3"
    },
    "language_info": {
      "codemirror_mode": {
        "name": "ipython",
        "version": 3
      },
      "file_extension": ".py",
      "mimetype": "text/x-python",
      "name": "python",
      "nbconvert_exporter": "python",
      "pygments_lexer": "ipython3",
      "version": "3.6.8"
    },
    "colab": {
      "name": "task-27-01-2020.ipynb",
      "provenance": [],
      "machine_shape": "hm"
    },
    "accelerator": "GPU"
  },
  "cells": [
    {
      "cell_type": "markdown",
      "metadata": {
        "id": "p7SQ26ncy5IK",
        "colab_type": "text"
      },
      "source": [
        "## Prerequisites"
      ]
    },
    {
      "cell_type": "markdown",
      "metadata": {
        "id": "gTZH4WdHy5IL",
        "colab_type": "text"
      },
      "source": [
        "gensim==3.6.0"
      ]
    },
    {
      "cell_type": "code",
      "metadata": {
        "id": "-zj93MB4y5IM",
        "colab_type": "code",
        "outputId": "f64295c7-3b97-4ade-a67e-413ddffd0b57",
        "colab": {
          "base_uri": "https://localhost:8080/",
          "height": 119
        }
      },
      "source": [
        "from string import punctuation\n",
        "\n",
        "import numpy as np\n",
        "import pandas as pd \n",
        "from gensim.models import Word2Vec, KeyedVectors\n",
        "from nltk.tokenize import word_tokenize\n",
        "from nltk.corpus import stopwords\n",
        "from nltk.stem import WordNetLemmatizer \n",
        "\n",
        "import nltk\n",
        "nltk.download('stopwords')\n",
        "nltk.download('punkt')\n",
        "nltk.download('wordnet')\n",
        "\n",
        "lemmatizer = WordNetLemmatizer() \n",
        "stop_words = set(stopwords.words('english'))"
      ],
      "execution_count": 13,
      "outputs": [
        {
          "output_type": "stream",
          "text": [
            "[nltk_data] Downloading package stopwords to /root/nltk_data...\n",
            "[nltk_data]   Package stopwords is already up-to-date!\n",
            "[nltk_data] Downloading package punkt to /root/nltk_data...\n",
            "[nltk_data]   Package punkt is already up-to-date!\n",
            "[nltk_data] Downloading package wordnet to /root/nltk_data...\n",
            "[nltk_data]   Package wordnet is already up-to-date!\n"
          ],
          "name": "stdout"
        }
      ]
    },
    {
      "cell_type": "code",
      "metadata": {
        "id": "71sR-gHjy5IO",
        "colab_type": "code",
        "outputId": "093b6a57-2b70-42ce-984d-18a42bcf4aa4",
        "colab": {
          "base_uri": "https://localhost:8080/",
          "height": 34
        }
      },
      "source": [
        "from google.colab import drive\n",
        "drive.mount('/content/drive')\n",
        "df = pd.read_csv(\"/content/drive/My Drive/train.csv\")"
      ],
      "execution_count": 14,
      "outputs": [
        {
          "output_type": "stream",
          "text": [
            "Drive already mounted at /content/drive; to attempt to forcibly remount, call drive.mount(\"/content/drive\", force_remount=True).\n"
          ],
          "name": "stdout"
        }
      ]
    },
    {
      "cell_type": "code",
      "metadata": {
        "id": "MeROb6ngy5IQ",
        "colab_type": "code",
        "colab": {}
      },
      "source": [
        "def preprocess_text(tokenizer, lemmatizer, stop_words, punctuation, text): \n",
        "    tokens = tokenizer(text.lower())\n",
        "    lemmas = [lemmatizer.lemmatize(token) for token in tokens]\n",
        "    return [token for token in lemmas if token not in stop_words and token not in punctuation and len(token) > 3 ]\n",
        "\n",
        "df['cleaned'] = df.comment_text.apply(lambda x: preprocess_text(word_tokenize, lemmatizer, stop_words, punctuation, x))"
      ],
      "execution_count": 0,
      "outputs": []
    },
    {
      "cell_type": "code",
      "metadata": {
        "id": "bPiufyWKy5IS",
        "colab_type": "code",
        "colab": {}
      },
      "source": [
        "df_sample = df.sample(100000)"
      ],
      "execution_count": 0,
      "outputs": []
    },
    {
      "cell_type": "code",
      "metadata": {
        "id": "Raqnpnkmy5IU",
        "colab_type": "code",
        "outputId": "fc973c7c-6653-42fe-bde7-36def51633c5",
        "colab": {
          "base_uri": "https://localhost:8080/",
          "height": 204
        }
      },
      "source": [
        "df_sample.head()"
      ],
      "execution_count": 17,
      "outputs": [
        {
          "output_type": "execute_result",
          "data": {
            "text/html": [
              "<div>\n",
              "<style scoped>\n",
              "    .dataframe tbody tr th:only-of-type {\n",
              "        vertical-align: middle;\n",
              "    }\n",
              "\n",
              "    .dataframe tbody tr th {\n",
              "        vertical-align: top;\n",
              "    }\n",
              "\n",
              "    .dataframe thead th {\n",
              "        text-align: right;\n",
              "    }\n",
              "</style>\n",
              "<table border=\"1\" class=\"dataframe\">\n",
              "  <thead>\n",
              "    <tr style=\"text-align: right;\">\n",
              "      <th></th>\n",
              "      <th>id</th>\n",
              "      <th>comment_text</th>\n",
              "      <th>toxic</th>\n",
              "      <th>severe_toxic</th>\n",
              "      <th>obscene</th>\n",
              "      <th>threat</th>\n",
              "      <th>insult</th>\n",
              "      <th>identity_hate</th>\n",
              "      <th>cleaned</th>\n",
              "    </tr>\n",
              "  </thead>\n",
              "  <tbody>\n",
              "    <tr>\n",
              "      <th>84888</th>\n",
              "      <td>e326e84ac7d12af3</td>\n",
              "      <td>Well, it has gone that far, actually  I made t...</td>\n",
              "      <td>0</td>\n",
              "      <td>0</td>\n",
              "      <td>0</td>\n",
              "      <td>0</td>\n",
              "      <td>0</td>\n",
              "      <td>0</td>\n",
              "      <td>[well, gone, actually, made, slip, writing, ur...</td>\n",
              "    </tr>\n",
              "    <tr>\n",
              "      <th>147690</th>\n",
              "      <td>40434968e59e4ecc</td>\n",
              "      <td>This page is inaccurate \\n\\nIt actually said t...</td>\n",
              "      <td>0</td>\n",
              "      <td>0</td>\n",
              "      <td>0</td>\n",
              "      <td>0</td>\n",
              "      <td>0</td>\n",
              "      <td>0</td>\n",
              "      <td>[page, inaccurate, actually, said, prior, 2002...</td>\n",
              "    </tr>\n",
              "    <tr>\n",
              "      <th>1439</th>\n",
              "      <td>03d8889213604e8f</td>\n",
              "      <td>On Sea World \\n\\nSorry mate, we're working out...</td>\n",
              "      <td>0</td>\n",
              "      <td>0</td>\n",
              "      <td>0</td>\n",
              "      <td>0</td>\n",
              "      <td>0</td>\n",
              "      <td>0</td>\n",
              "      <td>[world, sorry, mate, working, kink, program, c...</td>\n",
              "    </tr>\n",
              "    <tr>\n",
              "      <th>70644</th>\n",
              "      <td>bd12b3f4267549f7</td>\n",
              "      <td>Thank you. Have a great day.</td>\n",
              "      <td>0</td>\n",
              "      <td>0</td>\n",
              "      <td>0</td>\n",
              "      <td>0</td>\n",
              "      <td>0</td>\n",
              "      <td>0</td>\n",
              "      <td>[thank, great]</td>\n",
              "    </tr>\n",
              "    <tr>\n",
              "      <th>40921</th>\n",
              "      <td>6d34016874e06cdc</td>\n",
              "      <td>I LOVE SUCKING COCK!  \\n\\nGIVE ME CUM OR GIVE ...</td>\n",
              "      <td>1</td>\n",
              "      <td>1</td>\n",
              "      <td>1</td>\n",
              "      <td>0</td>\n",
              "      <td>0</td>\n",
              "      <td>0</td>\n",
              "      <td>[love, sucking, cock, give, give, death]</td>\n",
              "    </tr>\n",
              "  </tbody>\n",
              "</table>\n",
              "</div>"
            ],
            "text/plain": [
              "                      id  ...                                            cleaned\n",
              "84888   e326e84ac7d12af3  ...  [well, gone, actually, made, slip, writing, ur...\n",
              "147690  40434968e59e4ecc  ...  [page, inaccurate, actually, said, prior, 2002...\n",
              "1439    03d8889213604e8f  ...  [world, sorry, mate, working, kink, program, c...\n",
              "70644   bd12b3f4267549f7  ...                                     [thank, great]\n",
              "40921   6d34016874e06cdc  ...           [love, sucking, cock, give, give, death]\n",
              "\n",
              "[5 rows x 9 columns]"
            ]
          },
          "metadata": {
            "tags": []
          },
          "execution_count": 17
        }
      ]
    },
    {
      "cell_type": "markdown",
      "metadata": {
        "id": "wLkAEegey5IW",
        "colab_type": "text"
      },
      "source": [
        "### Train the model from scratch"
      ]
    },
    {
      "cell_type": "markdown",
      "metadata": {
        "id": "BmJRT3mBy5IX",
        "colab_type": "text"
      },
      "source": [
        "Train our first model based on the vocabulary from df_sample: "
      ]
    },
    {
      "cell_type": "code",
      "metadata": {
        "id": "gqZZNSdhy5IY",
        "colab_type": "code",
        "colab": {}
      },
      "source": [
        "# With initialization model trained for 5 epochs \n",
        "\n",
        "model = Word2Vec(sentences=df_sample.cleaned.tolist(), \n",
        "         size=100,      # embedding vector size\n",
        "         min_count=5,  # consider words that occured at least 5 times\n",
        "         window=5)"
      ],
      "execution_count": 0,
      "outputs": []
    },
    {
      "cell_type": "code",
      "metadata": {
        "id": "SeaNxedxy5Ia",
        "colab_type": "code",
        "outputId": "18ad76e7-b980-4d28-8b0a-4ef14e4058ae",
        "colab": {
          "base_uri": "https://localhost:8080/",
          "height": 34
        }
      },
      "source": [
        "# Continue training the model \n",
        "\n",
        "model.train(sentences=df_sample.cleaned.tolist(), \n",
        "            total_examples=model.corpus_count,\n",
        "            epochs=30\n",
        "           )"
      ],
      "execution_count": 19,
      "outputs": [
        {
          "output_type": "execute_result",
          "data": {
            "text/plain": [
              "(82086744, 92431950)"
            ]
          },
          "metadata": {
            "tags": []
          },
          "execution_count": 19
        }
      ]
    },
    {
      "cell_type": "code",
      "metadata": {
        "id": "UbMh162ey5Ic",
        "colab_type": "code",
        "colab": {}
      },
      "source": [
        "#model.wv.vocab # to look at vocabulary "
      ],
      "execution_count": 0,
      "outputs": []
    },
    {
      "cell_type": "code",
      "metadata": {
        "id": "-bbiPhsIy5Ie",
        "colab_type": "code",
        "outputId": "34475ed6-9f13-49e4-d0db-3c284c44af03",
        "colab": {
          "base_uri": "https://localhost:8080/",
          "height": 275
        }
      },
      "source": [
        "model.most_similar('people')"
      ],
      "execution_count": 21,
      "outputs": [
        {
          "output_type": "stream",
          "text": [
            "/usr/local/lib/python3.6/dist-packages/ipykernel_launcher.py:1: DeprecationWarning: Call to deprecated `most_similar` (Method will be removed in 4.0.0, use self.wv.most_similar() instead).\n",
            "  \"\"\"Entry point for launching an IPython kernel.\n",
            "/usr/local/lib/python3.6/dist-packages/gensim/matutils.py:737: FutureWarning: Conversion of the second argument of issubdtype from `int` to `np.signedinteger` is deprecated. In future, it will be treated as `np.int64 == np.dtype(int).type`.\n",
            "  if np.issubdtype(vec.dtype, np.int):\n"
          ],
          "name": "stderr"
        },
        {
          "output_type": "execute_result",
          "data": {
            "text/plain": [
              "[('others', 0.5986545085906982),\n",
              " ('person', 0.5860205888748169),\n",
              " ('thing', 0.5674659013748169),\n",
              " ('everyone', 0.5372220277786255),\n",
              " ('anyone', 0.5272269248962402),\n",
              " ('editor', 0.5035445690155029),\n",
              " ('admins', 0.4985858201980591),\n",
              " ('dont', 0.49634140729904175),\n",
              " ('someone', 0.4886704385280609),\n",
              " ('individual', 0.48421967029571533)]"
            ]
          },
          "metadata": {
            "tags": []
          },
          "execution_count": 21
        }
      ]
    },
    {
      "cell_type": "markdown",
      "metadata": {
        "id": "cEbDRIngy5Ig",
        "colab_type": "text"
      },
      "source": [
        "### The next approach is to try to use the already pretrained model, which can be downloaded from here:\n",
        "\n",
        "https://github.com/RaRe-Technologies/gensim-data\n",
        "\n",
        "model:   \n",
        "GoogleNews-vectors-negative300.bin"
      ]
    },
    {
      "cell_type": "code",
      "metadata": {
        "id": "SxDWkgoBy5Ih",
        "colab_type": "code",
        "outputId": "ec48a9ff-fc84-4eb5-aa20-ee706146acaf",
        "colab": {
          "base_uri": "https://localhost:8080/",
          "height": 71
        }
      },
      "source": [
        "model = KeyedVectors.load_word2vec_format(\"/content/drive/My Drive/GoogleNews-vectors-negative300.bin.gz\", binary=True)"
      ],
      "execution_count": 22,
      "outputs": [
        {
          "output_type": "stream",
          "text": [
            "/usr/local/lib/python3.6/dist-packages/smart_open/smart_open_lib.py:402: UserWarning: This function is deprecated, use smart_open.open instead. See the migration notes for details: https://github.com/RaRe-Technologies/smart_open/blob/master/README.rst#migrating-to-the-new-open-function\n",
            "  'See the migration notes for details: %s' % _MIGRATION_NOTES_URL\n"
          ],
          "name": "stderr"
        }
      ]
    },
    {
      "cell_type": "code",
      "metadata": {
        "id": "GmDQMF67y5Ii",
        "colab_type": "code",
        "colab": {}
      },
      "source": [
        "# You can try to use GloVe model too and experiment with it: \n",
        "#import gensim.downloader as api\n",
        "#model = api.load('glove-wiki-gigaword-100')"
      ],
      "execution_count": 0,
      "outputs": []
    },
    {
      "cell_type": "markdown",
      "metadata": {
        "id": "7OKzGlpcy5Ik",
        "colab_type": "text"
      },
      "source": [
        "## Words distance "
      ]
    },
    {
      "cell_type": "markdown",
      "metadata": {
        "id": "iMW-HaL8y5Il",
        "colab_type": "text"
      },
      "source": [
        "# 1 - Cosine similarity\n",
        "\n",
        "To measure how similar two words are, we need a way to measure the degree of similarity between two embedding vectors for the two words. Given two vectors $u$ and $v$, cosine similarity is defined as follows: \n",
        "\n",
        "$$\\text{CosineSimilarity(u, v)} = \\frac {u . v} {||u||_2 ||v||_2} = cos(\\theta) \\tag{1}$$\n",
        "\n",
        "where $u.v$ is the dot product (or inner product) of two vectors, $||u||_2$ is the norm (or length) of the vector $u$, and $\\theta$ is the angle between $u$ and $v$. This similarity depends on the angle between $u$ and $v$. If $u$ and $v$ are very similar, their cosine similarity will be close to 1; if they are dissimilar, the cosine similarity will take a smaller value. \n",
        "\n",
        "<img src=\"cosine_sim.png\" style=\"width:800px;height:250px;\">\n",
        "<caption><center> **Figure 1**: The cosine of the angle between two vectors is a measure of how similar they are</center></caption>\n",
        "\n",
        "**Exercise**: Implement the function `cosine_similarity()` to evaluate similarity between word vectors.\n",
        "\n",
        "**Reminder**: The norm of $u$ is defined as $ ||u||_2 = \\sqrt{\\sum_{i=1}^{n} u_i^2}$"
      ]
    },
    {
      "cell_type": "code",
      "metadata": {
        "id": "OUfMQwGJy5Il",
        "colab_type": "code",
        "colab": {}
      },
      "source": [
        "def cosine_similarity(w1, w2):\n",
        "    \"\"\"\n",
        "    Cosine similarity between w1 and w2\n",
        "    \n",
        "    Arguments:\n",
        "        w1 : word vector        \n",
        "        w2 : word vector \n",
        "    Returns:\n",
        "        cosine_similarity \n",
        "    \"\"\"\n",
        "    if (not np.any(w1) or not np.any(w2)): # check input is not zero-vector\n",
        "        return 0\n",
        "    \n",
        "    # Dot product between w1 and w2\n",
        "    dot = np.dot(w1, w2)\n",
        "    # L2 norm of w1\n",
        "    norm_u = np.linalg.norm(w1) \n",
        "    # L2 norm of w2 \n",
        "    norm_v = np.linalg.norm(w2) \n",
        "    # Cosine similarity \n",
        "    cosine_similarity = dot/(norm_u*norm_v)\n",
        "    \n",
        "    return cosine_similarity"
      ],
      "execution_count": 0,
      "outputs": []
    },
    {
      "cell_type": "code",
      "metadata": {
        "id": "PaYlcXnYy5In",
        "colab_type": "code",
        "outputId": "9651cfe3-9616-4198-fc96-13518ef94ca8",
        "colab": {
          "base_uri": "https://localhost:8080/",
          "height": 68
        }
      },
      "source": [
        "father = model.get_vector(\"father\")\n",
        "mother = model.get_vector(\"mother\")\n",
        "ball = model.get_vector(\"ball\")\n",
        "crocodile = model.get_vector(\"crocodile\")\n",
        "france = model.get_vector(\"france\")\n",
        "italy = model.get_vector(\"italy\")\n",
        "kiev = model.get_vector(\"kiev\")\n",
        "ukraine = model.get_vector(\"ukraine\")\n",
        "paris = model.get_vector(\"paris\")\n",
        "rome = model.get_vector(\"rome\")\n",
        "\n",
        "print(\"cosine_similarity(father, mother) = \", cosine_similarity(father, mother))\n",
        "print(\"cosine_similarity(ball, crocodile) = \",cosine_similarity(ball, crocodile))\n",
        "print(\"cosine_similarity(france - paris, rome - italy) = \",cosine_similarity(france - paris, rome - italy))"
      ],
      "execution_count": 25,
      "outputs": [
        {
          "output_type": "stream",
          "text": [
            "cosine_similarity(father, mother) =  0.79014826\n",
            "cosine_similarity(ball, crocodile) =  0.10283584\n",
            "cosine_similarity(france - paris, rome - italy) =  -0.1988747\n"
          ],
          "name": "stdout"
        }
      ]
    },
    {
      "cell_type": "markdown",
      "metadata": {
        "id": "H-OSK7Jhy5Ip",
        "colab_type": "text"
      },
      "source": [
        "**Approximate expected output**:\n",
        "\n",
        "<table>\n",
        "    <tr>\n",
        "        <td>\n",
        "            **cosine_similarity(father, mother)** =\n",
        "        </td>\n",
        "        <td>\n",
        "         0.79014826\n",
        "        </td>\n",
        "    </tr>\n",
        "        <tr>\n",
        "        <td>\n",
        "            **cosine_similarity(ball, crocodile)** =\n",
        "        </td>\n",
        "        <td>\n",
        "         0.10283585\n",
        "        </td>\n",
        "    </tr>\n",
        "        <tr>\n",
        "        <td>\n",
        "            **cosine_similarity(france - paris, rome - italy)** =\n",
        "        </td>\n",
        "        <td>\n",
        "         -0.421037\n",
        "        </td>\n",
        "    </tr>\n",
        "</table>"
      ]
    },
    {
      "cell_type": "markdown",
      "metadata": {
        "id": "xHffj4zAy5Iq",
        "colab_type": "text"
      },
      "source": [
        "## 2 - Word analogy task\n",
        "\n",
        "In the word analogy task, we complete the sentence <font color='brown'>\"*a* is to *b* as *c* is to **____**\"</font>. An example is <font color='brown'> '*man* is to *woman* as *king* is to *queen*' </font>. In detail, we are trying to find a word *d*, such that the associated word vectors $e_a, e_b, e_c, e_d$ are related in the following manner: $e_b - e_a \\approx e_d - e_c$. We will measure the similarity between $e_b - e_a$ and $e_d - e_c$ using cosine similarity. \n",
        "\n",
        "**Exercise**: Complete the code below to be able to perform word analogies!"
      ]
    },
    {
      "cell_type": "markdown",
      "metadata": {
        "id": "ZtGVcopHy5Iq",
        "colab_type": "text"
      },
      "source": [
        "***Note***: here you will need to complete a function in the sections, which are marked as:\n",
        "\n",
        "```\n",
        "# ----- Start ----- #\n",
        "Your code should be written in-between the lines\n",
        "# ------ End ------ #\n",
        "```\n"
      ]
    },
    {
      "cell_type": "code",
      "metadata": {
        "id": "GyYpDfuey5Ir",
        "colab_type": "code",
        "colab": {}
      },
      "source": [
        "def find_word_analogy(word_1, word_2, word_3, model):\n",
        "    \"\"\"\n",
        "    Finds the word to complete analogy (see explanation above): a is to b as c is to ____. \n",
        "    \n",
        "    Arguments:\n",
        "    word_1 -- a word, string\n",
        "    word_2 -- a word, string\n",
        "    word_3 -- a word, string\n",
        "    model -- word embeddings model \n",
        "    \n",
        "    Returns:\n",
        "    best_word --  the word such that v_1 - v_2 is close to v_best_word - v_3, as measured by cosine similarity\n",
        "    \"\"\"\n",
        "    \n",
        "    # convert words to lower case\n",
        "    word_1, word_2, word_3 = word_1.lower(), word_2.lower(), word_3.lower()\n",
        "    \n",
        "    # ----- Start ----- #\n",
        "    # Get the word embeddings v_a, v_b and v_c (≈1-3 lines)\n",
        "    e_1, e_2, e_3 = [model.get_vector(x) for x in [word_1, word_2, word_3]]\n",
        "    # ------ End ------ #\n",
        "    \n",
        "    words = list(model.vocab.keys())\n",
        "    max_cosine_sim = -100              # Initialize max_cosine_sim to a large negative number\n",
        "    best_word = None                   # Initialize best_word with None\n",
        "\n",
        "    # Loop over the whole word vector set\n",
        "    for w in words:  \n",
        "        e_j = model.get_vector(w)      \n",
        "        # to avoid best_word being one of the input words, skip them and continue iteration.\n",
        "        if w in [word_1, word_2, word_3] :\n",
        "            continue\n",
        "        \n",
        "        # ----- Start ----- #\n",
        "        # Compute cosine similarity between the vector (e_2 - e_1) and the vector ((w's vector) - e_3)\n",
        "        cosine_sim = cosine_similarity(e_2 - e_1, e_j - e_3)\n",
        "        \n",
        "        # If the cosine_sim is more than the max_cosine_sim seen so far,\n",
        "        # do not forget to set new max_cosine_sim to the current value and best_word as well\n",
        "        if cosine_sim > max_cosine_sim:\n",
        "            max_cosine_sim = cosine_sim\n",
        "            best_word = w\n",
        "        # ------ End ------ #\n",
        "        \n",
        "    return best_word"
      ],
      "execution_count": 0,
      "outputs": []
    },
    {
      "cell_type": "code",
      "metadata": {
        "id": "YLatB46Uy5Is",
        "colab_type": "code",
        "outputId": "9ec6ffe3-3527-4a76-c62f-a2be7b93dc46",
        "colab": {
          "base_uri": "https://localhost:8080/",
          "height": 85
        }
      },
      "source": [
        "triads_to_try = [('man', 'woman', 'king'), ('bad', 'good', 'sad'), ('man', 'woman', 'boy'), ('small', 'smaller', 'large')]\n",
        "for triad in triads_to_try:\n",
        "    print ('{} -> {} :: {} -> {}'.format( *triad, find_word_analogy(*triad,model)))"
      ],
      "execution_count": 27,
      "outputs": [
        {
          "output_type": "stream",
          "text": [
            "man -> woman :: king -> queen\n",
            "bad -> good :: sad -> wonderful\n",
            "man -> woman :: boy -> girl\n",
            "small -> smaller :: large -> larger\n"
          ],
          "name": "stdout"
        }
      ]
    },
    {
      "cell_type": "markdown",
      "metadata": {
        "id": "uDII0xzmy5Iu",
        "colab_type": "text"
      },
      "source": [
        "**Expected Output**:\n",
        "\n",
        "<table>\n",
        "    <tr>\n",
        "        <td>\n",
        "            **man -> woman** ::\n",
        "        </td>\n",
        "        <td>\n",
        "         king -> queen\n",
        "        </td>\n",
        "    </tr>\n",
        "        <tr>\n",
        "        <td>\n",
        "            **bad -> good** ::\n",
        "        </td>\n",
        "        <td>\n",
        "         sad -> wonderful\n",
        "        </td>\n",
        "    </tr>\n",
        "        <tr>\n",
        "        <td>\n",
        "            **man -> woman ** ::\n",
        "        </td>\n",
        "        <td>\n",
        "         boy -> girl\n",
        "        </td>\n",
        "    </tr>\n",
        "        <tr>\n",
        "        <td>\n",
        "            **small -> smaller ** ::\n",
        "        </td>\n",
        "        <td>\n",
        "         large -> larger\n",
        "        </td>\n",
        "    </tr>\n",
        "</table>"
      ]
    },
    {
      "cell_type": "markdown",
      "metadata": {
        "id": "IWXNLrX9y5Iu",
        "colab_type": "text"
      },
      "source": [
        "#### The next part of the task is to:  \n",
        "\n",
        "1. Train your own W2V model using the proposed method above. Use all of the tokens created after your preprocessing pipeline in the previous tasks. (deleting stop_words, punctuation, lowercasing, etc - play as you want).  \n",
        "2. Use obtained vectors to obtain text vectors using such pipeline: \n",
        "  1. For each word in a preprocessed text, get a word vector from the W2V model. \n",
        "  2. Add them together to obtain vectors for texts (sum them together, or get mean vector) \n",
        "3. Use obtained text vectors as a text representation to perform a text classification task.  \n",
        "   Proposed - use binary classification (for example: select only 'obscene' text and clean and try to distinguish them one from another)\n",
        "4. Calculate the metrics - TP, FP, FN, TN, precision, recall, F1 score, F2 score, accurary. \n"
      ]
    },
    {
      "cell_type": "code",
      "metadata": {
        "id": "dCLNM3xNy5Iv",
        "colab_type": "code",
        "colab": {}
      },
      "source": [
        "def preprocess_text(tokenizer, lemmatizer, stop_words, punctuation, text): \n",
        "    tokens = tokenizer(text.lower())\n",
        "    lemmas = [lemmatizer.lemmatize(token) for token in tokens]\n",
        "    return [token for token in lemmas if token not in stop_words and token not in punctuation and len(token) > 4 and len(token) < 20]\n",
        "\n",
        "df['cleaned'] = df.comment_text.apply(lambda x: preprocess_text(word_tokenize, lemmatizer, stop_words, punctuation, x))\n",
        "df_sample = df.sample(100000)"
      ],
      "execution_count": 0,
      "outputs": []
    },
    {
      "cell_type": "code",
      "metadata": {
        "id": "NIaDm6jSgjeD",
        "colab_type": "code",
        "outputId": "c5085536-8b6d-4300-fe01-86c7c77e4033",
        "colab": {
          "base_uri": "https://localhost:8080/",
          "height": 34
        }
      },
      "source": [
        "model = Word2Vec(sentences=df_sample.cleaned.tolist(), \n",
        "         size=300,\n",
        "         min_count=10,\n",
        "         window=5)\n",
        "\n",
        "model.train(sentences=df_sample.cleaned.tolist(), \n",
        "            total_examples=model.corpus_count,\n",
        "            epochs=40\n",
        "           )"
      ],
      "execution_count": 50,
      "outputs": [
        {
          "output_type": "execute_result",
          "data": {
            "text/plain": [
              "(80312063, 94525600)"
            ]
          },
          "metadata": {
            "tags": []
          },
          "execution_count": 50
        }
      ]
    },
    {
      "cell_type": "code",
      "metadata": {
        "id": "MKOCLjY3vaHZ",
        "colab_type": "code",
        "outputId": "6e537de9-5cee-4410-84bb-f05f3e006b78",
        "colab": {
          "base_uri": "https://localhost:8080/",
          "height": 119
        }
      },
      "source": [
        "from scipy.sparse import lil_matrix\n",
        "from sklearn.model_selection import train_test_split\n",
        "from sklearn.ensemble import RandomForestClassifier\n",
        "from collections import Counter\n",
        "\n",
        "def flat_nested(nested):\n",
        "    flatten = []\n",
        "    for item in nested:\n",
        "        if isinstance(item, list):\n",
        "            flatten.extend(item)\n",
        "        else:\n",
        "            flatten.append(item)\n",
        "    return flatten\n",
        "\n",
        "\n",
        "def get_vectors(series, model, weighted):\n",
        "    dim = len(model.wv['token'])\n",
        "    vectors = lil_matrix((series.size, dim))\n",
        "    if weighted == 0:\n",
        "        for i in range(series.size):\n",
        "            text = series.iloc[i]\n",
        "            vec = np.zeros(dim)\n",
        "            for token in text:\n",
        "                try:\n",
        "                    vec += model.wv[token]\n",
        "                except KeyError:\n",
        "                    continue\n",
        "            vectors[i] = vec\n",
        "    else:\n",
        "        cnt = Counter(flat_nested(series.apply(lambda x: list(set(x))).tolist()))\n",
        "        for i in range(series.size):\n",
        "            text = series.iloc[i]\n",
        "            vec = np.zeros(dim)\n",
        "            for token in text:\n",
        "                try:\n",
        "                    tf = float(text.count(token))/len(text)\n",
        "                    d = cnt[token]\n",
        "                    vec += model.wv[token]*tf*(np.log(float(1+series.size)/(1+d))+1)\n",
        "                except KeyError:\n",
        "                    continue\n",
        "            vectors[i] = vec\n",
        "\n",
        "    return vectors\n",
        "\n",
        "def score(pred,y):\n",
        "    TN = np.sum([(pred==y) & (y == 0)]) \n",
        "    TP = np.sum([(pred==y) & (y == 1)])\n",
        "    \n",
        "    FN = np.sum([(pred!=y) & (y == 1)])\n",
        "    FP = np.sum([(pred!=y) & (y == 0)])\n",
        "\n",
        "    return TN, TP, FN, FP\n",
        "\n",
        "def score_2(pred,y):\n",
        "    TN, TP, FN, FP = score(pred,y)\n",
        "    prec = TP/(FP+TP)\n",
        "    rec = TP/(TP+FN)\n",
        "    F1 = 2*TP/(2*TP + FP + FN)\n",
        "    F2 = 5*prec*rec/(4*prec + rec)\n",
        "    acc = (TP +TN)/(TN + TP + FN + FP)\n",
        "    lst = np.around([prec, rec, F1, F2, acc], decimals=2)\n",
        "    names = ['prec', 'rec', 'F1', 'F2', 'acc']\n",
        "    return dict(zip(names, lst))\n",
        "\n",
        "def print_scores(pred, y_test):\n",
        "    categories = ['toxic','severe_toxic','obscene','threat','insult','identity_hate']\n",
        "    mean = np.zeros(5)\n",
        "    for i in range(6):\n",
        "        print(categories[i], ':', score_2(pred.T[i], y_test.T[i]))\n",
        "        mean += np.array(list(score_2(pred.T[i], y_test.T[i]).values()))\n",
        "    return mean/6\n",
        "\n",
        "def fit_and_predict_knn(df, w2v_model, weighted):\n",
        "    train, test = train_test_split(df, random_state=1, test_size=0.25)\n",
        "    categories = ['toxic','severe_toxic','obscene','threat','insult','identity_hate']\n",
        "\n",
        "    x_train = get_vectors(train['cleaned'], w2v_model,  weighted).toarray()\n",
        "    x_test = get_vectors(test['cleaned'], w2v_model, weighted).toarray()\n",
        "    y_train = train[categories].values\n",
        "    y_test = test[categories].values\n",
        "\n",
        "    classifier = RandomForestClassifier()\n",
        "    classifier.fit(x_train,y_train)\n",
        "    predictions = classifier.predict(x_test)\n",
        "\n",
        "    scores = print_scores(predictions, y_test)\n",
        "\n",
        "    return predictions, scores\n",
        "\n",
        "preds_0, scores_0 = fit_and_predict_knn(df, model, 0)"
      ],
      "execution_count": 51,
      "outputs": [
        {
          "output_type": "stream",
          "text": [
            "toxic : {'prec': 0.85, 'rec': 0.29, 'F1': 0.43, 'F2': 0.33, 'acc': 0.93}\n",
            "severe_toxic : {'prec': 0.44, 'rec': 0.08, 'F1': 0.13, 'F2': 0.09, 'acc': 0.99}\n",
            "obscene : {'prec': 0.84, 'rec': 0.27, 'F1': 0.41, 'F2': 0.31, 'acc': 0.96}\n",
            "threat : {'prec': 0.38, 'rec': 0.02, 'F1': 0.04, 'F2': 0.03, 'acc': 1.0}\n",
            "insult : {'prec': 0.8, 'rec': 0.26, 'F1': 0.39, 'F2': 0.3, 'acc': 0.96}\n",
            "identity_hate : {'prec': 0.52, 'rec': 0.06, 'F1': 0.1, 'F2': 0.07, 'acc': 0.99}\n"
          ],
          "name": "stdout"
        }
      ]
    },
    {
      "cell_type": "markdown",
      "metadata": {
        "id": "oVk8texfy5Iw",
        "colab_type": "text"
      },
      "source": [
        "#### The second part of the task is: \n",
        "\n",
        "1. While performing a step 2 for text vectorization, for each word add its vector with tf-idf weight -> weighted average. \n",
        "2. Perform a same text classification task as it was required above. \n",
        "3. Calculate the metrics, compare with a vectorization approach without weightning. "
      ]
    },
    {
      "cell_type": "code",
      "metadata": {
        "id": "NKNkWEFiy5Ix",
        "colab_type": "code",
        "outputId": "9487d45e-2757-4bbe-f72a-e417c9f7b805",
        "colab": {
          "base_uri": "https://localhost:8080/",
          "height": 119
        }
      },
      "source": [
        "preds_1, scores_1 = fit_and_predict_knn(df, model, 1)"
      ],
      "execution_count": 52,
      "outputs": [
        {
          "output_type": "stream",
          "text": [
            "toxic : {'prec': 0.82, 'rec': 0.28, 'F1': 0.41, 'F2': 0.32, 'acc': 0.92}\n",
            "severe_toxic : {'prec': 0.51, 'rec': 0.08, 'F1': 0.13, 'F2': 0.09, 'acc': 0.99}\n",
            "obscene : {'prec': 0.83, 'rec': 0.26, 'F1': 0.4, 'F2': 0.31, 'acc': 0.96}\n",
            "threat : {'prec': 0.22, 'rec': 0.02, 'F1': 0.03, 'F2': 0.02, 'acc': 1.0}\n",
            "insult : {'prec': 0.78, 'rec': 0.25, 'F1': 0.38, 'F2': 0.29, 'acc': 0.96}\n",
            "identity_hate : {'prec': 0.54, 'rec': 0.07, 'F1': 0.12, 'F2': 0.08, 'acc': 0.99}\n"
          ],
          "name": "stdout"
        }
      ]
    },
    {
      "cell_type": "markdown",
      "metadata": {
        "id": "UocAue1Ly5Iz",
        "colab_type": "text"
      },
      "source": [
        "#### The third part of the task is: \n",
        "\n",
        "1. Use a pre-trained W2V model for obtaining a word vectors for each of the tokens in your dataset, create text vectors WITHOUT weightning. \n",
        "2. Train text classification model.\n",
        "3. Calculate the metrics."
      ]
    },
    {
      "cell_type": "code",
      "metadata": {
        "id": "rGtn12bZy5I0",
        "colab_type": "code",
        "outputId": "c42204cb-f75c-4856-ef48-2c858d334c8a",
        "colab": {
          "base_uri": "https://localhost:8080/",
          "height": 207
        }
      },
      "source": [
        "model = KeyedVectors.load_word2vec_format(\"/content/drive/My Drive/GoogleNews-vectors-negative300.bin.gz\", binary=True)\n",
        "preds_2, scores_2 = fit_and_predict_knn(df, model, 0)"
      ],
      "execution_count": 53,
      "outputs": [
        {
          "output_type": "stream",
          "text": [
            "/usr/local/lib/python3.6/dist-packages/smart_open/smart_open_lib.py:402: UserWarning: This function is deprecated, use smart_open.open instead. See the migration notes for details: https://github.com/RaRe-Technologies/smart_open/blob/master/README.rst#migrating-to-the-new-open-function\n",
            "  'See the migration notes for details: %s' % _MIGRATION_NOTES_URL\n",
            "/usr/local/lib/python3.6/dist-packages/ipykernel_launcher.py:17: DeprecationWarning: Call to deprecated `wv` (Attribute will be removed in 4.0.0, use self instead).\n",
            "/usr/local/lib/python3.6/dist-packages/ipykernel_launcher.py:25: DeprecationWarning: Call to deprecated `wv` (Attribute will be removed in 4.0.0, use self instead).\n"
          ],
          "name": "stderr"
        },
        {
          "output_type": "stream",
          "text": [
            "toxic : {'prec': 0.86, 'rec': 0.23, 'F1': 0.37, 'F2': 0.27, 'acc': 0.92}\n",
            "severe_toxic : {'prec': 0.4, 'rec': 0.07, 'F1': 0.12, 'F2': 0.08, 'acc': 0.99}\n",
            "obscene : {'prec': 0.84, 'rec': 0.22, 'F1': 0.36, 'F2': 0.26, 'acc': 0.96}\n",
            "threat : {'prec': 0.44, 'rec': 0.03, 'F1': 0.06, 'F2': 0.04, 'acc': 1.0}\n",
            "insult : {'prec': 0.79, 'rec': 0.21, 'F1': 0.33, 'F2': 0.25, 'acc': 0.96}\n",
            "identity_hate : {'prec': 0.53, 'rec': 0.05, 'F1': 0.1, 'F2': 0.07, 'acc': 0.99}\n"
          ],
          "name": "stdout"
        }
      ]
    },
    {
      "cell_type": "markdown",
      "metadata": {
        "id": "3t5Pdto-y5I1",
        "colab_type": "text"
      },
      "source": [
        "#### The fourth part of the task is: \n",
        "\n",
        "1. Use a pre-trained W2V model for obtaining a word vectors for each of the tokens in your dataset, create text vectors WITH tf-idf weightning. \n",
        "2. Train a text classification model. \n",
        "3. Calculate the metrics. "
      ]
    },
    {
      "cell_type": "code",
      "metadata": {
        "id": "RSjrlyg9y5I2",
        "colab_type": "code",
        "outputId": "7112b3aa-c18a-46a9-eb70-8c33e90bb981",
        "colab": {
          "base_uri": "https://localhost:8080/",
          "height": 153
        }
      },
      "source": [
        "preds_3, scores_3 = fit_and_predict_knn(df, model, 1)"
      ],
      "execution_count": 54,
      "outputs": [
        {
          "output_type": "stream",
          "text": [
            "/usr/local/lib/python3.6/dist-packages/ipykernel_launcher.py:17: DeprecationWarning: Call to deprecated `wv` (Attribute will be removed in 4.0.0, use self instead).\n",
            "/usr/local/lib/python3.6/dist-packages/ipykernel_launcher.py:38: DeprecationWarning: Call to deprecated `wv` (Attribute will be removed in 4.0.0, use self instead).\n"
          ],
          "name": "stderr"
        },
        {
          "output_type": "stream",
          "text": [
            "toxic : {'prec': 0.8, 'rec': 0.23, 'F1': 0.36, 'F2': 0.27, 'acc': 0.92}\n",
            "severe_toxic : {'prec': 0.45, 'rec': 0.06, 'F1': 0.11, 'F2': 0.08, 'acc': 0.99}\n",
            "obscene : {'prec': 0.86, 'rec': 0.22, 'F1': 0.35, 'F2': 0.26, 'acc': 0.96}\n",
            "threat : {'prec': 0.33, 'rec': 0.02, 'F1': 0.04, 'F2': 0.03, 'acc': 1.0}\n",
            "insult : {'prec': 0.78, 'rec': 0.21, 'F1': 0.33, 'F2': 0.24, 'acc': 0.96}\n",
            "identity_hate : {'prec': 0.57, 'rec': 0.07, 'F1': 0.12, 'F2': 0.08, 'acc': 0.99}\n"
          ],
          "name": "stdout"
        }
      ]
    },
    {
      "cell_type": "markdown",
      "metadata": {
        "id": "cdeNwr6Py5I3",
        "colab_type": "text"
      },
      "source": [
        "### Visualizations part "
      ]
    },
    {
      "cell_type": "markdown",
      "metadata": {
        "id": "KeuAevBpy5I4",
        "colab_type": "text"
      },
      "source": [
        "Use dimentionality reduction methods such as t-SNE or PCA to make your 300 dim vectors available for 2D plotting. \n",
        "\n",
        "Select top (10-20) words for each cathegory BY TF-IDF SCORE, not counts!!! \n",
        "\n",
        "Plot on the ONE plot all of this words but colors must be different for top-words for obscene cathegory, clean, toxic, etc... \n",
        "\n",
        "See, if words from one cathegory are closer to each other than to others. \n",
        "Or you observe ~2 clusters: all of the toxic words, clean words.  \n",
        "Explain what you see and why. \n"
      ]
    },
    {
      "cell_type": "code",
      "metadata": {
        "id": "nY0rILZ5y5I4",
        "colab_type": "code",
        "outputId": "5948682d-3b38-4af5-fa1a-e932332399b3",
        "colab": {
          "base_uri": "https://localhost:8080/",
          "height": 1000
        }
      },
      "source": [
        "from sklearn.decomposition import PCA\n",
        "from collections import Counter\n",
        "from sklearn.feature_extraction.text import TfidfVectorizer\n",
        "import matplotlib.pyplot as plt\n",
        "%matplotlib inline\n",
        "\n",
        "model = KeyedVectors.load_word2vec_format(\"/content/drive/My Drive/GoogleNews-vectors-negative300.bin.gz\", binary=True)\n",
        "categories = ['toxic','severe_toxic','obscene','threat','insult','identity_hate']\n",
        "\n",
        "def flat_nested(nested):\n",
        "    flatten = []\n",
        "    for item in nested:\n",
        "        if isinstance(item, list):\n",
        "            flatten.extend(item)\n",
        "        else:\n",
        "            flatten.append(item)\n",
        "    return flatten\n",
        "\n",
        "def get_top(category, sample_size, df, model):\n",
        "\n",
        "    temp = pd.DataFrame(df.sample(sample_size))\n",
        "    if category == 0: \n",
        "        for c in categories:\n",
        "            temp = temp[temp[c] == 0]\n",
        "    else:\n",
        "        temp = temp[temp[category] != 0]\n",
        "    cnt_vocab = Counter(flat_nested(temp.cleaned.tolist()))\n",
        "    cleaned_vocab = [token for token, count in cnt_vocab.items() if count > 10 and len(token) > 4 and len(token) < 20]  \n",
        "\n",
        "    vectorizer = TfidfVectorizer(vocabulary = cleaned_vocab)\n",
        "    pca = PCA(n_components=2)\n",
        "\n",
        "    tfidf = vectorizer.fit_transform(temp.cleaned.str.join(' '))\n",
        "    feature_array = np.array(vectorizer.get_feature_names())\n",
        "    tfidf_sorting = np.argsort(tfidf.toarray()).flatten()[::-1]\n",
        "\n",
        "    top_40 = feature_array[tfidf_sorting][:40]\n",
        "    del tfidf, tfidf_sorting, feature_array\n",
        "\n",
        "    vecs = []\n",
        "    for token in top_40:\n",
        "        try:\n",
        "            vecs.append(model.wv[token])\n",
        "        except:\n",
        "            continue    \n",
        "    vecs = np.array(vecs)\n",
        "    pca.fit(vecs)\n",
        "    vecs = pca.transform(vecs)\n",
        "    return vecs\n",
        "vecs =  get_top(0, 20000, df, model)\n",
        "\n",
        "\n",
        "fig, axes = plt.subplots(6, figsize=(8,20))\n",
        "\n",
        "for i in range(6):\n",
        "    c = categories[i]\n",
        "    vecs1 =  get_top(c, 100000, df, model)\n",
        "    axes[i].scatter(vecs.T[0],vecs.T[1], c = 'green', label = 'clean')\n",
        "    axes[i].scatter(vecs1.T[0],vecs1.T[1], c = 'red', label = c)\n",
        "    axes[i].legend()\n",
        "\n",
        "plt.show()"
      ],
      "execution_count": 58,
      "outputs": [
        {
          "output_type": "stream",
          "text": [
            "/usr/local/lib/python3.6/dist-packages/smart_open/smart_open_lib.py:402: UserWarning: This function is deprecated, use smart_open.open instead. See the migration notes for details: https://github.com/RaRe-Technologies/smart_open/blob/master/README.rst#migrating-to-the-new-open-function\n",
            "  'See the migration notes for details: %s' % _MIGRATION_NOTES_URL\n",
            "/usr/local/lib/python3.6/dist-packages/ipykernel_launcher.py:43: DeprecationWarning: Call to deprecated `wv` (Attribute will be removed in 4.0.0, use self instead).\n",
            "/usr/local/lib/python3.6/dist-packages/ipykernel_launcher.py:43: DeprecationWarning: Call to deprecated `wv` (Attribute will be removed in 4.0.0, use self instead).\n",
            "/usr/local/lib/python3.6/dist-packages/ipykernel_launcher.py:43: DeprecationWarning: Call to deprecated `wv` (Attribute will be removed in 4.0.0, use self instead).\n",
            "/usr/local/lib/python3.6/dist-packages/ipykernel_launcher.py:43: DeprecationWarning: Call to deprecated `wv` (Attribute will be removed in 4.0.0, use self instead).\n",
            "/usr/local/lib/python3.6/dist-packages/ipykernel_launcher.py:43: DeprecationWarning: Call to deprecated `wv` (Attribute will be removed in 4.0.0, use self instead).\n",
            "/usr/local/lib/python3.6/dist-packages/ipykernel_launcher.py:43: DeprecationWarning: Call to deprecated `wv` (Attribute will be removed in 4.0.0, use self instead).\n",
            "/usr/local/lib/python3.6/dist-packages/ipykernel_launcher.py:43: DeprecationWarning: Call to deprecated `wv` (Attribute will be removed in 4.0.0, use self instead).\n"
          ],
          "name": "stderr"
        },
        {
          "output_type": "display_data",
          "data": {
            "image/png": "[encoded data removed]",
            "text/plain": [
              "<Figure size 576x1440 with 6 Axes>"
            ]
          },
          "metadata": {
            "tags": []
          }
        }
      ]
    },
    {
      "cell_type": "markdown",
      "metadata": {
        "id": "DdBDPVisAZ9M",
        "colab_type": "text"
      },
      "source": [
        "We can see that toxic and clean comments are stacked in different clusters. \n",
        "This behavior is due to the fact that exists difference beetween word classes.  "
      ]
    },
    {
      "cell_type": "markdown",
      "metadata": {
        "id": "-6AJy5dHy5I6",
        "colab_type": "text"
      },
      "source": [
        "### Additional part: \n",
        "\n",
        "1. Find a pre-trained FastText vetors, understand it's difference from W2V vectors. \n",
        "2. Vectorize all of your texts using FT model, perform a text classification, calculate the metrics, compare with W2V approach. \n",
        "\n",
        "Or/And you can:\n",
        "\n",
        "1. Train your own FT model and make the same. \n",
        "2. Compare it with previous approaches."
      ]
    },
    {
      "cell_type": "code",
      "metadata": {
        "id": "V2ftGdFJy5I6",
        "colab_type": "code",
        "colab": {}
      },
      "source": [
        "### Your code here "
      ],
      "execution_count": 0,
      "outputs": []
    },
    {
      "cell_type": "markdown",
      "metadata": {
        "id": "IqyQjQoZy5I8",
        "colab_type": "text"
      },
      "source": [
        "### Conclusions: \n",
        "\n",
        "Please, provide a clear table or dataframe with all of the metrics for all of the trained/used models available.   \n",
        "\n",
        "Compare them to each other.   \n",
        "\n",
        "Make conclusions which one from your models worked better for this particular task.   \n",
        "BE CAREFUL: Having a better model performance on this particular task does not matter that this model is better than others in GENERAL. You need to make your own conclusions about this particular model applied to this particular task. Please, think and understand WHY.   \n",
        "Write your thoughts down below: \n",
        "\n"
      ]
    },
    {
      "cell_type": "code",
      "metadata": {
        "id": "6vBSmDBny5I8",
        "colab_type": "code",
        "colab": {
          "base_uri": "https://localhost:8080/",
          "height": 204
        },
        "outputId": "22fd3f10-5c7c-4ef1-9995-4dd04746f136"
      },
      "source": [
        "metr = ['prec', 'rec', 'F1', 'F2', 'acc']\n",
        "cols = ['metric','trained_from_scratch_not_weighted', 'trained_from_scratch_weighted', 'pretrained_not_weigted', 'pretrained_weigted']\n",
        "arr = np.array([metr,scores_0,scores_1,scores_2,scores_3])\n",
        "res = pd.DataFrame(dict(zip(cols,arr)))\n",
        "res[cols[1:]] = res[cols[1:]].astype('float').round(2)\n",
        "res"
      ],
      "execution_count": 57,
      "outputs": [
        {
          "output_type": "execute_result",
          "data": {
            "text/html": [
              "<div>\n",
              "<style scoped>\n",
              "    .dataframe tbody tr th:only-of-type {\n",
              "        vertical-align: middle;\n",
              "    }\n",
              "\n",
              "    .dataframe tbody tr th {\n",
              "        vertical-align: top;\n",
              "    }\n",
              "\n",
              "    .dataframe thead th {\n",
              "        text-align: right;\n",
              "    }\n",
              "</style>\n",
              "<table border=\"1\" class=\"dataframe\">\n",
              "  <thead>\n",
              "    <tr style=\"text-align: right;\">\n",
              "      <th></th>\n",
              "      <th>metric</th>\n",
              "      <th>trained_from_scratch_not_weighted</th>\n",
              "      <th>trained_from_scratch_weighted</th>\n",
              "      <th>pretrained_not_weigted</th>\n",
              "      <th>pretrained_weigted</th>\n",
              "    </tr>\n",
              "  </thead>\n",
              "  <tbody>\n",
              "    <tr>\n",
              "      <th>0</th>\n",
              "      <td>prec</td>\n",
              "      <td>0.64</td>\n",
              "      <td>0.62</td>\n",
              "      <td>0.64</td>\n",
              "      <td>0.63</td>\n",
              "    </tr>\n",
              "    <tr>\n",
              "      <th>1</th>\n",
              "      <td>rec</td>\n",
              "      <td>0.16</td>\n",
              "      <td>0.16</td>\n",
              "      <td>0.14</td>\n",
              "      <td>0.14</td>\n",
              "    </tr>\n",
              "    <tr>\n",
              "      <th>2</th>\n",
              "      <td>F1</td>\n",
              "      <td>0.25</td>\n",
              "      <td>0.25</td>\n",
              "      <td>0.22</td>\n",
              "      <td>0.22</td>\n",
              "    </tr>\n",
              "    <tr>\n",
              "      <th>3</th>\n",
              "      <td>F2</td>\n",
              "      <td>0.19</td>\n",
              "      <td>0.19</td>\n",
              "      <td>0.16</td>\n",
              "      <td>0.16</td>\n",
              "    </tr>\n",
              "    <tr>\n",
              "      <th>4</th>\n",
              "      <td>acc</td>\n",
              "      <td>0.97</td>\n",
              "      <td>0.97</td>\n",
              "      <td>0.97</td>\n",
              "      <td>0.97</td>\n",
              "    </tr>\n",
              "  </tbody>\n",
              "</table>\n",
              "</div>"
            ],
            "text/plain": [
              "  metric  ...  pretrained_weigted\n",
              "0   prec  ...                0.63\n",
              "1    rec  ...                0.14\n",
              "2     F1  ...                0.22\n",
              "3     F2  ...                0.16\n",
              "4    acc  ...                0.97\n",
              "\n",
              "[5 rows x 5 columns]"
            ]
          },
          "metadata": {
            "tags": []
          },
          "execution_count": 57
        }
      ]
    },
    {
      "cell_type": "markdown",
      "metadata": {
        "id": "X7h1kxQFU_cw",
        "colab_type": "text"
      },
      "source": [
        "All models worked nearly the same, high accuracy with low precision and recall. Of course, if one model works good for one task, that doesn't mean that it will work properly for another task, in each task scientist have to analyse dataset and make proper decisions with making features. "
      ]
    }
  ]
}