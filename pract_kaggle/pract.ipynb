{
 "cells": [
  {
   "cell_type": "code",
   "execution_count": 7,
   "metadata": {},
   "outputs": [],
   "source": [
    "import pandas as pd \n",
    "import numpy as np \n",
    "from sklearn.linear_model import LogisticRegression\n",
    "from sklearn.neighbors import KNeighborsClassifier\n",
    "from sklearn.ensemble import RandomForestClassifier\n",
    "from sklearn.svm import SVC\n",
    "from sklearn.naive_bayes import GaussianNB\n",
    "from sklearn.feature_extraction.text import TfidfTransformer\n",
    "from sklearn.feature_extraction.text import CountVectorizer\n",
    "from string import punctuation\n",
    "from nltk.tokenize import word_tokenize\n",
    "from nltk.corpus import stopwords\n",
    "from nltk.stem import WordNetLemmatizer \n",
    "from sklearn.feature_extraction.text import TfidfTransformer\n",
    "from sklearn.feature_extraction.text import CountVectorizer\n",
    "import spacy\n",
    "from nltk.corpus import wordnet\n",
    "import re"
   ]
  },
  {
   "cell_type": "code",
   "execution_count": 8,
   "metadata": {},
   "outputs": [],
   "source": [
    "df_ss = pd.read_csv(\"sample_submission.csv\")"
   ]
  },
  {
   "cell_type": "code",
   "execution_count": 9,
   "metadata": {},
   "outputs": [],
   "source": [
    "df_train = pd.read_csv(\"train.csv\")"
   ]
  },
  {
   "cell_type": "code",
   "execution_count": 10,
   "metadata": {},
   "outputs": [],
   "source": [
    "df_test = pd.read_csv(\"test.csv\")"
   ]
  },
  {
   "cell_type": "code",
   "execution_count": 11,
   "metadata": {},
   "outputs": [
    {
     "data": {
      "text/html": [
       "<div>\n",
       "<style scoped>\n",
       "    .dataframe tbody tr th:only-of-type {\n",
       "        vertical-align: middle;\n",
       "    }\n",
       "\n",
       "    .dataframe tbody tr th {\n",
       "        vertical-align: top;\n",
       "    }\n",
       "\n",
       "    .dataframe thead th {\n",
       "        text-align: right;\n",
       "    }\n",
       "</style>\n",
       "<table border=\"1\" class=\"dataframe\">\n",
       "  <thead>\n",
       "    <tr style=\"text-align: right;\">\n",
       "      <th></th>\n",
       "      <th>example_id</th>\n",
       "      <th>text</th>\n",
       "      <th>label</th>\n",
       "    </tr>\n",
       "  </thead>\n",
       "  <tbody>\n",
       "    <tr>\n",
       "      <th>0</th>\n",
       "      <td>140d03eabb7cb5c2558605eb8336689c</td>\n",
       "      <td>brandpost best of both worlds hybrid onsite an...</td>\n",
       "      <td>0</td>\n",
       "    </tr>\n",
       "    <tr>\n",
       "      <th>1</th>\n",
       "      <td>f7f1f906c9e2b76e63020f8794516185</td>\n",
       "      <td>$mention$ they shall in all cases except treas...</td>\n",
       "      <td>0</td>\n",
       "    </tr>\n",
       "    <tr>\n",
       "      <th>2</th>\n",
       "      <td>39f0b2ebc12e008a7a43ec318d0c3874</td>\n",
       "      <td>lifelock offers to protect you from the equifa...</td>\n",
       "      <td>0</td>\n",
       "    </tr>\n",
       "    <tr>\n",
       "      <th>3</th>\n",
       "      <td>ad4e57c69f00548253cb6d47b15c3ce4</td>\n",
       "      <td>skimmer adware spent two months in google play...</td>\n",
       "      <td>1</td>\n",
       "    </tr>\n",
       "    <tr>\n",
       "      <th>4</th>\n",
       "      <td>236bfe8f2f145dbcf17be122546946db</td>\n",
       "      <td>just want to love and be loved</td>\n",
       "      <td>0</td>\n",
       "    </tr>\n",
       "  </tbody>\n",
       "</table>\n",
       "</div>"
      ],
      "text/plain": [
       "                         example_id  \\\n",
       "0  140d03eabb7cb5c2558605eb8336689c   \n",
       "1  f7f1f906c9e2b76e63020f8794516185   \n",
       "2  39f0b2ebc12e008a7a43ec318d0c3874   \n",
       "3  ad4e57c69f00548253cb6d47b15c3ce4   \n",
       "4  236bfe8f2f145dbcf17be122546946db   \n",
       "\n",
       "                                                text  label  \n",
       "0  brandpost best of both worlds hybrid onsite an...      0  \n",
       "1  $mention$ they shall in all cases except treas...      0  \n",
       "2  lifelock offers to protect you from the equifa...      0  \n",
       "3  skimmer adware spent two months in google play...      1  \n",
       "4                     just want to love and be loved      0  "
      ]
     },
     "execution_count": 11,
     "metadata": {},
     "output_type": "execute_result"
    }
   ],
   "source": [
    "df_train.head()"
   ]
  },
  {
   "cell_type": "code",
   "execution_count": 12,
   "metadata": {},
   "outputs": [
    {
     "data": {
      "text/plain": [
       "(1189, 3)"
      ]
     },
     "execution_count": 12,
     "metadata": {},
     "output_type": "execute_result"
    }
   ],
   "source": [
    "df_train.shape"
   ]
  },
  {
   "cell_type": "code",
   "execution_count": 13,
   "metadata": {},
   "outputs": [
    {
     "data": {
      "text/html": [
       "<div>\n",
       "<style scoped>\n",
       "    .dataframe tbody tr th:only-of-type {\n",
       "        vertical-align: middle;\n",
       "    }\n",
       "\n",
       "    .dataframe tbody tr th {\n",
       "        vertical-align: top;\n",
       "    }\n",
       "\n",
       "    .dataframe thead th {\n",
       "        text-align: right;\n",
       "    }\n",
       "</style>\n",
       "<table border=\"1\" class=\"dataframe\">\n",
       "  <thead>\n",
       "    <tr style=\"text-align: right;\">\n",
       "      <th></th>\n",
       "      <th>example_id</th>\n",
       "      <th>text</th>\n",
       "    </tr>\n",
       "  </thead>\n",
       "  <tbody>\n",
       "    <tr>\n",
       "      <th>0</th>\n",
       "      <td>24bf52cc84b75bce8ee9c0cdd0b5117f</td>\n",
       "      <td>phishing heads to the cloud forbes $url$ cloud</td>\n",
       "    </tr>\n",
       "    <tr>\n",
       "      <th>1</th>\n",
       "      <td>708cc462eca0c274bcff304bbc4396f8</td>\n",
       "      <td>Sports Direct Failed to Tell Staff of Data Bre...</td>\n",
       "    </tr>\n",
       "    <tr>\n",
       "      <th>2</th>\n",
       "      <td>c5da1d371af9525d2fc2174311e3dae4</td>\n",
       "      <td>understanding vulnerability through humanright...</td>\n",
       "    </tr>\n",
       "    <tr>\n",
       "      <th>3</th>\n",
       "      <td>844f5f5be464a0600891ac6b8c1a1afd</td>\n",
       "      <td>cussword manager onelogin hit by data breach $...</td>\n",
       "    </tr>\n",
       "    <tr>\n",
       "      <th>4</th>\n",
       "      <td>97daba48c36db68f3e84ebcbf8952aa2</td>\n",
       "      <td>vuln multiple flexense products cve20177310 bu...</td>\n",
       "    </tr>\n",
       "  </tbody>\n",
       "</table>\n",
       "</div>"
      ],
      "text/plain": [
       "                         example_id  \\\n",
       "0  24bf52cc84b75bce8ee9c0cdd0b5117f   \n",
       "1  708cc462eca0c274bcff304bbc4396f8   \n",
       "2  c5da1d371af9525d2fc2174311e3dae4   \n",
       "3  844f5f5be464a0600891ac6b8c1a1afd   \n",
       "4  97daba48c36db68f3e84ebcbf8952aa2   \n",
       "\n",
       "                                                text  \n",
       "0     phishing heads to the cloud forbes $url$ cloud  \n",
       "1  Sports Direct Failed to Tell Staff of Data Bre...  \n",
       "2  understanding vulnerability through humanright...  \n",
       "3  cussword manager onelogin hit by data breach $...  \n",
       "4  vuln multiple flexense products cve20177310 bu...  "
      ]
     },
     "execution_count": 13,
     "metadata": {},
     "output_type": "execute_result"
    }
   ],
   "source": [
    "df_test.head()"
   ]
  },
  {
   "cell_type": "code",
   "execution_count": 14,
   "metadata": {},
   "outputs": [
    {
     "data": {
      "text/plain": [
       "(786, 2)"
      ]
     },
     "execution_count": 14,
     "metadata": {},
     "output_type": "execute_result"
    }
   ],
   "source": [
    "df_test.shape"
   ]
  },
  {
   "cell_type": "code",
   "execution_count": 15,
   "metadata": {},
   "outputs": [
    {
     "data": {
      "text/html": [
       "<div>\n",
       "<style scoped>\n",
       "    .dataframe tbody tr th:only-of-type {\n",
       "        vertical-align: middle;\n",
       "    }\n",
       "\n",
       "    .dataframe tbody tr th {\n",
       "        vertical-align: top;\n",
       "    }\n",
       "\n",
       "    .dataframe thead th {\n",
       "        text-align: right;\n",
       "    }\n",
       "</style>\n",
       "<table border=\"1\" class=\"dataframe\">\n",
       "  <thead>\n",
       "    <tr style=\"text-align: right;\">\n",
       "      <th></th>\n",
       "      <th>example_id</th>\n",
       "      <th>label</th>\n",
       "    </tr>\n",
       "  </thead>\n",
       "  <tbody>\n",
       "    <tr>\n",
       "      <th>0</th>\n",
       "      <td>24bf52cc84b75bce8ee9c0cdd0b5117f</td>\n",
       "      <td>False</td>\n",
       "    </tr>\n",
       "    <tr>\n",
       "      <th>1</th>\n",
       "      <td>708cc462eca0c274bcff304bbc4396f8</td>\n",
       "      <td>False</td>\n",
       "    </tr>\n",
       "    <tr>\n",
       "      <th>2</th>\n",
       "      <td>c5da1d371af9525d2fc2174311e3dae4</td>\n",
       "      <td>False</td>\n",
       "    </tr>\n",
       "    <tr>\n",
       "      <th>3</th>\n",
       "      <td>844f5f5be464a0600891ac6b8c1a1afd</td>\n",
       "      <td>False</td>\n",
       "    </tr>\n",
       "    <tr>\n",
       "      <th>4</th>\n",
       "      <td>97daba48c36db68f3e84ebcbf8952aa2</td>\n",
       "      <td>True</td>\n",
       "    </tr>\n",
       "  </tbody>\n",
       "</table>\n",
       "</div>"
      ],
      "text/plain": [
       "                         example_id  label\n",
       "0  24bf52cc84b75bce8ee9c0cdd0b5117f  False\n",
       "1  708cc462eca0c274bcff304bbc4396f8  False\n",
       "2  c5da1d371af9525d2fc2174311e3dae4  False\n",
       "3  844f5f5be464a0600891ac6b8c1a1afd  False\n",
       "4  97daba48c36db68f3e84ebcbf8952aa2   True"
      ]
     },
     "execution_count": 15,
     "metadata": {},
     "output_type": "execute_result"
    }
   ],
   "source": [
    "df_ss.head()"
   ]
  },
  {
   "cell_type": "code",
   "execution_count": 16,
   "metadata": {},
   "outputs": [
    {
     "data": {
      "text/plain": [
       "(786, 2)"
      ]
     },
     "execution_count": 16,
     "metadata": {},
     "output_type": "execute_result"
    }
   ],
   "source": [
    "df_ss.shape"
   ]
  },
  {
   "cell_type": "code",
   "execution_count": 17,
   "metadata": {},
   "outputs": [],
   "source": [
    "df_outer = df_test.merge(df_ss, how = 'outer')"
   ]
  },
  {
   "cell_type": "code",
   "execution_count": 18,
   "metadata": {},
   "outputs": [
    {
     "data": {
      "text/html": [
       "<div>\n",
       "<style scoped>\n",
       "    .dataframe tbody tr th:only-of-type {\n",
       "        vertical-align: middle;\n",
       "    }\n",
       "\n",
       "    .dataframe tbody tr th {\n",
       "        vertical-align: top;\n",
       "    }\n",
       "\n",
       "    .dataframe thead th {\n",
       "        text-align: right;\n",
       "    }\n",
       "</style>\n",
       "<table border=\"1\" class=\"dataframe\">\n",
       "  <thead>\n",
       "    <tr style=\"text-align: right;\">\n",
       "      <th></th>\n",
       "      <th>example_id</th>\n",
       "      <th>text</th>\n",
       "      <th>label</th>\n",
       "    </tr>\n",
       "  </thead>\n",
       "  <tbody>\n",
       "    <tr>\n",
       "      <th>0</th>\n",
       "      <td>24bf52cc84b75bce8ee9c0cdd0b5117f</td>\n",
       "      <td>phishing heads to the cloud forbes $url$ cloud</td>\n",
       "      <td>False</td>\n",
       "    </tr>\n",
       "    <tr>\n",
       "      <th>1</th>\n",
       "      <td>708cc462eca0c274bcff304bbc4396f8</td>\n",
       "      <td>Sports Direct Failed to Tell Staff of Data Bre...</td>\n",
       "      <td>False</td>\n",
       "    </tr>\n",
       "    <tr>\n",
       "      <th>2</th>\n",
       "      <td>c5da1d371af9525d2fc2174311e3dae4</td>\n",
       "      <td>understanding vulnerability through humanright...</td>\n",
       "      <td>False</td>\n",
       "    </tr>\n",
       "    <tr>\n",
       "      <th>3</th>\n",
       "      <td>844f5f5be464a0600891ac6b8c1a1afd</td>\n",
       "      <td>cussword manager onelogin hit by data breach $...</td>\n",
       "      <td>False</td>\n",
       "    </tr>\n",
       "    <tr>\n",
       "      <th>4</th>\n",
       "      <td>97daba48c36db68f3e84ebcbf8952aa2</td>\n",
       "      <td>vuln multiple flexense products cve20177310 bu...</td>\n",
       "      <td>True</td>\n",
       "    </tr>\n",
       "  </tbody>\n",
       "</table>\n",
       "</div>"
      ],
      "text/plain": [
       "                         example_id  \\\n",
       "0  24bf52cc84b75bce8ee9c0cdd0b5117f   \n",
       "1  708cc462eca0c274bcff304bbc4396f8   \n",
       "2  c5da1d371af9525d2fc2174311e3dae4   \n",
       "3  844f5f5be464a0600891ac6b8c1a1afd   \n",
       "4  97daba48c36db68f3e84ebcbf8952aa2   \n",
       "\n",
       "                                                text  label  \n",
       "0     phishing heads to the cloud forbes $url$ cloud  False  \n",
       "1  Sports Direct Failed to Tell Staff of Data Bre...  False  \n",
       "2  understanding vulnerability through humanright...  False  \n",
       "3  cussword manager onelogin hit by data breach $...  False  \n",
       "4  vuln multiple flexense products cve20177310 bu...   True  "
      ]
     },
     "execution_count": 18,
     "metadata": {},
     "output_type": "execute_result"
    }
   ],
   "source": [
    "df_outer.head()"
   ]
  },
  {
   "cell_type": "code",
   "execution_count": 19,
   "metadata": {},
   "outputs": [
    {
     "data": {
      "text/plain": [
       "(786, 3)"
      ]
     },
     "execution_count": 19,
     "metadata": {},
     "output_type": "execute_result"
    }
   ],
   "source": [
    "df_outer.shape"
   ]
  },
  {
   "cell_type": "code",
   "execution_count": 20,
   "metadata": {},
   "outputs": [
    {
     "data": {
      "text/plain": [
       "(1966, 3)"
      ]
     },
     "execution_count": 20,
     "metadata": {},
     "output_type": "execute_result"
    }
   ],
   "source": [
    "df_all = df_train.merge(df_outer, how = 'outer')# для создания общего словаря объединяем data frames\n",
    "df_all.shape# 9 совпадающих сообщений в train test"
   ]
  },
  {
   "cell_type": "code",
   "execution_count": 21,
   "metadata": {},
   "outputs": [],
   "source": [
    "#functons\n",
    "stop_words=set(stopwords.words(\"english\"))\n",
    "lemmatizer = WordNetLemmatizer()\n",
    "nlp = spacy.load(\"en_core_web_sm\", disable=[\"parser\", \"ner\"])\n",
    "def lemmatization(texts, allowed_postags=['NOUN', 'ADJ', 'VERB', 'ADV']):\n",
    "    \"\"\"https://spacy.io/api/annotation\"\"\"\n",
    "    texts_out = []\n",
    "    for sent in texts:\n",
    "        doc = nlp(\" \".join(sent)) \n",
    "        texts_out.append([token.lemma_ for token in doc if token.pos_ in allowed_postags])\n",
    "    return texts_out\n",
    "def clean_tokens(tokens):\n",
    "    ans = []\n",
    "    for token in tokens:\n",
    "        x = re.findall(r'[a-z]+.*[a-z]+', token)\n",
    "        if len(x) != 0:\n",
    "            ans.append(x[0])\n",
    "    return ans\n",
    "def delstopwords(lst, stop_words):\n",
    "    filtered_sentence = [w for w in lst if not w in stop_words] \n",
    "    return filtered_sentence\n",
    "def flat_nested(nested):\n",
    "    flatten = []\n",
    "    for item in nested:\n",
    "        if isinstance(item, list):\n",
    "            flatten.extend(item)\n",
    "        else:\n",
    "            flatten.append(item)\n",
    "    return flatten\n",
    "def create_cleaned(df, stop_words):\n",
    "    l_split = df['text'].str.lower().str.split(r'[\\n ]+').tolist()\n",
    "    cleaned = [clean_tokens(tokens) for tokens in l_split]\n",
    "    data_lemmatized = [[lemmatizer.lemmatize(token, wordnet.VERB) for token in tokens] for tokens in cleaned]\n",
    "    del_swords = [delstopwords(tokens, stop_words) for tokens in data_lemmatized]\n",
    "    return del_swords\n",
    "def creat_vec(text):\n",
    "    vec = np.zeros(len(cleaned_vocab))\n",
    "    for token in text: \n",
    "        try: \n",
    "            vec += vocabulary[token]\n",
    "        except KeyError:\n",
    "            continue\n",
    "    return vec"
   ]
  },
  {
   "cell_type": "code",
   "execution_count": 22,
   "metadata": {
    "scrolled": true
   },
   "outputs": [],
   "source": [
    "lst_train = create_cleaned(df_train, stop_words)\n",
    "lst_all = create_cleaned(df_all, stop_words)\n",
    "lst_test = create_cleaned(df_outer, stop_words)"
   ]
  },
  {
   "cell_type": "code",
   "execution_count": 23,
   "metadata": {},
   "outputs": [
    {
     "data": {
      "text/plain": [
       "5156"
      ]
     },
     "execution_count": 23,
     "metadata": {},
     "output_type": "execute_result"
    }
   ],
   "source": [
    "from collections import Counter, defaultdict \n",
    "\n",
    "cnt_vocab = Counter(flat_nested(lst_all))\n",
    "len(cnt_vocab)"
   ]
  },
  {
   "cell_type": "code",
   "execution_count": 24,
   "metadata": {},
   "outputs": [
    {
     "data": {
      "text/plain": [
       "[('url', 1482),\n",
       " ('breach', 701),\n",
       " ('malware', 565),\n",
       " ('mention', 360),\n",
       " ('vulnerability', 326),\n",
       " ('security', 233),\n",
       " ('phishing', 215),\n",
       " ('data', 210),\n",
       " ('attack', 163),\n",
       " ('equifax', 148)]"
      ]
     },
     "execution_count": 24,
     "metadata": {},
     "output_type": "execute_result"
    }
   ],
   "source": [
    "cnt_vocab.most_common(10)"
   ]
  },
  {
   "cell_type": "code",
   "execution_count": 25,
   "metadata": {},
   "outputs": [
    {
     "name": "stdout",
     "output_type": "stream",
     "text": [
      "818\n",
      "818\n"
     ]
    }
   ],
   "source": [
    "#cоздаем словарь и векторизируем слова\n",
    "\n",
    "threshold_count = 3\n",
    "threshold_len = 3\n",
    "cleaned_vocab = [token for token, count in cnt_vocab.items() if count > threshold_count and len(token) > threshold_len]\n",
    "print(len(cleaned_vocab))\n",
    "\n",
    "vocabulary = defaultdict()\n",
    "for i, token in enumerate(cleaned_vocab): \n",
    "    empty_vec = np.zeros(len(cleaned_vocab))\n",
    "    empty_vec[i] = 1 \n",
    "    vocabulary[token] = empty_vec\n",
    "print(len(vocabulary['breach']))"
   ]
  },
  {
   "cell_type": "code",
   "execution_count": 26,
   "metadata": {},
   "outputs": [
    {
     "name": "stdout",
     "output_type": "stream",
     "text": [
      "Train.shape:  (1189, 818)\n",
      "Test.shape:  (786, 818)\n"
     ]
    }
   ],
   "source": [
    "#векторизируем текст train\n",
    "import sklearn\n",
    "v_train = np.array([creat_vec(list_tokens) for list_tokens in lst_train])\n",
    "# используем np.array а не csr_matrix потому что выборка не велика\n",
    "print('Train.shape: ', v_train.shape)\n",
    "\n",
    "\n",
    "#векторизируем текст test\n",
    "v_test = np.array([creat_vec(list_tokens) for list_tokens in lst_test])\n",
    "print('Test.shape: ', v_test.shape)"
   ]
  },
  {
   "cell_type": "code",
   "execution_count": 27,
   "metadata": {},
   "outputs": [
    {
     "name": "stdout",
     "output_type": "stream",
     "text": [
      "Train\n",
      "0.0\n",
      "0.0\n",
      "0.0\n",
      "1.0\n",
      "0.0\n",
      "1.0\n",
      "1.0\n",
      "1.0\n",
      "0.0\n",
      "0.0\n",
      "\n",
      "Test\n",
      "0.0\n",
      "0.0\n",
      "0.0\n",
      "0.0\n",
      "1.0\n",
      "0.0\n",
      "1.0\n",
      "1.0\n",
      "1.0\n",
      "0.0\n"
     ]
    }
   ],
   "source": [
    "values_train = np.array([value for value in df_train['label']]).astype('float')\n",
    "values_test = np.array([value for value in df_outer['label']]).astype('float')\n",
    "print('Train')\n",
    "for i in range (10): print(values_train[i])\n",
    "print('\\nTest')\n",
    "for i in range (10): print(values_test[i])"
   ]
  },
  {
   "cell_type": "markdown",
   "metadata": {},
   "source": [
    "# Random forest classifire"
   ]
  },
  {
   "cell_type": "code",
   "execution_count": 28,
   "metadata": {},
   "outputs": [
    {
     "name": "stdout",
     "output_type": "stream",
     "text": [
      "<class 'numpy.ndarray'>\n",
      "<class 'numpy.ndarray'>\n",
      "(1189, 818) (1189,)\n",
      "(786, 818) (786,)\n"
     ]
    }
   ],
   "source": [
    "X_train, X_test, y_train, y_test = v_train, v_test, values_train, values_test\n",
    "print(type(X_train))\n",
    "print(type(y_test))\n",
    "print(X_train.shape, y_train.shape)\n",
    "print(X_test.shape, y_test.shape)"
   ]
  },
  {
   "cell_type": "code",
   "execution_count": 211,
   "metadata": {},
   "outputs": [
    {
     "data": {
      "text/plain": [
       "0.5063613231552163"
      ]
     },
     "execution_count": 211,
     "metadata": {},
     "output_type": "execute_result"
    }
   ],
   "source": [
    "# Попытка создать модель на имеющейся выборке и тут же ее порверить\n",
    "from sklearn.ensemble import RandomForestClassifier\n",
    "from sklearn import preprocessing\n",
    "y_pred = y_test\n",
    "lab_enc = preprocessing.LabelEncoder()\n",
    "clf = RandomForestClassifier(n_estimators=27, oob_score = True, warm_start = True)\n",
    "clf.fit(X_train, lab_enc.fit_transform(y_train))\n",
    "clf.score(X_test, lab_enc.fit_transform(y_test))"
   ]
  },
  {
   "cell_type": "code",
   "execution_count": 29,
   "metadata": {},
   "outputs": [],
   "source": [
    "from sklearn.metrics import classification_report, confusion_matrix\n",
    "def reports(y_pred, y_test):\n",
    "    tn, fp, fn, tp = confusion_matrix(y_test, y_pred).ravel()\n",
    "    print('TrueNegative = {}\\nFalsePositive = {}\\nFalseNegative = {}\\nTruePositive = {}\\n'.format(tn, fp, fn, tp))\n",
    "    print(classification_report(y_test, y_pred))"
   ]
  },
  {
   "cell_type": "code",
   "execution_count": 213,
   "metadata": {},
   "outputs": [
    {
     "name": "stdout",
     "output_type": "stream",
     "text": [
      "TrueNegative = 265\n",
      "FalsePositive = 149\n",
      "FalseNegative = 239\n",
      "TruePositive = 133\n",
      "\n",
      "              precision    recall  f1-score   support\n",
      "\n",
      "         0.0       0.53      0.64      0.58       414\n",
      "         1.0       0.47      0.36      0.41       372\n",
      "\n",
      "    accuracy                           0.51       786\n",
      "   macro avg       0.50      0.50      0.49       786\n",
      "weighted avg       0.50      0.51      0.50       786\n",
      "\n"
     ]
    }
   ],
   "source": [
    "y_pred = clf.predict(X_test)\n",
    "reports(y_pred, y_test)# как и ожидалось рандомайзер справился бы лучше"
   ]
  },
  {
   "cell_type": "markdown",
   "metadata": {},
   "source": [
    "# Decision tree classifier"
   ]
  },
  {
   "cell_type": "code",
   "execution_count": 139,
   "metadata": {},
   "outputs": [
    {
     "data": {
      "text/plain": [
       "DecisionTreeClassifier(ccp_alpha=0.0, class_weight=None, criterion='gini',\n",
       "                       max_depth=None, max_features=None, max_leaf_nodes=None,\n",
       "                       min_impurity_decrease=0.0, min_impurity_split=None,\n",
       "                       min_samples_leaf=1, min_samples_split=2,\n",
       "                       min_weight_fraction_leaf=0.0, presort='deprecated',\n",
       "                       random_state=None, splitter='best')"
      ]
     },
     "execution_count": 139,
     "metadata": {},
     "output_type": "execute_result"
    }
   ],
   "source": [
    "from sklearn.tree import DecisionTreeClassifier\n",
    "classifier = DecisionTreeClassifier()\n",
    "classifier.fit(X_train, y_train)"
   ]
  },
  {
   "cell_type": "code",
   "execution_count": 140,
   "metadata": {},
   "outputs": [
    {
     "name": "stdout",
     "output_type": "stream",
     "text": [
      "TrueNegative = 260\n",
      "FalsePositive = 154\n",
      "FalseNegative = 229\n",
      "TruePositive = 143\n",
      "\n",
      "              precision    recall  f1-score   support\n",
      "\n",
      "         0.0       0.53      0.63      0.58       414\n",
      "         1.0       0.48      0.38      0.43       372\n",
      "\n",
      "    accuracy                           0.51       786\n",
      "   macro avg       0.51      0.51      0.50       786\n",
      "weighted avg       0.51      0.51      0.51       786\n",
      "\n"
     ]
    }
   ],
   "source": [
    "y_pred = classifier.predict(X_test)\n",
    "reports(y_pred, y_test)"
   ]
  },
  {
   "cell_type": "markdown",
   "metadata": {},
   "source": [
    "# k-nearest-neighbors-algorithm"
   ]
  },
  {
   "cell_type": "code",
   "execution_count": 215,
   "metadata": {},
   "outputs": [
    {
     "data": {
      "text/plain": [
       "KNeighborsClassifier(algorithm='auto', leaf_size=30, metric='minkowski',\n",
       "                     metric_params=None, n_jobs=None, n_neighbors=5, p=2,\n",
       "                     weights='uniform')"
      ]
     },
     "execution_count": 215,
     "metadata": {},
     "output_type": "execute_result"
    }
   ],
   "source": [
    "from sklearn.preprocessing import StandardScaler\n",
    "scaler = StandardScaler()\n",
    "scaler.fit(X_train)\n",
    "\n",
    "X_train = scaler.transform(X_train)\n",
    "X_test = scaler.transform(X_test)\n",
    "\n",
    "from sklearn.neighbors import KNeighborsClassifier\n",
    "classifier = KNeighborsClassifier(n_neighbors=5)\n",
    "classifier.fit(X_train, y_train)"
   ]
  },
  {
   "cell_type": "code",
   "execution_count": 216,
   "metadata": {},
   "outputs": [
    {
     "name": "stdout",
     "output_type": "stream",
     "text": [
      "TrueNegative = 339\n",
      "FalsePositive = 75\n",
      "FalseNegative = 321\n",
      "TruePositive = 51\n",
      "\n",
      "              precision    recall  f1-score   support\n",
      "\n",
      "         0.0       0.51      0.82      0.63       414\n",
      "         1.0       0.40      0.14      0.20       372\n",
      "\n",
      "    accuracy                           0.50       786\n",
      "   macro avg       0.46      0.48      0.42       786\n",
      "weighted avg       0.46      0.50      0.43       786\n",
      "\n"
     ]
    }
   ],
   "source": [
    "y_pred = classifier.predict(X_test)\n",
    "reports(y_pred, y_test)"
   ]
  },
  {
   "cell_type": "code",
   "execution_count": 217,
   "metadata": {},
   "outputs": [
    {
     "data": {
      "text/plain": [
       "Text(0, 0.5, 'Mean Error')"
      ]
     },
     "execution_count": 217,
     "metadata": {},
     "output_type": "execute_result"
    },
    {
     "data": {
      "image/png": "[encoded data removed]",
      "text/plain": [
       "<Figure size 864x432 with 1 Axes>"
      ]
     },
     "metadata": {
      "needs_background": "light"
     },
     "output_type": "display_data"
    }
   ],
   "source": [
    "import matplotlib.pyplot as plt\n",
    "\n",
    "error = []\n",
    "\n",
    "for i in range(1, 40):\n",
    "    knn = KNeighborsClassifier(n_neighbors=i)\n",
    "    knn.fit(X_train, y_train)\n",
    "    pred_i = knn.predict(X_test)\n",
    "    error.append(np.mean(pred_i != y_test))\n",
    "plt.figure(figsize=(12, 6))\n",
    "plt.plot(range(1, 40), error, color='red', linestyle='dashed', marker='o',\n",
    "         markerfacecolor='blue', markersize=10)\n",
    "plt.title('Error Rate K Value')\n",
    "plt.xlabel('K Value')\n",
    "plt.ylabel('Mean Error')# из графика видно что этот алгоритм нам не потходит минимальная ошибка больше 0.4"
   ]
  },
  {
   "cell_type": "code",
   "execution_count": 38,
   "metadata": {},
   "outputs": [
    {
     "name": "stdout",
     "output_type": "stream",
     "text": [
      "TrueNegative = 391\n",
      "FalsePositive = 23\n",
      "FalseNegative = 356\n",
      "TruePositive = 16\n",
      "\n",
      "              precision    recall  f1-score   support\n",
      "\n",
      "         0.0       0.52      0.94      0.67       414\n",
      "         1.0       0.41      0.04      0.08       372\n",
      "\n",
      "    accuracy                           0.52       786\n",
      "   macro avg       0.47      0.49      0.38       786\n",
      "weighted avg       0.47      0.52      0.39       786\n",
      "\n"
     ]
    }
   ],
   "source": [
    "knn = KNeighborsClassifier(n_neighbors=6)\n",
    "knn.fit(X_train, y_train)\n",
    "pred_i = knn.predict(X_test)\n",
    "reports(pred_i, y_test)"
   ]
  },
  {
   "cell_type": "markdown",
   "metadata": {},
   "source": [
    "# SVC"
   ]
  },
  {
   "cell_type": "code",
   "execution_count": 146,
   "metadata": {},
   "outputs": [],
   "source": [
    "from sklearn.svm import SVC\n",
    "svclassifier = SVC(kernel='poly')\n",
    "svclassifier.fit(X_train, y_train)"
   ]
  },
  {
   "cell_type": "code",
   "execution_count": 147,
   "metadata": {},
   "outputs": [
    {
     "name": "stdout",
     "output_type": "stream",
     "text": [
      "TrueNegative = 371\n",
      "FalsePositive = 43\n",
      "FalseNegative = 337\n",
      "TruePositive = 35\n",
      "\n",
      "              precision    recall  f1-score   support\n",
      "\n",
      "         0.0       0.52      0.90      0.66       414\n",
      "         1.0       0.45      0.09      0.16       372\n",
      "\n",
      "    accuracy                           0.52       786\n",
      "   macro avg       0.49      0.50      0.41       786\n",
      "weighted avg       0.49      0.52      0.42       786\n",
      "\n"
     ]
    }
   ],
   "source": [
    "y_pred = svclassifier.predict(X_test)\n",
    "reports(y_pred, y_test)"
   ]
  },
  {
   "cell_type": "code",
   "execution_count": 150,
   "metadata": {},
   "outputs": [
    {
     "data": {
      "text/plain": [
       "SVC(C=1.0, break_ties=False, cache_size=200, class_weight=None, coef0=0.0,\n",
       "    decision_function_shape='ovr', degree=3, gamma='scale', kernel='rbf',\n",
       "    max_iter=-1, probability=False, random_state=None, shrinking=True,\n",
       "    tol=0.001, verbose=False)"
      ]
     },
     "execution_count": 150,
     "metadata": {},
     "output_type": "execute_result"
    }
   ],
   "source": [
    "svclassifier = SVC(kernel='rbf')\n",
    "svclassifier.fit(X_train, y_train)"
   ]
  },
  {
   "cell_type": "code",
   "execution_count": 151,
   "metadata": {},
   "outputs": [
    {
     "name": "stdout",
     "output_type": "stream",
     "text": [
      "TrueNegative = 257\n",
      "FalsePositive = 157\n",
      "FalseNegative = 239\n",
      "TruePositive = 133\n",
      "\n",
      "              precision    recall  f1-score   support\n",
      "\n",
      "         0.0       0.52      0.62      0.56       414\n",
      "         1.0       0.46      0.36      0.40       372\n",
      "\n",
      "    accuracy                           0.50       786\n",
      "   macro avg       0.49      0.49      0.48       786\n",
      "weighted avg       0.49      0.50      0.49       786\n",
      "\n"
     ]
    }
   ],
   "source": [
    "y_pred = svclassifier.predict(X_test)\n",
    "reports(y_pred, y_test)"
   ]
  },
  {
   "cell_type": "code",
   "execution_count": 24,
   "metadata": {},
   "outputs": [
    {
     "data": {
      "text/plain": [
       "Text(0, 0.5, 'Mean Error')"
      ]
     },
     "execution_count": 24,
     "metadata": {},
     "output_type": "execute_result"
    },
    {
     "data": {
      "image/png": "[encoded data removed]",
      "text/plain": [
       "<Figure size 864x432 with 1 Axes>"
      ]
     },
     "metadata": {
      "needs_background": "light"
     },
     "output_type": "display_data"
    }
   ],
   "source": [
    "import matplotlib.pyplot as plt\n",
    "from sklearn.svm import SVC\n",
    "error = []\n",
    "for i in range(12):\n",
    "    X_train, X_test, y_train, y_test = v_train, v_test, values_train, values_test\n",
    "    clf = SVC(gamma='scale', kernel = 'poly', degree = i)\n",
    "    clf.fit(X_train, y_train)\n",
    "    SVC(gamma='scale')\n",
    "    y_pred = clf.predict(X_test)\n",
    "    error.append(np.mean(y_pred != y_test))\n",
    "plt.figure(figsize=(12, 6))\n",
    "plt.plot(range(12), error, color='red', linestyle='dashed', marker='o',\n",
    "         markerfacecolor='blue', markersize=10)\n",
    "plt.title('Error Rate Poly Value')\n",
    "plt.xlabel('Polynom Value')\n",
    "plt.ylabel('Mean Error')"
   ]
  },
  {
   "cell_type": "code",
   "execution_count": 40,
   "metadata": {},
   "outputs": [
    {
     "name": "stdout",
     "output_type": "stream",
     "text": [
      "TrueNegative = 311\n",
      "FalsePositive = 103\n",
      "FalseNegative = 279\n",
      "TruePositive = 93\n",
      "\n",
      "              precision    recall  f1-score   support\n",
      "\n",
      "         0.0       0.53      0.75      0.62       414\n",
      "         1.0       0.47      0.25      0.33       372\n",
      "\n",
      "    accuracy                           0.51       786\n",
      "   macro avg       0.50      0.50      0.47       786\n",
      "weighted avg       0.50      0.51      0.48       786\n",
      "\n"
     ]
    }
   ],
   "source": [
    "from sklearn.svm import SVC\n",
    "X_train, X_test, y_train, y_test = v_train, v_test, values_train, values_test\n",
    "clf = SVC(gamma='scale', kernel = 'poly', degree = 2)\n",
    "clf.fit(X_train, y_train)\n",
    "SVC(gamma='scale')\n",
    "y_pred = clf.predict(X_test)\n",
    "reports(y_pred, y_test)"
   ]
  },
  {
   "cell_type": "code",
   "execution_count": 44,
   "metadata": {},
   "outputs": [
    {
     "data": {
      "text/plain": [
       "array([0., 0., 0., 0., 0., 0., 0., 0., 0., 1., 0., 1., 0., 0., 1., 0., 0.,\n",
       "       0., 0., 0., 1., 0., 1., 0., 0., 0., 1., 0., 0., 0., 0., 0., 0., 0.,\n",
       "       0., 1., 1., 0., 0., 0., 0., 0., 1., 1., 0., 0., 1., 0., 0., 0., 0.,\n",
       "       1., 0., 0., 1., 1., 0., 0., 0., 1., 0., 0., 0., 0., 0., 0., 0., 0.,\n",
       "       0., 0., 0., 0., 0., 0., 0., 0., 0., 1., 0., 0., 0., 0., 0., 0., 0.,\n",
       "       0., 0., 0., 0., 0., 1., 1., 0., 0., 0., 0., 0., 0., 0., 1., 1., 0.,\n",
       "       0., 1., 0., 0., 0., 0., 0., 0., 0., 0., 0., 0., 1., 0., 0., 1., 1.,\n",
       "       1., 0., 1., 0., 0., 0., 1., 1., 1., 0., 0., 1., 0., 1., 0., 0., 0.,\n",
       "       0., 0., 0., 0., 0., 1., 0., 0., 0., 0., 0., 0., 0., 0., 1., 0., 0.,\n",
       "       0., 0., 0., 1., 0., 0., 0., 1., 0., 0., 1., 0., 0., 0., 1., 0., 0.,\n",
       "       0., 0., 0., 0., 0., 0., 0., 0., 0., 0., 1., 0., 0., 0., 0., 1., 0.,\n",
       "       1., 0., 0., 1., 0., 0., 1., 0., 0., 1., 0., 1., 0., 1., 0., 0., 0.,\n",
       "       1., 0., 0., 0., 0., 0., 0., 0., 0., 0., 0., 1., 0., 1., 1., 0., 0.,\n",
       "       1., 0., 0., 0., 0., 1., 0., 0., 0., 0., 0., 0., 1., 1., 0., 0., 0.,\n",
       "       0., 0., 0., 0., 1., 1., 1., 0., 0., 1., 0., 0., 1., 0., 1., 0., 1.,\n",
       "       0., 0., 1., 0., 1., 0., 1., 1., 1., 1., 0., 0., 0., 1., 1., 0., 0.,\n",
       "       0., 0., 1., 0., 0., 0., 0., 0., 1., 0., 0., 0., 0., 1., 1., 0., 1.,\n",
       "       0., 1., 0., 0., 0., 0., 0., 0., 0., 1., 0., 1., 0., 0., 1., 0., 0.,\n",
       "       0., 0., 0., 0., 0., 0., 0., 0., 0., 1., 0., 0., 0., 1., 0., 0., 1.,\n",
       "       0., 0., 0., 1., 0., 0., 1., 0., 1., 0., 0., 1., 0., 1., 0., 0., 0.,\n",
       "       1., 0., 0., 0., 1., 0., 1., 0., 0., 0., 0., 0., 0., 0., 0., 0., 0.,\n",
       "       1., 0., 0., 0., 0., 1., 0., 0., 0., 0., 1., 0., 1., 0., 0., 1., 0.,\n",
       "       0., 0., 0., 1., 0., 0., 0., 0., 0., 0., 0., 1., 1., 0., 0., 1., 0.,\n",
       "       1., 1., 0., 0., 0., 0., 1., 0., 0., 0., 0., 0., 0., 0., 0., 0., 0.,\n",
       "       0., 0., 0., 0., 0., 0., 0., 0., 0., 0., 0., 0., 1., 0., 0., 1., 0.,\n",
       "       0., 0., 1., 0., 0., 0., 1., 0., 1., 1., 0., 0., 0., 0., 0., 0., 0.,\n",
       "       0., 0., 0., 0., 0., 0., 0., 0., 0., 0., 0., 0., 0., 1., 0., 0., 1.,\n",
       "       1., 0., 1., 0., 1., 0., 1., 0., 0., 0., 0., 1., 0., 0., 0., 0., 0.,\n",
       "       0., 0., 1., 0., 0., 0., 0., 0., 0., 0., 0., 0., 0., 1., 1., 1., 0.,\n",
       "       0., 0., 0., 1., 0., 1., 1., 0., 0., 1., 1., 0., 0., 1., 0., 1., 0.,\n",
       "       1., 1., 0., 1., 0., 1., 1., 0., 0., 1., 0., 0., 1., 0., 0., 0., 0.,\n",
       "       0., 1., 0., 1., 0., 0., 0., 1., 1., 0., 0., 0., 0., 1., 0., 0., 0.,\n",
       "       0., 0., 0., 0., 0., 0., 0., 0., 0., 1., 0., 0., 0., 1., 0., 0., 0.,\n",
       "       0., 1., 0., 1., 0., 1., 0., 0., 0., 0., 0., 0., 1., 1., 0., 0., 0.,\n",
       "       1., 0., 0., 1., 0., 1., 0., 0., 0., 0., 0., 0., 1., 1., 0., 0., 0.,\n",
       "       1., 0., 0., 1., 1., 0., 0., 0., 0., 1., 1., 0., 0., 0., 0., 0., 1.,\n",
       "       0., 0., 0., 0., 0., 1., 0., 0., 0., 0., 0., 0., 1., 0., 1., 1., 1.,\n",
       "       0., 0., 0., 0., 0., 0., 1., 0., 0., 0., 0., 1., 0., 0., 0., 0., 0.,\n",
       "       0., 0., 1., 1., 0., 0., 0., 0., 0., 0., 0., 0., 0., 1., 0., 1., 0.,\n",
       "       0., 0., 0., 1., 0., 0., 0., 0., 0., 0., 0., 0., 0., 0., 0., 1., 0.,\n",
       "       0., 1., 1., 0., 1., 0., 1., 0., 1., 1., 0., 1., 0., 0., 0., 0., 0.,\n",
       "       0., 1., 0., 0., 0., 0., 0., 1., 1., 0., 0., 0., 1., 0., 0., 0., 0.,\n",
       "       1., 0., 1., 0., 0., 0., 0., 1., 0., 1., 0., 0., 0., 0., 0., 0., 1.,\n",
       "       0., 0., 0., 0., 1., 1., 1., 0., 0., 0., 1., 0., 0., 0., 0., 1., 0.,\n",
       "       0., 0., 0., 0., 1., 0., 1., 0., 0., 0., 0., 0., 0., 1., 0., 1., 0.,\n",
       "       0., 0., 0., 0., 0., 0., 0., 1., 0., 1., 0., 0., 0., 0., 0., 0., 0.,\n",
       "       1., 0., 1., 0.])"
      ]
     },
     "execution_count": 44,
     "metadata": {},
     "output_type": "execute_result"
    }
   ],
   "source": [
    "y_pred"
   ]
  },
  {
   "cell_type": "code",
   "execution_count": 55,
   "metadata": {},
   "outputs": [
    {
     "data": {
      "text/html": [
       "<div>\n",
       "<style scoped>\n",
       "    .dataframe tbody tr th:only-of-type {\n",
       "        vertical-align: middle;\n",
       "    }\n",
       "\n",
       "    .dataframe tbody tr th {\n",
       "        vertical-align: top;\n",
       "    }\n",
       "\n",
       "    .dataframe thead th {\n",
       "        text-align: right;\n",
       "    }\n",
       "</style>\n",
       "<table border=\"1\" class=\"dataframe\">\n",
       "  <thead>\n",
       "    <tr style=\"text-align: right;\">\n",
       "      <th></th>\n",
       "      <th>example_id</th>\n",
       "      <th>label</th>\n",
       "    </tr>\n",
       "  </thead>\n",
       "  <tbody>\n",
       "    <tr>\n",
       "      <th>0</th>\n",
       "      <td>24bf52cc84b75bce8ee9c0cdd0b5117f</td>\n",
       "      <td>False</td>\n",
       "    </tr>\n",
       "    <tr>\n",
       "      <th>1</th>\n",
       "      <td>708cc462eca0c274bcff304bbc4396f8</td>\n",
       "      <td>False</td>\n",
       "    </tr>\n",
       "    <tr>\n",
       "      <th>2</th>\n",
       "      <td>c5da1d371af9525d2fc2174311e3dae4</td>\n",
       "      <td>False</td>\n",
       "    </tr>\n",
       "    <tr>\n",
       "      <th>3</th>\n",
       "      <td>844f5f5be464a0600891ac6b8c1a1afd</td>\n",
       "      <td>False</td>\n",
       "    </tr>\n",
       "    <tr>\n",
       "      <th>4</th>\n",
       "      <td>97daba48c36db68f3e84ebcbf8952aa2</td>\n",
       "      <td>True</td>\n",
       "    </tr>\n",
       "  </tbody>\n",
       "</table>\n",
       "</div>"
      ],
      "text/plain": [
       "                         example_id  label\n",
       "0  24bf52cc84b75bce8ee9c0cdd0b5117f  False\n",
       "1  708cc462eca0c274bcff304bbc4396f8  False\n",
       "2  c5da1d371af9525d2fc2174311e3dae4  False\n",
       "3  844f5f5be464a0600891ac6b8c1a1afd  False\n",
       "4  97daba48c36db68f3e84ebcbf8952aa2   True"
      ]
     },
     "execution_count": 55,
     "metadata": {},
     "output_type": "execute_result"
    }
   ],
   "source": [
    "df_ss.head()"
   ]
  },
  {
   "cell_type": "code",
   "execution_count": 58,
   "metadata": {},
   "outputs": [
    {
     "data": {
      "text/html": [
       "<div>\n",
       "<style scoped>\n",
       "    .dataframe tbody tr th:only-of-type {\n",
       "        vertical-align: middle;\n",
       "    }\n",
       "\n",
       "    .dataframe tbody tr th {\n",
       "        vertical-align: top;\n",
       "    }\n",
       "\n",
       "    .dataframe thead th {\n",
       "        text-align: right;\n",
       "    }\n",
       "</style>\n",
       "<table border=\"1\" class=\"dataframe\">\n",
       "  <thead>\n",
       "    <tr style=\"text-align: right;\">\n",
       "      <th></th>\n",
       "      <th>example_id</th>\n",
       "      <th>Column2</th>\n",
       "    </tr>\n",
       "  </thead>\n",
       "  <tbody>\n",
       "    <tr>\n",
       "      <th>0</th>\n",
       "      <td>24bf52cc84b75bce8ee9c0cdd0b5117f</td>\n",
       "      <td>False</td>\n",
       "    </tr>\n",
       "    <tr>\n",
       "      <th>1</th>\n",
       "      <td>708cc462eca0c274bcff304bbc4396f8</td>\n",
       "      <td>False</td>\n",
       "    </tr>\n",
       "    <tr>\n",
       "      <th>2</th>\n",
       "      <td>c5da1d371af9525d2fc2174311e3dae4</td>\n",
       "      <td>False</td>\n",
       "    </tr>\n",
       "    <tr>\n",
       "      <th>3</th>\n",
       "      <td>844f5f5be464a0600891ac6b8c1a1afd</td>\n",
       "      <td>False</td>\n",
       "    </tr>\n",
       "    <tr>\n",
       "      <th>4</th>\n",
       "      <td>97daba48c36db68f3e84ebcbf8952aa2</td>\n",
       "      <td>False</td>\n",
       "    </tr>\n",
       "    <tr>\n",
       "      <th>...</th>\n",
       "      <td>...</td>\n",
       "      <td>...</td>\n",
       "    </tr>\n",
       "    <tr>\n",
       "      <th>781</th>\n",
       "      <td>d88c14f3513eeac07d96bf2247e590da</td>\n",
       "      <td>False</td>\n",
       "    </tr>\n",
       "    <tr>\n",
       "      <th>782</th>\n",
       "      <td>d86ba8e778366f29d751212248a8b117</td>\n",
       "      <td>True</td>\n",
       "    </tr>\n",
       "    <tr>\n",
       "      <th>783</th>\n",
       "      <td>77d311fd2f0fe6e7120e92efc00a3dc1</td>\n",
       "      <td>False</td>\n",
       "    </tr>\n",
       "    <tr>\n",
       "      <th>784</th>\n",
       "      <td>d1e6b79eed2ed19f35c2bbc3bf3c7940</td>\n",
       "      <td>True</td>\n",
       "    </tr>\n",
       "    <tr>\n",
       "      <th>785</th>\n",
       "      <td>39f1960e9fa6d6dee905f7380922d29d</td>\n",
       "      <td>False</td>\n",
       "    </tr>\n",
       "  </tbody>\n",
       "</table>\n",
       "<p>786 rows × 2 columns</p>\n",
       "</div>"
      ],
      "text/plain": [
       "                           example_id  Column2\n",
       "0    24bf52cc84b75bce8ee9c0cdd0b5117f    False\n",
       "1    708cc462eca0c274bcff304bbc4396f8    False\n",
       "2    c5da1d371af9525d2fc2174311e3dae4    False\n",
       "3    844f5f5be464a0600891ac6b8c1a1afd    False\n",
       "4    97daba48c36db68f3e84ebcbf8952aa2    False\n",
       "..                                ...      ...\n",
       "781  d88c14f3513eeac07d96bf2247e590da    False\n",
       "782  d86ba8e778366f29d751212248a8b117     True\n",
       "783  77d311fd2f0fe6e7120e92efc00a3dc1    False\n",
       "784  d1e6b79eed2ed19f35c2bbc3bf3c7940     True\n",
       "785  39f1960e9fa6d6dee905f7380922d29d    False\n",
       "\n",
       "[786 rows x 2 columns]"
      ]
     },
     "execution_count": 58,
     "metadata": {},
     "output_type": "execute_result"
    }
   ],
   "source": [
    "#'example_id': df_test['example_id'], 'label': y_pred.astype(bool)\n",
    "index = df_test['example_id']\n",
    "val = y_pred.astype(bool)\n",
    "df = dataset = pd.DataFrame({'example_id': df_test['example_id'], 'Column2': val})\n",
    "df"
   ]
  },
  {
   "cell_type": "code",
   "execution_count": 59,
   "metadata": {},
   "outputs": [
    {
     "data": {
      "text/html": [
       "<div>\n",
       "<style scoped>\n",
       "    .dataframe tbody tr th:only-of-type {\n",
       "        vertical-align: middle;\n",
       "    }\n",
       "\n",
       "    .dataframe tbody tr th {\n",
       "        vertical-align: top;\n",
       "    }\n",
       "\n",
       "    .dataframe thead th {\n",
       "        text-align: right;\n",
       "    }\n",
       "</style>\n",
       "<table border=\"1\" class=\"dataframe\">\n",
       "  <thead>\n",
       "    <tr style=\"text-align: right;\">\n",
       "      <th></th>\n",
       "      <th>example_id</th>\n",
       "      <th>label</th>\n",
       "    </tr>\n",
       "  </thead>\n",
       "  <tbody>\n",
       "    <tr>\n",
       "      <th>0</th>\n",
       "      <td>24bf52cc84b75bce8ee9c0cdd0b5117f</td>\n",
       "      <td>False</td>\n",
       "    </tr>\n",
       "    <tr>\n",
       "      <th>1</th>\n",
       "      <td>708cc462eca0c274bcff304bbc4396f8</td>\n",
       "      <td>False</td>\n",
       "    </tr>\n",
       "    <tr>\n",
       "      <th>2</th>\n",
       "      <td>c5da1d371af9525d2fc2174311e3dae4</td>\n",
       "      <td>False</td>\n",
       "    </tr>\n",
       "    <tr>\n",
       "      <th>3</th>\n",
       "      <td>844f5f5be464a0600891ac6b8c1a1afd</td>\n",
       "      <td>False</td>\n",
       "    </tr>\n",
       "    <tr>\n",
       "      <th>4</th>\n",
       "      <td>97daba48c36db68f3e84ebcbf8952aa2</td>\n",
       "      <td>False</td>\n",
       "    </tr>\n",
       "  </tbody>\n",
       "</table>\n",
       "</div>"
      ],
      "text/plain": [
       "                         example_id  label\n",
       "0  24bf52cc84b75bce8ee9c0cdd0b5117f  False\n",
       "1  708cc462eca0c274bcff304bbc4396f8  False\n",
       "2  c5da1d371af9525d2fc2174311e3dae4  False\n",
       "3  844f5f5be464a0600891ac6b8c1a1afd  False\n",
       "4  97daba48c36db68f3e84ebcbf8952aa2  False"
      ]
     },
     "execution_count": 59,
     "metadata": {},
     "output_type": "execute_result"
    }
   ],
   "source": [
    "df_ss['example_id'] = df_test['example_id']\n",
    "df_ss['label'] = val\n",
    "df_ss.head()"
   ]
  },
  {
   "cell_type": "code",
   "execution_count": 60,
   "metadata": {},
   "outputs": [
    {
     "data": {
      "text/html": [
       "<div>\n",
       "<style scoped>\n",
       "    .dataframe tbody tr th:only-of-type {\n",
       "        vertical-align: middle;\n",
       "    }\n",
       "\n",
       "    .dataframe tbody tr th {\n",
       "        vertical-align: top;\n",
       "    }\n",
       "\n",
       "    .dataframe thead th {\n",
       "        text-align: right;\n",
       "    }\n",
       "</style>\n",
       "<table border=\"1\" class=\"dataframe\">\n",
       "  <thead>\n",
       "    <tr style=\"text-align: right;\">\n",
       "      <th></th>\n",
       "      <th>example_id</th>\n",
       "      <th>label</th>\n",
       "    </tr>\n",
       "  </thead>\n",
       "  <tbody>\n",
       "    <tr>\n",
       "      <th>781</th>\n",
       "      <td>d88c14f3513eeac07d96bf2247e590da</td>\n",
       "      <td>False</td>\n",
       "    </tr>\n",
       "    <tr>\n",
       "      <th>782</th>\n",
       "      <td>d86ba8e778366f29d751212248a8b117</td>\n",
       "      <td>True</td>\n",
       "    </tr>\n",
       "    <tr>\n",
       "      <th>783</th>\n",
       "      <td>77d311fd2f0fe6e7120e92efc00a3dc1</td>\n",
       "      <td>False</td>\n",
       "    </tr>\n",
       "    <tr>\n",
       "      <th>784</th>\n",
       "      <td>d1e6b79eed2ed19f35c2bbc3bf3c7940</td>\n",
       "      <td>True</td>\n",
       "    </tr>\n",
       "    <tr>\n",
       "      <th>785</th>\n",
       "      <td>39f1960e9fa6d6dee905f7380922d29d</td>\n",
       "      <td>False</td>\n",
       "    </tr>\n",
       "  </tbody>\n",
       "</table>\n",
       "</div>"
      ],
      "text/plain": [
       "                           example_id  label\n",
       "781  d88c14f3513eeac07d96bf2247e590da  False\n",
       "782  d86ba8e778366f29d751212248a8b117   True\n",
       "783  77d311fd2f0fe6e7120e92efc00a3dc1  False\n",
       "784  d1e6b79eed2ed19f35c2bbc3bf3c7940   True\n",
       "785  39f1960e9fa6d6dee905f7380922d29d  False"
      ]
     },
     "execution_count": 60,
     "metadata": {},
     "output_type": "execute_result"
    }
   ],
   "source": [
    "df_ss.tail()"
   ]
  },
  {
   "cell_type": "code",
   "execution_count": 63,
   "metadata": {},
   "outputs": [
    {
     "data": {
      "text/html": [
       "<div>\n",
       "<style scoped>\n",
       "    .dataframe tbody tr th:only-of-type {\n",
       "        vertical-align: middle;\n",
       "    }\n",
       "\n",
       "    .dataframe tbody tr th {\n",
       "        vertical-align: top;\n",
       "    }\n",
       "\n",
       "    .dataframe thead th {\n",
       "        text-align: right;\n",
       "    }\n",
       "</style>\n",
       "<table border=\"1\" class=\"dataframe\">\n",
       "  <thead>\n",
       "    <tr style=\"text-align: right;\">\n",
       "      <th></th>\n",
       "      <th>example_id</th>\n",
       "      <th>label</th>\n",
       "    </tr>\n",
       "  </thead>\n",
       "  <tbody>\n",
       "    <tr>\n",
       "      <th>0</th>\n",
       "      <td>24bf52cc84b75bce8ee9c0cdd0b5117f</td>\n",
       "      <td>False</td>\n",
       "    </tr>\n",
       "    <tr>\n",
       "      <th>1</th>\n",
       "      <td>708cc462eca0c274bcff304bbc4396f8</td>\n",
       "      <td>False</td>\n",
       "    </tr>\n",
       "    <tr>\n",
       "      <th>2</th>\n",
       "      <td>c5da1d371af9525d2fc2174311e3dae4</td>\n",
       "      <td>False</td>\n",
       "    </tr>\n",
       "    <tr>\n",
       "      <th>3</th>\n",
       "      <td>844f5f5be464a0600891ac6b8c1a1afd</td>\n",
       "      <td>False</td>\n",
       "    </tr>\n",
       "    <tr>\n",
       "      <th>4</th>\n",
       "      <td>97daba48c36db68f3e84ebcbf8952aa2</td>\n",
       "      <td>False</td>\n",
       "    </tr>\n",
       "    <tr>\n",
       "      <th>5</th>\n",
       "      <td>5aa7363096040ffc17b20f595edda878</td>\n",
       "      <td>False</td>\n",
       "    </tr>\n",
       "    <tr>\n",
       "      <th>6</th>\n",
       "      <td>a096ea460d0c9f2af7211c8f2d1d7ee7</td>\n",
       "      <td>False</td>\n",
       "    </tr>\n",
       "    <tr>\n",
       "      <th>7</th>\n",
       "      <td>ff4a30ad03aa3b4485a542dd32919722</td>\n",
       "      <td>False</td>\n",
       "    </tr>\n",
       "    <tr>\n",
       "      <th>8</th>\n",
       "      <td>0841f6a99ed3dd2ba9b8cec3b0a1451c</td>\n",
       "      <td>False</td>\n",
       "    </tr>\n",
       "    <tr>\n",
       "      <th>9</th>\n",
       "      <td>6d368e9b25aebb7bfbda01c4eb7533f4</td>\n",
       "      <td>True</td>\n",
       "    </tr>\n",
       "    <tr>\n",
       "      <th>10</th>\n",
       "      <td>42ab4246d252a4d7ca12d5a0de05510d</td>\n",
       "      <td>False</td>\n",
       "    </tr>\n",
       "    <tr>\n",
       "      <th>11</th>\n",
       "      <td>7b2c87b901e417e67cad977d68c24b75</td>\n",
       "      <td>True</td>\n",
       "    </tr>\n",
       "    <tr>\n",
       "      <th>12</th>\n",
       "      <td>0265e736477ce905ce806b6f22e61ede</td>\n",
       "      <td>False</td>\n",
       "    </tr>\n",
       "    <tr>\n",
       "      <th>13</th>\n",
       "      <td>2fe99aa2e46d60c61635270ffb9f54ac</td>\n",
       "      <td>False</td>\n",
       "    </tr>\n",
       "    <tr>\n",
       "      <th>14</th>\n",
       "      <td>2af25f5c41f8dd2f5ad7d1add76b2d88</td>\n",
       "      <td>True</td>\n",
       "    </tr>\n",
       "  </tbody>\n",
       "</table>\n",
       "</div>"
      ],
      "text/plain": [
       "                          example_id  label\n",
       "0   24bf52cc84b75bce8ee9c0cdd0b5117f  False\n",
       "1   708cc462eca0c274bcff304bbc4396f8  False\n",
       "2   c5da1d371af9525d2fc2174311e3dae4  False\n",
       "3   844f5f5be464a0600891ac6b8c1a1afd  False\n",
       "4   97daba48c36db68f3e84ebcbf8952aa2  False\n",
       "5   5aa7363096040ffc17b20f595edda878  False\n",
       "6   a096ea460d0c9f2af7211c8f2d1d7ee7  False\n",
       "7   ff4a30ad03aa3b4485a542dd32919722  False\n",
       "8   0841f6a99ed3dd2ba9b8cec3b0a1451c  False\n",
       "9   6d368e9b25aebb7bfbda01c4eb7533f4   True\n",
       "10  42ab4246d252a4d7ca12d5a0de05510d  False\n",
       "11  7b2c87b901e417e67cad977d68c24b75   True\n",
       "12  0265e736477ce905ce806b6f22e61ede  False\n",
       "13  2fe99aa2e46d60c61635270ffb9f54ac  False\n",
       "14  2af25f5c41f8dd2f5ad7d1add76b2d88   True"
      ]
     },
     "execution_count": 63,
     "metadata": {},
     "output_type": "execute_result"
    }
   ],
   "source": [
    "df_ss.head(15)"
   ]
  },
  {
   "cell_type": "code",
   "execution_count": 65,
   "metadata": {},
   "outputs": [],
   "source": [
    "df_ss.to_csv(r'df_pract_galkin.csv', index = False)"
   ]
  },
  {
   "cell_type": "code",
   "execution_count": 16,
   "metadata": {},
   "outputs": [
    {
     "data": {
      "text/plain": [
       "Text(0, 0.5, 'Mean Error')"
      ]
     },
     "execution_count": 16,
     "metadata": {},
     "output_type": "execute_result"
    },
    {
     "data": {
      "image/png": "[encoded data removed]",
      "text/plain": [
       "<Figure size 864x432 with 1 Axes>"
      ]
     },
     "metadata": {
      "needs_background": "light"
     },
     "output_type": "display_data"
    }
   ],
   "source": [
    "import matplotlib.pyplot as plt\n",
    "from sklearn.svm import SVC\n",
    "error = []\n",
    "for i in range(12):\n",
    "    X_train, X_test, y_train, y_test = v_train, v_test, values_train, values_test\n",
    "    clf = SVC(gamma='scale', kernel = 'poly', degree = i, coef0 = -1)\n",
    "    clf.fit(X_train, y_train)\n",
    "    SVC(gamma='scale')\n",
    "    y_pred = clf.predict(X_test)\n",
    "    error.append(np.mean(y_pred != y_test))\n",
    "plt.figure(figsize=(12, 6))\n",
    "plt.plot(range(12), error, color='red', linestyle='dashed', marker='o',\n",
    "         markerfacecolor='blue', markersize=10)\n",
    "plt.title('Error Rate CSV Value')\n",
    "plt.xlabel('CSV Value')\n",
    "plt.ylabel('Mean Error')"
   ]
  },
  {
   "cell_type": "code",
   "execution_count": 17,
   "metadata": {},
   "outputs": [
    {
     "name": "stdout",
     "output_type": "stream",
     "text": [
      "TrueNegative = 271\n",
      "FalsePositive = 143\n",
      "FalseNegative = 242\n",
      "TruePositive = 130\n",
      "\n",
      "              precision    recall  f1-score   support\n",
      "\n",
      "         0.0       0.53      0.65      0.58       414\n",
      "         1.0       0.48      0.35      0.40       372\n",
      "\n",
      "    accuracy                           0.51       786\n",
      "   macro avg       0.50      0.50      0.49       786\n",
      "weighted avg       0.50      0.51      0.50       786\n",
      "\n"
     ]
    }
   ],
   "source": [
    "X_train, X_test, y_train, y_test = v_train, v_test, values_train, values_test\n",
    "clf = SVC(gamma='scale', kernel = 'sigmoid')\n",
    "clf.fit(X_train, y_train)\n",
    "SVC(gamma='scale')\n",
    "y_pred = clf.predict(X_test)\n",
    "reports(y_pred, y_test)"
   ]
  },
  {
   "cell_type": "code",
   "execution_count": 21,
   "metadata": {},
   "outputs": [
    {
     "name": "stdout",
     "output_type": "stream",
     "text": [
      "TrueNegative = 411\n",
      "FalsePositive = 3\n",
      "FalseNegative = 370\n",
      "TruePositive = 2\n",
      "\n",
      "              precision    recall  f1-score   support\n",
      "\n",
      "         0.0       0.53      0.99      0.69       414\n",
      "         1.0       0.40      0.01      0.01       372\n",
      "\n",
      "    accuracy                           0.53       786\n",
      "   macro avg       0.46      0.50      0.35       786\n",
      "weighted avg       0.47      0.53      0.37       786\n",
      "\n"
     ]
    }
   ],
   "source": [
    "X_train, X_test, y_train, y_test = v_train, v_test, values_train, values_test\n",
    "clf = SVC(gamma='auto', C = 2.0)\n",
    "clf.fit(X_train, y_train)\n",
    "SVC(gamma='scale')\n",
    "y_pred = clf.predict(X_test)\n",
    "reports(y_pred, y_test)"
   ]
  },
  {
   "cell_type": "markdown",
   "metadata": {},
   "source": [
    "# LogisticRegression"
   ]
  },
  {
   "cell_type": "code",
   "execution_count": 156,
   "metadata": {},
   "outputs": [
    {
     "data": {
      "text/plain": [
       "LogisticRegression(C=1.0, class_weight=None, dual=False, fit_intercept=True,\n",
       "                   intercept_scaling=1, l1_ratio=None, max_iter=100,\n",
       "                   multi_class='auto', n_jobs=None, penalty='l2',\n",
       "                   random_state=None, solver='lbfgs', tol=0.0001, verbose=0,\n",
       "                   warm_start=False)"
      ]
     },
     "execution_count": 156,
     "metadata": {},
     "output_type": "execute_result"
    }
   ],
   "source": [
    "from sklearn.linear_model import LogisticRegression\n",
    "lr = LogisticRegression () \n",
    "lr.fit (X_train, y_train)"
   ]
  },
  {
   "cell_type": "code",
   "execution_count": 157,
   "metadata": {},
   "outputs": [],
   "source": [
    "y_pred = lr.predict(X_test)"
   ]
  },
  {
   "cell_type": "code",
   "execution_count": 159,
   "metadata": {},
   "outputs": [
    {
     "name": "stdout",
     "output_type": "stream",
     "text": [
      "TrueNegative = 273\n",
      "FalsePositive = 141\n",
      "FalseNegative = 246\n",
      "TruePositive = 126\n",
      "\n",
      "              precision    recall  f1-score   support\n",
      "\n",
      "         0.0       0.53      0.66      0.59       414\n",
      "         1.0       0.47      0.34      0.39       372\n",
      "\n",
      "    accuracy                           0.51       786\n",
      "   macro avg       0.50      0.50      0.49       786\n",
      "weighted avg       0.50      0.51      0.49       786\n",
      "\n"
     ]
    }
   ],
   "source": [
    "reports(y_pred, y_test)"
   ]
  },
  {
   "cell_type": "markdown",
   "metadata": {},
   "source": [
    "# LDA"
   ]
  },
  {
   "cell_type": "code",
   "execution_count": 162,
   "metadata": {},
   "outputs": [
    {
     "name": "stdout",
     "output_type": "stream",
     "text": [
      "TrueNegative = 234\n",
      "FalsePositive = 180\n",
      "FalseNegative = 216\n",
      "TruePositive = 156\n",
      "\n",
      "              precision    recall  f1-score   support\n",
      "\n",
      "         0.0       0.52      0.57      0.54       414\n",
      "         1.0       0.46      0.42      0.44       372\n",
      "\n",
      "    accuracy                           0.50       786\n",
      "   macro avg       0.49      0.49      0.49       786\n",
      "weighted avg       0.49      0.50      0.49       786\n",
      "\n"
     ]
    }
   ],
   "source": [
    "\n",
    "from sklearn.discriminant_analysis import LinearDiscriminantAnalysis as LDA\n",
    "\n",
    "lda = LDA()\n",
    "x_train = lda.fit(X_train, y_train)\n",
    "y_pred = lda.predict(X_test)\n",
    "reports(y_pred, y_test)"
   ]
  },
  {
   "cell_type": "markdown",
   "metadata": {},
   "source": [
    "# Next try"
   ]
  },
  {
   "cell_type": "code",
   "execution_count": 203,
   "metadata": {},
   "outputs": [
    {
     "data": {
      "text/plain": [
       "<seaborn.axisgrid.PairGrid at 0x23a93788520>"
      ]
     },
     "execution_count": 203,
     "metadata": {},
     "output_type": "execute_result"
    },
    {
     "data": {
      "image/png": "[encoded data removed]",
      "text/plain": [
       "<Figure size 180x180 with 2 Axes>"
      ]
     },
     "metadata": {
      "needs_background": "light"
     },
     "output_type": "display_data"
    }
   ],
   "source": [
    "import seaborn as sns\n",
    "df_n = pd.DataFrame({\"label\": np.array([value for value in df_all['label']]).astype('int'), \"text\":np.array(create_vec(l) for l in lst_all)})\n",
    "sns.pairplot(df_n)"
   ]
  },
  {
   "cell_type": "markdown",
   "metadata": {},
   "source": [
    "### Если нельзя определить по словам к какой категории относится фраза нужно искать другие кореляции"
   ]
  },
  {
   "cell_type": "code",
   "execution_count": 226,
   "metadata": {},
   "outputs": [
    {
     "name": "stdout",
     "output_type": "stream",
     "text": [
      "0.40454163162321277\n"
     ]
    }
   ],
   "source": [
    "#lst_train\n",
    "#lst_test\n",
    "#lst_all\n",
    "P = 481 / (708 + 481)\n",
    "print(P)"
   ]
  },
  {
   "cell_type": "code",
   "execution_count": 172,
   "metadata": {},
   "outputs": [],
   "source": [
    "lst_true = []\n",
    "lst_false = []\n",
    "for i in range(1189):\n",
    "    if df_train.label[i] != 0:\n",
    "        lst_true.append(lst_train[i])\n",
    "    else:\n",
    "        lst_false.append(lst_train[i])"
   ]
  },
  {
   "cell_type": "code",
   "execution_count": 173,
   "metadata": {},
   "outputs": [
    {
     "name": "stdout",
     "output_type": "stream",
     "text": [
      "481\n",
      "708\n"
     ]
    }
   ],
   "source": [
    "print(len(lst_true))\n",
    "print(len(lst_false))"
   ]
  },
  {
   "cell_type": "code",
   "execution_count": 174,
   "metadata": {},
   "outputs": [],
   "source": [
    "vec_true = np.zeros(len(cleaned_vocab))\n",
    "for v in lst_true:\n",
    "    vec_true = vec_true + creat_vec(v)\n",
    "vec_false = np.zeros(len(cleaned_vocab))\n",
    "for v in lst_false:\n",
    "    vec_false = vec_false + creat_vec(v)"
   ]
  },
  {
   "cell_type": "code",
   "execution_count": 223,
   "metadata": {},
   "outputs": [
    {
     "data": {
      "text/plain": [
       "6.407484407484407"
      ]
     },
     "execution_count": 223,
     "metadata": {},
     "output_type": "execute_result"
    }
   ],
   "source": [
    "vec_true.sum(axis=0)/481# В среднем на одно слово больше"
   ]
  },
  {
   "cell_type": "code",
   "execution_count": 224,
   "metadata": {},
   "outputs": [
    {
     "data": {
      "text/plain": [
       "5.453389830508475"
      ]
     },
     "execution_count": 224,
     "metadata": {},
     "output_type": "execute_result"
    }
   ],
   "source": [
    "vec_false.sum(axis=0)/708"
   ]
  },
  {
   "cell_type": "code",
   "execution_count": 175,
   "metadata": {},
   "outputs": [
    {
     "name": "stdout",
     "output_type": "stream",
     "text": [
      "818\n"
     ]
    }
   ],
   "source": [
    "weight = []\n",
    "for v1, v2 in zip(vec_true, vec_false):\n",
    "    if v1!=0 and v2!=0:\n",
    "        weight.append(v1/v2)\n",
    "    elif v1!=0 and v2==0:\n",
    "        weight.append(v1)\n",
    "    elif v1==0 and v2!=0:\n",
    "        weight.append(1/v2)\n",
    "    else:\n",
    "        weight.append(1)#нулевой элемент кольца\n",
    "weight = np.array(weight)\n",
    "print(len(weight))"
   ]
  },
  {
   "cell_type": "code",
   "execution_count": 176,
   "metadata": {},
   "outputs": [
    {
     "data": {
      "text/plain": [
       "786"
      ]
     },
     "execution_count": 176,
     "metadata": {},
     "output_type": "execute_result"
    }
   ],
   "source": [
    "v_t = v_test.copy()\n",
    "len(v_test)"
   ]
  },
  {
   "cell_type": "code",
   "execution_count": 188,
   "metadata": {},
   "outputs": [
    {
     "data": {
      "text/plain": [
       "array([[0., 0., 0., ..., 0., 0., 0.],\n",
       "       [0., 0., 0., ..., 0., 0., 0.],\n",
       "       [0., 0., 0., ..., 0., 0., 0.],\n",
       "       ...,\n",
       "       [0., 0., 0., ..., 0., 0., 0.],\n",
       "       [0., 0., 0., ..., 0., 0., 0.],\n",
       "       [0., 0., 0., ..., 0., 0., 0.]])"
      ]
     },
     "execution_count": 188,
     "metadata": {},
     "output_type": "execute_result"
    }
   ],
   "source": [
    "v_t"
   ]
  },
  {
   "cell_type": "code",
   "execution_count": 192,
   "metadata": {},
   "outputs": [
    {
     "name": "stdout",
     "output_type": "stream",
     "text": [
      "786\n"
     ]
    },
    {
     "data": {
      "text/plain": [
       "(786, 818)"
      ]
     },
     "execution_count": 192,
     "metadata": {},
     "output_type": "execute_result"
    }
   ],
   "source": [
    "ans = np.array([t*weight for t in v_t])\n",
    "print(len(ans))\n",
    "ans.shape"
   ]
  },
  {
   "cell_type": "code",
   "execution_count": 193,
   "metadata": {},
   "outputs": [
    {
     "data": {
      "text/plain": [
       "(786,)"
      ]
     },
     "execution_count": 193,
     "metadata": {},
     "output_type": "execute_result"
    }
   ],
   "source": [
    "vec_sum = ans.sum(axis = 1)\n",
    "vec_sum.shape"
   ]
  },
  {
   "cell_type": "code",
   "execution_count": 194,
   "metadata": {},
   "outputs": [
    {
     "name": "stdout",
     "output_type": "stream",
     "text": [
      "TrueNegative = 12\n",
      "FalsePositive = 402\n",
      "FalseNegative = 18\n",
      "TruePositive = 354\n",
      "\n"
     ]
    }
   ],
   "source": [
    "tp = 0\n",
    "tn = 0\n",
    "fp = 0\n",
    "fn = 0\n",
    "for my_ans, true_ans in zip(vec_sum, values_test):\n",
    "    if my_ans >= 1 and true_ans == 1:\n",
    "        tp += 1\n",
    "    elif my_ans < 1 and true_ans == 0:\n",
    "        tn += 1\n",
    "    if my_ans >= 1 and true_ans == 0:\n",
    "        fp += 1\n",
    "    if my_ans < 1 and true_ans == 1:\n",
    "        fn += 1\n",
    "print('TrueNegative = {}\\nFalsePositive = {}\\nFalseNegative = {}\\nTruePositive = {}\\n'.format(tn, fp, fn, tp))"
   ]
  },
  {
   "cell_type": "code",
   "execution_count": 119,
   "metadata": {},
   "outputs": [
    {
     "data": {
      "text/plain": [
       "array([  -8.,  -23.,  -14.,  -74.,   -5., -168.,   -4.,    1.,    1.,\n",
       "          2.,  -18.,  -16.,   -6.,    3.,    0.,   -1.,    1.,    6.,\n",
       "         -8.,    3.,   -3.,   82.,   -8.,  -13.,   -2.,   27.,   -7.,\n",
       "          4.,    3.,  -51.,    2.,  -15.,   -2.,   15.,  -32.,    2.,\n",
       "         -3.,    2.,   -2.,   -9.,    0.,    1.,   -2.,    5.,   12.,\n",
       "         -3.,  -10.,   -2.,  -20.,  -17.,   -2.,   -2.,    8.,    1.,\n",
       "          1.,    3.,   -6.,   -3.,   -7.,   -5.,   -2.,   -4.,   -7.,\n",
       "         -3.,   -4.,    0.,    4.,   -1.,   -1.,    3.,   -5.,    5.,\n",
       "          7.,    8.,   24.,   -3.,    1.,    1.,    1.,    6.,    4.,\n",
       "          5.,   -2.,   -2.,    5.,    2.,   18.,    2.,    5.,    6.,\n",
       "          6.,   -2.,   -1.,   -8.,   -1.,  -15.,  -12.,  -14.,    3.,\n",
       "          2.,   -8.,   -4.,   -2.,   -4.,  -11.,   -8.,   -6.,    1.,\n",
       "         10.,   -2.,   -6.,    0.,   -5.,   -7.,   -1.,   -1.,    1.,\n",
       "          2.,   -1.,   -1.,    3.,    3.,   -3.,  -13.,   -1.,    1.,\n",
       "          0.,    1.,   -1.,   -2.,    7.,   12.,   -2.,    2.,   -5.,\n",
       "          8.,   -1.,   -1.,  -14.,   -6.,  -10.,  -12.,   -2.,    7.,\n",
       "          8.,   28.,   13.,   15.,    2.,   -2.,  -15.,   -9.,   -3.,\n",
       "          1.,    4.,    4.,    3.,   -4.,   -6.,   -5.,    5.,   -7.,\n",
       "          1.,    2.,   -5.,   -6.,   -2.,   -8.,   16.,    0.,   -9.,\n",
       "         -7.,    5.,    3.,    3.,   12.,   12.,   -4.,    1.,    2.,\n",
       "          5.,   -8.,  -12.,   -2.,   -4.,   -1.,   -3.,    4.,    2.,\n",
       "          1.,   -3.,   -6.,    0.,    4.,    2.,   -8.,   -6.,   -2.,\n",
       "        -12.,  -20.,   -5.,   -3.,    0.,    3.,   -4.,   -2.,   -3.,\n",
       "          4.,    2.,    4.,    1.,    1.,   -1.,   -2.,    2.,    1.,\n",
       "         -1.,    7.,    4.,    5.,    2.,   -1.,    0.,    7.,   -6.,\n",
       "         -6.,    4.,    1.,    2.,   12.,   -1.,    0.,    3.,    1.,\n",
       "         -2.,   -2.,   -3.,    6.,    9.,    5.,    6.,   -7.,    2.,\n",
       "          1.,    0.,   -1.,   -1.,   -2.,   -3.,   -2.,   -3.,   -7.,\n",
       "         -4.,   -4.,   -4.,   -8.,   -3.,   -4.,   -1.,   13.,    0.,\n",
       "         -1.,   -7.,   -1.,    0.,   -2.,   -2.,    0.,   -1.,   -5.,\n",
       "         -6.,   -1.,   -3.,   -3.,   -3.,   -2.,   -9.,    4.,   -6.,\n",
       "          1.,   -2.,    3.,    8.,    2.,    1.,   12.,    1.,   -1.,\n",
       "          8.,    0.,    4.,   -1.,    0.,   -2.,    3.,    1.,   10.,\n",
       "         -4.,   -1.,    8.,   -3.,   -5.,   -5.,   -4.,   -1.,   -3.,\n",
       "          2.,   -3.,   -4.,   -1.,   -1.,   -3.,   -3.,   -8.,   -6.,\n",
       "          1.,    6.,    3.,    9.,    8.,    8.,    2.,    3.,    2.,\n",
       "          0.,   -2.,    0.,    1.,    2.,    5.,   -4.,   -6.,   -1.,\n",
       "         -4.,   -1.,   -3.,   -1.,    2.,    0.,   -1.,   -3.,   -1.,\n",
       "         10.,    1.,    1.,    5.,    4.,    0.,    0.,    0.,    0.,\n",
       "          0.,   -1.,   -2.,   -1.,    2.,    4.,   -7.,   -3.,   -3.,\n",
       "         -1.,    1.,    2.,   -2.,    3.,   -2.,   -3.,    1.,   -1.,\n",
       "          2.,   -1.,   -4.,   -7.,    4.,    0.,    2.,    0.,    4.,\n",
       "         -3.,   -1.,   -2.,    1.,    0.,    0.,    0.,   -2.,   -3.,\n",
       "         -3.,    1.,   -1.,   -4.,    3.,    2.,    0.,   -4.,    0.,\n",
       "         -6.,   -4.,    5.,   -3.,   -3.,    0.,   -8.,   -6.,    4.,\n",
       "          7.,    4.,    3.,    3.,   -7.,  -10.,   -3.,   -4.,   -1.,\n",
       "         -4.,    4.,    2.,   -1.,    3.,    1.,   -2.,   -3.,    0.,\n",
       "          0.,   -8.,   -3.,    4.,    3.,    1.,   -2.,   -5.,    5.,\n",
       "          1.,    2.,    0.,   -5.,   -4.,   -4.,    1.,   -2.,   -2.,\n",
       "         -3.,   -3.,   -3.,    0.,    0.,    1.,   -3.,   -5.,   -1.,\n",
       "          5.,    3.,    1.,    3.,    1.,    2.,   -1.,    2.,   -1.,\n",
       "         -6.,   -3.,    1.,    3.,   -3.,   -2.,    2.,    3.,   -1.,\n",
       "         -4.,   -4.,   -4.,    1.,   -5.,   -3.,    1.,   -2.,   -4.,\n",
       "         -1.,    9.,    1.,    1.,    6.,    7.,    1.,    1.,   -4.,\n",
       "         -2.,   -4.,   -3.,   -3.,   -3.,   -4.,   -3.,    3.,   -2.,\n",
       "          5.,   -5.,   -2.,   -3.,   -3.,    2.,   -3.,    3.,   -3.,\n",
       "         -3.,    2.,    1.,   -1.,    1.,   -6.,    4.,   -3.,    2.,\n",
       "          8.,    1.,   -2.,    1.,   -7.,    1.,    2.,    2.,   -1.,\n",
       "          0.,    2.,   -2.,    1.,   -5.,    1.,   -1.,   -3.,   -1.,\n",
       "          1.,    3.,   -1.,   -4.,   -4.,   -1.,    0.,    0.,   -1.,\n",
       "         -2.,    0.,   -1.,   -3.,   -3.,   -6.,   -1.,    3.,    0.,\n",
       "          3.,   -2.,   -4.,    0.,    2.,    0.,   -9.,    1.,    0.,\n",
       "         -2.,   -4.,   -4.,   -4.,   -1.,    2.,    2.,    2.,   -3.,\n",
       "         -4.,    2.,   -1.,   -3.,    1.,    1.,    0.,    3.,    3.,\n",
       "         -2.,    0.,   -1.,    2.,   -4.,   -1.,    0.,    0.,    2.,\n",
       "          3.,   -3.,    2.,   -2.,   -1.,   -3.,    3.,  -10.,   -9.,\n",
       "          1.,    1.,   -2.,    0.,   -5.,    0.,   -1.,    0.,    0.,\n",
       "         -2.,   -3.,    1.,   -4.,    2.,   -3.,    2.,   -2.,    0.,\n",
       "         -1.,   -2.,   -4.,    2.,    1.,    2.,   -1.,   -2.,   -5.,\n",
       "         -4.,   -1.,   -3.,   -2.,   -2.,    0.,    1.,    3.,   -2.,\n",
       "         -1.,    1.,   -4.,   -2.,   -5.,   -1.,    1.,   -1.,   -5.,\n",
       "         -3.,    1.,    3.,   -3.,   -1.,    0.,   -4.,   -3.,   -3.,\n",
       "          1.,    2.,    0.,    5.,   -1.,  -10.,    0.,    2.,   -2.,\n",
       "          2.,    4.,   -3.,   -7.,   -3.,   -1.,   -1.,   -1.,    0.,\n",
       "          3.,   -3.,   -2.,   -3.,   -3.,   -4.,   -2.,   -2.,   -2.,\n",
       "         -1.,   -1.,    1.,   -3.,   -3.,   -2.,    2.,    2.,    1.,\n",
       "          1.,   -1.,    0.,   -1.,   -2.,    2.,    0.,    4.,   -2.,\n",
       "         -1.,    0.,    0.,    0.,   -1.,   -2.,   -1.,   -4.,   -1.,\n",
       "          4.,   -1.,    0.,    4.,   -4.,    0.,    1.,   -2.,   -1.,\n",
       "         -2.,   -1.,    2.,    0.,    2.,   -7.,    1.,   -3.,    2.,\n",
       "          0.,    2.,   -3.,   -1.,    1.,   -1.,   -4.,   -2.,    0.,\n",
       "         -2.,   -1.,    0.,   -2.,   -2.,    2.,    3.,   -1.,   -1.,\n",
       "         -1.,   -3.,   -1.,   -1.,   -1.,   -2.,    2.,   -1.,    0.,\n",
       "         -2.,   -2.,    1.,    2.,   -3.,   -3.,    3.,    0.,   -2.,\n",
       "         -4.,    2.,   -1.,    1.,   -1.,   -1.,   -3.,   -4.,   -1.,\n",
       "          0.,    1.,   -2.,   -2.,    0.,   -2.,   -1.,   -2.,   -3.,\n",
       "         -2.,   -1.,    0.,    2.,    1.,   -2.,   -1.,   -1.,    0.,\n",
       "          1.,    4.,    1.,    1.,   -2.,    1.,    3.,   -2.,    0.,\n",
       "          0.,    0.,   -3.,   -2.,    1.,   -1.,    1.,    2.,    1.,\n",
       "         -1.,    2.,    2.,    3.,   -2.,    2.,    1.,    4.,    1.,\n",
       "          0.,    1.,    1.,   -1.,    0.,    0.,    0.,    0.])"
      ]
     },
     "execution_count": 119,
     "metadata": {},
     "output_type": "execute_result"
    }
   ],
   "source": [
    "weight"
   ]
  },
  {
   "cell_type": "code",
   "execution_count": null,
   "metadata": {},
   "outputs": [],
   "source": []
  }
 ],
 "metadata": {
  "kernelspec": {
   "display_name": "Python 3",
   "language": "python",
   "name": "python3"
  },
  "language_info": {
   "codemirror_mode": {
    "name": "ipython",
    "version": 3
   },
   "file_extension": ".py",
   "mimetype": "text/x-python",
   "name": "python",
   "nbconvert_exporter": "python",
   "pygments_lexer": "ipython3",
   "version": "3.8.1"
  }
 },
 "nbformat": 4,
 "nbformat_minor": 2
}
