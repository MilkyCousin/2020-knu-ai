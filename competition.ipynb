{
  "nbformat": 4,
  "nbformat_minor": 0,
  "metadata": {
    "colab": {
      "name": "Untitled0.ipynb",
      "provenance": []
    },
    "kernelspec": {
      "name": "python3",
      "display_name": "Python 3"
    }
  },
  "cells": [
    {
      "cell_type": "code",
      "metadata": {
        "id": "6mTLFaoJX1pm",
        "colab_type": "code",
        "outputId": "8ef930b2-000c-468a-9316-71d7646b9f47",
        "colab": {
          "base_uri": "https://localhost:8080/",
          "height": 119
        }
      },
      "source": [
        "from collections import Counter\n",
        "\n",
        "import pandas as pd \n",
        "import numpy as np \n",
        "\n",
        "from sklearn.model_selection import train_test_split\n",
        "from sklearn.metrics import classification_report\n",
        "\n",
        "from string import punctuation\n",
        "from nltk.tokenize import word_tokenize\n",
        "from nltk.corpus import stopwords\n",
        "from nltk.stem import WordNetLemmatizer\n",
        "\n",
        "from sklearn.naive_bayes import MultinomialNB\n",
        "\n",
        "import nltk\n",
        "\n",
        "nltk.download('stopwords')\n",
        "nltk.download('punkt')\n",
        "nltk.download('wordnet')\n",
        "\n",
        "lemmatizer = WordNetLemmatizer() \n",
        "stop_words = set(stopwords.words('english'))"
      ],
      "execution_count": 1,
      "outputs": [
        {
          "output_type": "stream",
          "text": [
            "[nltk_data] Downloading package stopwords to /root/nltk_data...\n",
            "[nltk_data]   Unzipping corpora/stopwords.zip.\n",
            "[nltk_data] Downloading package punkt to /root/nltk_data...\n",
            "[nltk_data]   Unzipping tokenizers/punkt.zip.\n",
            "[nltk_data] Downloading package wordnet to /root/nltk_data...\n",
            "[nltk_data]   Unzipping corpora/wordnet.zip.\n"
          ],
          "name": "stdout"
        }
      ]
    },
    {
      "cell_type": "code",
      "metadata": {
        "id": "9nYrIym1X2sU",
        "colab_type": "code",
        "outputId": "b20da129-9610-4e1c-a712-df8f818f961b",
        "colab": {
          "base_uri": "https://localhost:8080/",
          "height": 122
        }
      },
      "source": [
        "from google.colab import drive\n",
        "drive.mount('/content/drive')\n",
        "df = pd.read_csv(\"/content/drive/My Drive/train.csv\")"
      ],
      "execution_count": 2,
      "outputs": [
        {
          "output_type": "stream",
          "text": [
            "Go to this URL in a browser: https://accounts.google.com/o/oauth2/auth?client_id=947318989803-6bn6qk8qdgf4n4g3pfee6491hc0brc4i.apps.googleusercontent.com&redirect_uri=urn%3aietf%3awg%3aoauth%3a2.0%3aoob&response_type=code&scope=email%20https%3a%2f%2fwww.googleapis.com%2fauth%2fdocs.test%20https%3a%2f%2fwww.googleapis.com%2fauth%2fdrive%20https%3a%2f%2fwww.googleapis.com%2fauth%2fdrive.photos.readonly%20https%3a%2f%2fwww.googleapis.com%2fauth%2fpeopleapi.readonly\n",
            "\n",
            "Enter your authorization code:\n",
            "··········\n",
            "Mounted at /content/drive\n"
          ],
          "name": "stdout"
        }
      ]
    },
    {
      "cell_type": "code",
      "metadata": {
        "id": "K9dbQRG4YDkI",
        "colab_type": "code",
        "colab": {}
      },
      "source": [
        "def preprocess_text(tokenizer, lemmatizer, stop_words, punctuation, text): \n",
        "    tokens = tokenizer(text.lower())\n",
        "    lemmas = [lemmatizer.lemmatize(token) for token in tokens]\n",
        "    return [token for token in lemmas if token not in stop_words and token not in punctuation and len(token) > 4 and len(token) < 20]\n",
        "\n",
        "df['cleaned'] = df.text.apply(lambda x: preprocess_text(word_tokenize, lemmatizer, stop_words, punctuation, x))"
      ],
      "execution_count": 0,
      "outputs": []
    },
    {
      "cell_type": "code",
      "metadata": {
        "id": "FB33A30HYU5v",
        "colab_type": "code",
        "outputId": "515d731e-97ba-4ca1-c2ec-24188e4756f5",
        "colab": {
          "base_uri": "https://localhost:8080/",
          "height": 51
        }
      },
      "source": [
        "def flat_nested(nested):\n",
        "    flatten = []\n",
        "    for item in nested:\n",
        "        if isinstance(item, list):\n",
        "            flatten.extend(item)\n",
        "        else:\n",
        "            flatten.append(item)\n",
        "    return flatten\n",
        "\n",
        "cnt_vocab = Counter(flat_nested(df.cleaned.tolist()))\n",
        "\n",
        "print(\"Vocab size before filtering: {}\".format(len(cnt_vocab)))\n",
        "\n",
        "threshold_count_l = 1\n",
        "threshold_count_h = 10000\n",
        "threshold_len = 1\n",
        "\n",
        "cleaned_vocab = [token for token, count in cnt_vocab.items() if \n",
        "                     threshold_count_h > count > threshold_count_l and len(token) > threshold_len\n",
        "                ]\n",
        "print(\"Vocab size after filtering: {}\".format(len(cleaned_vocab)))\n",
        "cleaned_vocab.append(\" \")\n",
        "cleaned_vocab = set(cleaned_vocab)\n",
        "\n",
        "def filter_noise_tokens(df, cleaned_vocab): \n",
        "    df['filtered_tokens'] = df.cleaned.apply(lambda x: [tok for tok in x if tok in cleaned_vocab])\n",
        "    return df\n",
        "df = filter_noise_tokens(df, cleaned_vocab)\n",
        "df_filtered = df[df.astype(str)['filtered_tokens'] != '[]']"
      ],
      "execution_count": 4,
      "outputs": [
        {
          "output_type": "stream",
          "text": [
            "Vocab size before filtering: 3143\n",
            "Vocab size after filtering: 1021\n"
          ],
          "name": "stdout"
        }
      ]
    },
    {
      "cell_type": "code",
      "metadata": {
        "id": "wcvIuPW4YWxk",
        "colab_type": "code",
        "outputId": "85736f0a-d35a-42a4-b4bb-83f51edfa610",
        "colab": {
          "base_uri": "https://localhost:8080/",
          "height": 204
        }
      },
      "source": [
        "df_filtered.head()"
      ],
      "execution_count": 5,
      "outputs": [
        {
          "output_type": "execute_result",
          "data": {
            "text/html": [
              "<div>\n",
              "<style scoped>\n",
              "    .dataframe tbody tr th:only-of-type {\n",
              "        vertical-align: middle;\n",
              "    }\n",
              "\n",
              "    .dataframe tbody tr th {\n",
              "        vertical-align: top;\n",
              "    }\n",
              "\n",
              "    .dataframe thead th {\n",
              "        text-align: right;\n",
              "    }\n",
              "</style>\n",
              "<table border=\"1\" class=\"dataframe\">\n",
              "  <thead>\n",
              "    <tr style=\"text-align: right;\">\n",
              "      <th></th>\n",
              "      <th>example_id</th>\n",
              "      <th>text</th>\n",
              "      <th>label</th>\n",
              "      <th>cleaned</th>\n",
              "      <th>filtered_tokens</th>\n",
              "    </tr>\n",
              "  </thead>\n",
              "  <tbody>\n",
              "    <tr>\n",
              "      <th>0</th>\n",
              "      <td>140d03eabb7cb5c2558605eb8336689c</td>\n",
              "      <td>brandpost best of both worlds hybrid onsite an...</td>\n",
              "      <td>0</td>\n",
              "      <td>[brandpost, world, hybrid, onsite, cloudbased,...</td>\n",
              "      <td>[world, protection]</td>\n",
              "    </tr>\n",
              "    <tr>\n",
              "      <th>1</th>\n",
              "      <td>f7f1f906c9e2b76e63020f8794516185</td>\n",
              "      <td>$mention$ they shall in all cases except treas...</td>\n",
              "      <td>0</td>\n",
              "      <td>[mention, shall, except, treason, felony, brea...</td>\n",
              "      <td>[mention, treason, breach, peace, arrest]</td>\n",
              "    </tr>\n",
              "    <tr>\n",
              "      <th>2</th>\n",
              "      <td>39f0b2ebc12e008a7a43ec318d0c3874</td>\n",
              "      <td>lifelock offers to protect you from the equifa...</td>\n",
              "      <td>0</td>\n",
              "      <td>[lifelock, offer, protect, equifax, breach, se...</td>\n",
              "      <td>[lifelock, offer, protect, equifax, breach, se...</td>\n",
              "    </tr>\n",
              "    <tr>\n",
              "      <th>3</th>\n",
              "      <td>ad4e57c69f00548253cb6d47b15c3ce4</td>\n",
              "      <td>skimmer adware spent two months in google play...</td>\n",
              "      <td>1</td>\n",
              "      <td>[skimmer, adware, spent, month, google, checkp...</td>\n",
              "      <td>[skimmer, adware, month, google, researcher, m...</td>\n",
              "    </tr>\n",
              "    <tr>\n",
              "      <th>5</th>\n",
              "      <td>f9f0419dd6ec37b9f72a8a8292a37d0b</td>\n",
              "      <td>cyber attack on barts nhs trust eloited zeroda...</td>\n",
              "      <td>1</td>\n",
              "      <td>[cyber, attack, trust, eloited, zeroday, vulne...</td>\n",
              "      <td>[cyber, attack, trust, eloited, zeroday, vulne...</td>\n",
              "    </tr>\n",
              "  </tbody>\n",
              "</table>\n",
              "</div>"
            ],
            "text/plain": [
              "                         example_id  ...                                    filtered_tokens\n",
              "0  140d03eabb7cb5c2558605eb8336689c  ...                                [world, protection]\n",
              "1  f7f1f906c9e2b76e63020f8794516185  ...          [mention, treason, breach, peace, arrest]\n",
              "2  39f0b2ebc12e008a7a43ec318d0c3874  ...  [lifelock, offer, protect, equifax, breach, se...\n",
              "3  ad4e57c69f00548253cb6d47b15c3ce4  ...  [skimmer, adware, month, google, researcher, m...\n",
              "5  f9f0419dd6ec37b9f72a8a8292a37d0b  ...  [cyber, attack, trust, eloited, zeroday, vulne...\n",
              "\n",
              "[5 rows x 5 columns]"
            ]
          },
          "metadata": {
            "tags": []
          },
          "execution_count": 5
        }
      ]
    },
    {
      "cell_type": "code",
      "metadata": {
        "id": "_KSTBl28beYj",
        "colab_type": "code",
        "colab": {}
      },
      "source": [
        "df_train, df_test = train_test_split(df_filtered, test_size=0.3, random_state = 10)"
      ],
      "execution_count": 0,
      "outputs": []
    },
    {
      "cell_type": "code",
      "metadata": {
        "id": "ZvzaUzlkeeEP",
        "colab_type": "code",
        "colab": {}
      },
      "source": [
        "from sklearn.feature_extraction.text import TfidfVectorizer\n",
        "vectorizer = TfidfVectorizer(vocabulary=cleaned_vocab,ngram_range=(1,3))\n",
        "x_train = vectorizer.fit_transform(df_train.filtered_tokens.str.join(' '))\n",
        "x_test = vectorizer.fit_transform(df_test.filtered_tokens.str.join(' '))\n",
        "y_train = df_train['label']\n",
        "y_test = df_test['label']"
      ],
      "execution_count": 0,
      "outputs": []
    },
    {
      "cell_type": "code",
      "metadata": {
        "id": "i1TjGwgwcO63",
        "colab_type": "code",
        "colab": {}
      },
      "source": [
        "classifier = MultinomialNB()\n",
        "classifier.fit(x_train.toarray(),y_train)\n",
        "\n",
        "predictions = classifier.predict(x_test.toarray())"
      ],
      "execution_count": 0,
      "outputs": []
    },
    {
      "cell_type": "code",
      "metadata": {
        "id": "aLlKVOSnexMG",
        "colab_type": "code",
        "outputId": "fabe9e39-cd32-44bc-f4d8-b0abe6a859da",
        "colab": {
          "base_uri": "https://localhost:8080/",
          "height": 170
        }
      },
      "source": [
        "print(classification_report(y_test, predictions))"
      ],
      "execution_count": 9,
      "outputs": [
        {
          "output_type": "stream",
          "text": [
            "              precision    recall  f1-score   support\n",
            "\n",
            "           0       0.80      0.86      0.83       224\n",
            "           1       0.73      0.64      0.69       132\n",
            "\n",
            "    accuracy                           0.78       356\n",
            "   macro avg       0.77      0.75      0.76       356\n",
            "weighted avg       0.78      0.78      0.78       356\n",
            "\n"
          ],
          "name": "stdout"
        }
      ]
    },
    {
      "cell_type": "code",
      "metadata": {
        "id": "RzcTNNW9yn_s",
        "colab_type": "code",
        "colab": {}
      },
      "source": [
        "test = pd.read_csv(\"/content/drive/My Drive/test.csv\")\n",
        "test['cleaned'] = test.text.apply(lambda x: preprocess_text(word_tokenize, lemmatizer, stop_words, punctuation, x))\n",
        "test = filter_noise_tokens(test, cleaned_vocab)\n",
        "x_test = vectorizer.fit_transform(test.filtered_tokens.str.join(' '))\n",
        "predictions = classifier.predict(x_test.toarray())"
      ],
      "execution_count": 0,
      "outputs": []
    },
    {
      "cell_type": "code",
      "metadata": {
        "id": "Skh7kdkvNy2T",
        "colab_type": "code",
        "colab": {}
      },
      "source": [
        "test['label'] = list(map(bool,predictions))\n",
        "subm = test.drop(['text','cleaned', 'filtered_tokens'],axis=1)\n",
        "subm.to_csv(\"/content/drive/My Drive/subm.csv\",index=False)"
      ],
      "execution_count": 0,
      "outputs": []
    },
    {
      "cell_type": "code",
      "metadata": {
        "id": "KFfLcoIThPgb",
        "colab_type": "code",
        "colab": {}
      },
      "source": [
        ""
      ],
      "execution_count": 0,
      "outputs": []
    }
  ]
}