{
 "cells": [
  {
   "cell_type": "markdown",
   "metadata": {},
   "source": [
    "## Imports "
   ]
  },
  {
   "cell_type": "code",
   "execution_count": 1,
   "metadata": {},
   "outputs": [],
   "source": [
    "from collections import Counter\n",
    "\n",
    "import matplotlib.pyplot as plt\n",
    "import seaborn as sns\n",
    "\n",
    "import pandas as pd \n",
    "import numpy as np \n",
    "import torch\n",
    "import torch.nn as nn \n",
    "from sklearn.model_selection import train_test_split\n",
    "from sklearn.metrics import classification_report"
   ]
  },
  {
   "cell_type": "code",
   "execution_count": 2,
   "metadata": {},
   "outputs": [
    {
     "data": {
      "text/plain": [
       "<torch._C.Generator at 0x297bd6bd110>"
      ]
     },
     "execution_count": 2,
     "metadata": {},
     "output_type": "execute_result"
    }
   ],
   "source": [
    "torch.manual_seed(0)"
   ]
  },
  {
   "cell_type": "code",
   "execution_count": 3,
   "metadata": {},
   "outputs": [],
   "source": [
    "df = pd.read_csv(\"../jigsaw-toxic-comment-classification-challenge/train.csv\")"
   ]
  },
  {
   "cell_type": "markdown",
   "metadata": {},
   "source": [
    "## RNNs"
   ]
  },
  {
   "cell_type": "markdown",
   "metadata": {},
   "source": [
    "Please, read about RNNs (Recurrent Neural Networks).  \n",
    "\n",
    "1. Understand it's difference from the FFNNs. (Write your answer down below)  \n",
    "\n",
    "https://towardsdatascience.com/recurrent-neural-networks-rnn-explained-the-eli5-way-3956887e8b75\n",
    "\n",
    "https://towardsdatascience.com/learn-how-recurrent-neural-networks-work-84e975feaaf7\n",
    "\n",
    "2. Why do we need recurrent neural networks? \n",
    "3. For which tasks it would work better? "
   ]
  },
  {
   "cell_type": "markdown",
   "metadata": {},
   "source": [
    "1. Основным свойством рекуррентных нейронных сетей, которая отличает их от сетей прямой связи, это применение результатов выходного слоя сети в качестве входных данных для повторных вычислений. \n",
    "2. В RNN-подобных сетях есть некая реализация памяти, чего нет в классических FFNN сетях.\n",
    "3. Благодаря своим свойствам и структуре, рекуррентная нейронная сеть - как один из хороших подходов к решению некоторых основных задач естественной обработки текста. В качестве примера можно взять семантический анализ текста. Или же анализ частей речи слов в предложениях - здесь проще применить RNN, чем FFNN."
   ]
  },
  {
   "cell_type": "markdown",
   "metadata": {},
   "source": [
    "## Load data "
   ]
  },
  {
   "cell_type": "code",
   "execution_count": 4,
   "metadata": {},
   "outputs": [
    {
     "data": {
      "text/html": [
       "<div>\n",
       "<style scoped>\n",
       "    .dataframe tbody tr th:only-of-type {\n",
       "        vertical-align: middle;\n",
       "    }\n",
       "\n",
       "    .dataframe tbody tr th {\n",
       "        vertical-align: top;\n",
       "    }\n",
       "\n",
       "    .dataframe thead th {\n",
       "        text-align: right;\n",
       "    }\n",
       "</style>\n",
       "<table border=\"1\" class=\"dataframe\">\n",
       "  <thead>\n",
       "    <tr style=\"text-align: right;\">\n",
       "      <th></th>\n",
       "      <th>Unnamed: 0</th>\n",
       "      <th>index</th>\n",
       "      <th>Unnamed: 0.1</th>\n",
       "      <th>id</th>\n",
       "      <th>comment_text</th>\n",
       "      <th>toxic</th>\n",
       "      <th>severe_toxic</th>\n",
       "      <th>obscene</th>\n",
       "      <th>threat</th>\n",
       "      <th>insult</th>\n",
       "      <th>identity_hate</th>\n",
       "      <th>cleaned</th>\n",
       "      <th>toxicity</th>\n",
       "    </tr>\n",
       "  </thead>\n",
       "  <tbody>\n",
       "    <tr>\n",
       "      <th>0</th>\n",
       "      <td>0</td>\n",
       "      <td>99113</td>\n",
       "      <td>110315</td>\n",
       "      <td>4e2c098f06673358</td>\n",
       "      <td>REDIRECT Talk:Worcester cold storage and wareh...</td>\n",
       "      <td>0</td>\n",
       "      <td>0</td>\n",
       "      <td>0</td>\n",
       "      <td>0</td>\n",
       "      <td>0</td>\n",
       "      <td>0</td>\n",
       "      <td>['redirect', 'talk', 'worcester', 'cold', 'sto...</td>\n",
       "      <td>0</td>\n",
       "    </tr>\n",
       "    <tr>\n",
       "      <th>1</th>\n",
       "      <td>1</td>\n",
       "      <td>82092</td>\n",
       "      <td>91416</td>\n",
       "      <td>f470fbfb8a45a534</td>\n",
       "      <td>No they shouldn't.  Sublime is a ska band not ...</td>\n",
       "      <td>0</td>\n",
       "      <td>0</td>\n",
       "      <td>0</td>\n",
       "      <td>0</td>\n",
       "      <td>0</td>\n",
       "      <td>0</td>\n",
       "      <td>[\"n't\", 'sublime', 'ska', 'band', 'surf', 'band']</td>\n",
       "      <td>0</td>\n",
       "    </tr>\n",
       "    <tr>\n",
       "      <th>2</th>\n",
       "      <td>2</td>\n",
       "      <td>59810</td>\n",
       "      <td>66609</td>\n",
       "      <td>b2403a014d32fd1e</td>\n",
       "      <td>\"]] comment added by  (talk • contribs) \\n\\nI'...</td>\n",
       "      <td>0</td>\n",
       "      <td>0</td>\n",
       "      <td>0</td>\n",
       "      <td>0</td>\n",
       "      <td>0</td>\n",
       "      <td>0</td>\n",
       "      <td>['``', 'comment', 'added', 'talk', '•', 'contr...</td>\n",
       "      <td>0</td>\n",
       "    </tr>\n",
       "    <tr>\n",
       "      <th>3</th>\n",
       "      <td>3</td>\n",
       "      <td>91316</td>\n",
       "      <td>101618</td>\n",
       "      <td>1fd66f99a02f5165</td>\n",
       "      <td>Apologies, I have had some trouble with people...</td>\n",
       "      <td>0</td>\n",
       "      <td>0</td>\n",
       "      <td>0</td>\n",
       "      <td>0</td>\n",
       "      <td>0</td>\n",
       "      <td>0</td>\n",
       "      <td>['apology', 'trouble', 'people', 'hacking', 'a...</td>\n",
       "      <td>0</td>\n",
       "    </tr>\n",
       "    <tr>\n",
       "      <th>4</th>\n",
       "      <td>4</td>\n",
       "      <td>13332</td>\n",
       "      <td>14837</td>\n",
       "      <td>2738689dc32d05c6</td>\n",
       "      <td>While you opinion is valuable, it loses its va...</td>\n",
       "      <td>0</td>\n",
       "      <td>0</td>\n",
       "      <td>0</td>\n",
       "      <td>0</td>\n",
       "      <td>0</td>\n",
       "      <td>0</td>\n",
       "      <td>['opinion', 'valuable', 'loses', 'value', 'use...</td>\n",
       "      <td>0</td>\n",
       "    </tr>\n",
       "  </tbody>\n",
       "</table>\n",
       "</div>"
      ],
      "text/plain": [
       "   Unnamed: 0  index  Unnamed: 0.1                id  \\\n",
       "0           0  99113        110315  4e2c098f06673358   \n",
       "1           1  82092         91416  f470fbfb8a45a534   \n",
       "2           2  59810         66609  b2403a014d32fd1e   \n",
       "3           3  91316        101618  1fd66f99a02f5165   \n",
       "4           4  13332         14837  2738689dc32d05c6   \n",
       "\n",
       "                                        comment_text  toxic  severe_toxic  \\\n",
       "0  REDIRECT Talk:Worcester cold storage and wareh...      0             0   \n",
       "1  No they shouldn't.  Sublime is a ska band not ...      0             0   \n",
       "2  \"]] comment added by  (talk • contribs) \\n\\nI'...      0             0   \n",
       "3  Apologies, I have had some trouble with people...      0             0   \n",
       "4  While you opinion is valuable, it loses its va...      0             0   \n",
       "\n",
       "   obscene  threat  insult  identity_hate  \\\n",
       "0        0       0       0              0   \n",
       "1        0       0       0              0   \n",
       "2        0       0       0              0   \n",
       "3        0       0       0              0   \n",
       "4        0       0       0              0   \n",
       "\n",
       "                                             cleaned  toxicity  \n",
       "0  ['redirect', 'talk', 'worcester', 'cold', 'sto...         0  \n",
       "1  [\"n't\", 'sublime', 'ska', 'band', 'surf', 'band']         0  \n",
       "2  ['``', 'comment', 'added', 'talk', '•', 'contr...         0  \n",
       "3  ['apology', 'trouble', 'people', 'hacking', 'a...         0  \n",
       "4  ['opinion', 'valuable', 'loses', 'value', 'use...         0  "
      ]
     },
     "execution_count": 4,
     "metadata": {},
     "output_type": "execute_result"
    }
   ],
   "source": [
    "# Load the DF created during the previous task\n",
    "\n",
    "df_binary = pd.read_csv(\"../jigsaw-toxic-comment-classification-challenge/df_binary.csv\")\n",
    "df_binary.head()"
   ]
  },
  {
   "cell_type": "code",
   "execution_count": 5,
   "metadata": {},
   "outputs": [],
   "source": [
    "# Work with small amount of this data: \n",
    "df_sample, _ = train_test_split(df_binary, test_size=0.7, stratify=df_binary['obscene'])"
   ]
  },
  {
   "cell_type": "code",
   "execution_count": 6,
   "metadata": {},
   "outputs": [
    {
     "name": "stdout",
     "output_type": "stream",
     "text": [
      "Vocab size before filtering: 45481\n",
      "Vocab size after filtering: 61\n"
     ]
    }
   ],
   "source": [
    "def flat_nested(nested):\n",
    "    flatten = []\n",
    "    for item in nested:\n",
    "        if isinstance(item, list):\n",
    "            flatten.extend(item)\n",
    "        else:\n",
    "            flatten.append(item)\n",
    "    return flatten\n",
    "\n",
    "cnt_vocab = Counter(flat_nested(df_sample.cleaned.tolist()))\n",
    "\n",
    "print(\"Vocab size before filtering: {}\".format(len(cnt_vocab)))\n",
    "\n",
    "threshold_count_l = 1\n",
    "threshold_count_h = 500\n",
    "threshold_len = 2\n",
    "\n",
    "cleaned_vocab = [token for token, count in cnt_vocab.items() if \n",
    "                     threshold_count_h > count > threshold_count_l and len(token) > threshold_len\n",
    "                ]\n",
    "print(\"Vocab size after filtering: {}\".format(len(cleaned_vocab)))"
   ]
  },
  {
   "cell_type": "code",
   "execution_count": 7,
   "metadata": {},
   "outputs": [],
   "source": [
    "cleaned_vocab.append(\" \")\n",
    "# Convert list to set \n",
    "cleaned_vocab = set(cleaned_vocab)"
   ]
  },
  {
   "cell_type": "code",
   "execution_count": 8,
   "metadata": {},
   "outputs": [],
   "source": [
    "token_to_id = {v: k for k, v in enumerate(sorted(cleaned_vocab))}\n",
    "id_to_token = {v: k for k, v in token_to_id.items()}"
   ]
  },
  {
   "cell_type": "markdown",
   "metadata": {},
   "source": [
    "Before passing our raw text to the model we need to represent each raw text by a vector.   \n",
    "Let's do this by creating an empty list with all of the tokens in it represented by its id. "
   ]
  },
  {
   "cell_type": "code",
   "execution_count": 9,
   "metadata": {},
   "outputs": [],
   "source": [
    "def vectorize(data, token_to_id, max_len=None, dtype='int32', batch_first=True):\n",
    "    \"\"\"\n",
    "    Casts a list of tokens into rnn-digestable matrix\n",
    "        \"data\" contains only sequences represented by tokens from the dictionary, filter noise before \n",
    "    \"\"\"\n",
    "    seq_lengths = list(map(len, data))\n",
    "    max_len = max_len or max(map(len, data))\n",
    "    # Create a marix with a shape [batch size, max number of tokens in sequence]\n",
    "    data_ix = np.zeros([len(data), max_len], dtype) + token_to_id[' ']\n",
    "\n",
    "    for i in range(len(data)):\n",
    "        line_ix = [token_to_id[c] for c in data[i]]\n",
    "        data_ix[i, :len(line_ix)] = line_ix\n",
    "\n",
    "    return data_ix, seq_lengths"
   ]
  },
  {
   "cell_type": "code",
   "execution_count": 10,
   "metadata": {},
   "outputs": [],
   "source": [
    "def filter_noise_tokens(df, cleaned_vocab): \n",
    "    df['filtered_tokens'] = df.cleaned.apply(lambda x: [tok for tok in x if tok in cleaned_vocab])\n",
    "    return df "
   ]
  },
  {
   "cell_type": "code",
   "execution_count": 11,
   "metadata": {},
   "outputs": [
    {
     "name": "stderr",
     "output_type": "stream",
     "text": [
      "c:\\users\\laplace-transform\\appdata\\local\\programs\\python\\python37\\lib\\site-packages\\ipykernel_launcher.py:2: SettingWithCopyWarning: \n",
      "A value is trying to be set on a copy of a slice from a DataFrame.\n",
      "Try using .loc[row_indexer,col_indexer] = value instead\n",
      "\n",
      "See the caveats in the documentation: http://pandas.pydata.org/pandas-docs/stable/user_guide/indexing.html#returning-a-view-versus-a-copy\n",
      "  \n"
     ]
    }
   ],
   "source": [
    "# After applying this function there would be sentences with all tokens filtered - empty lists. \n",
    "df_sample = filter_noise_tokens(df_sample, cleaned_vocab)\n",
    "\n",
    "# Remove examples without any tokens assigned \n",
    "df_filtered = df_sample[df_sample.astype(str)['filtered_tokens'] != '[]']"
   ]
  },
  {
   "cell_type": "code",
   "execution_count": 12,
   "metadata": {},
   "outputs": [],
   "source": [
    "# Perform train-test split stratified (would be imbalanced)\n",
    "df_train, df_test = train_test_split(df_filtered, test_size=0.4, stratify=df_filtered['obscene'])"
   ]
  },
  {
   "cell_type": "code",
   "execution_count": 13,
   "metadata": {},
   "outputs": [
    {
     "name": "stdout",
     "output_type": "stream",
     "text": [
      "Train shape: (27270, 14)\n",
      "Test shape: (18180, 14)\n"
     ]
    }
   ],
   "source": [
    "print(\"Train shape: {}\".format(df_train.shape))\n",
    "print(\"Test shape: {}\".format(df_test.shape))"
   ]
  },
  {
   "cell_type": "code",
   "execution_count": 14,
   "metadata": {},
   "outputs": [],
   "source": [
    "class RNNLoop(nn.Module):\n",
    "    \n",
    "    def __init__(self, num_tokens, emb_size=200, hid_size=128):\n",
    "        super(self.__class__, self).__init__()\n",
    "        self.emb = nn.Embedding(num_tokens, emb_size)\n",
    "        self.rnn = nn.RNN(emb_size, hid_size, batch_first=True)\n",
    "        self.logits = nn.Linear(hid_size, 1)\n",
    "        self.sigmoid = nn.Sigmoid()\n",
    "        \n",
    "    def forward(self, x, seq_lengths):\n",
    "        # Embed the obtained sequence \n",
    "        emb = self.emb(x)\n",
    "        # Pack padded sequence - why do we need this, refer to:\n",
    "        # https://stackoverflow.com/questions/51030782/why-do-we-pack-the-sequences-in-pytorch\n",
    "        \n",
    "        pack = torch.nn.utils.rnn.pack_padded_sequence(emb,\n",
    "                                                   seq_lengths,\n",
    "                                                   batch_first=True,\n",
    "                                                   enforce_sorted=False\n",
    "                                                  ) \n",
    "        all_hidden_states, hidden = self.rnn(pack)\n",
    "        logits = self.logits(hidden)\n",
    "        # Cast logits to the range from 0 to 1 \n",
    "        output = self.sigmoid(logits)\n",
    "        return output"
   ]
  },
  {
   "cell_type": "code",
   "execution_count": 15,
   "metadata": {},
   "outputs": [],
   "source": [
    "loss_unbalanced = []\n",
    "loss_stratified = []\n",
    "loss_upscaled = []"
   ]
  },
  {
   "cell_type": "code",
   "execution_count": 16,
   "metadata": {},
   "outputs": [],
   "source": [
    "def fast_train_loss_plot(Y, axs = None):\n",
    "    X = range(1, len(Y)+1)\n",
    "    sns.lineplot(\n",
    "        x = \"epochs\", y = \"loss\", \n",
    "        data = pd.DataFrame(np.vstack((X, Y)).T, columns=[\"epochs\", \"loss\"]), ax = axs\n",
    "    )"
   ]
  },
  {
   "cell_type": "code",
   "execution_count": 17,
   "metadata": {},
   "outputs": [
    {
     "name": "stdout",
     "output_type": "stream",
     "text": [
      "Number of iterations for 1 epoch: 426\n",
      "Epoch 0: train loss: 0.22216019597988865\n",
      "Epoch 1: train loss: 0.22105476092722054\n",
      "Epoch 2: train loss: 0.2157355003636069\n",
      "Epoch 3: train loss: 0.22480708312356906\n",
      "Epoch 4: train loss: 0.22084365385046736\n",
      "Epoch 5: train loss: 0.2226168631353012\n",
      "Epoch 6: train loss: 0.21505689610040665\n",
      "Epoch 7: train loss: 0.226254752391136\n",
      "Epoch 8: train loss: 0.22170373107450947\n",
      "Epoch 9: train loss: 0.21907397928459674\n"
     ]
    }
   ],
   "source": [
    "# Initialise the model \n",
    "model = RNNLoop(num_tokens=len(cleaned_vocab))\n",
    "# specify loss function\n",
    "criterion = nn.BCELoss()\n",
    "# specify optimizer\n",
    "optimizer = torch.optim.Adam(model.parameters(), lr = 0.0075)\n",
    "history = []\n",
    "\n",
    "batch_size = 64\n",
    "n_epochs = 10\n",
    "n_iters = df_train.shape[0] // batch_size\n",
    "print(\"Number of iterations for 1 epoch: {}\".format(n_iters))\n",
    "\n",
    "for epoch in range(n_epochs):\n",
    "    epoch_loss = 0 \n",
    "    for step in range(n_iters):\n",
    "\n",
    "        optimizer.zero_grad()    # Forward pass\n",
    "        # Make a random sample from the dataframe \n",
    "        sample = df_train.sample(batch_size)\n",
    "\n",
    "        # Vectorize the obtained sample \n",
    "        batch_ix, seq_lengths = vectorize(sample.filtered_tokens.tolist(), token_to_id)\n",
    "        # Convert vectorized batch to tensor \n",
    "        batch_ix = torch.tensor(batch_ix, dtype=torch.int64)\n",
    "\n",
    "        # Select true labels \n",
    "        y_true = sample.obscene.tolist()\n",
    "        # Convert true labels to tensor \n",
    "        y_true = torch.tensor(y_true, dtype=torch.float)\n",
    "\n",
    "        # Make prediction \n",
    "        y_pred = model(batch_ix, seq_lengths)\n",
    "\n",
    "        loss = criterion(y_pred.squeeze(), y_true)\n",
    "\n",
    "        epoch_loss += loss.item() / n_iters\n",
    "        loss.backward()   # Backward pass \n",
    "        optimizer.step()\n",
    "        \n",
    "    loss_unbalanced.append(epoch_loss)\n",
    "            \n",
    "    print('Epoch {}: train loss: {}'.format(epoch, epoch_loss))    "
   ]
  },
  {
   "cell_type": "code",
   "execution_count": 18,
   "metadata": {},
   "outputs": [],
   "source": [
    "# Functions for test dataset splitting on batches \n",
    "\n",
    "def index_marks(nrows, chunk_size):\n",
    "    return range(1 * chunk_size, (nrows // chunk_size + 1) * chunk_size, chunk_size)\n",
    "\n",
    "def split(df, chunk_size):\n",
    "    indices = index_marks(df.shape[0], chunk_size)\n",
    "    return np.split(df, indices)"
   ]
  },
  {
   "cell_type": "code",
   "execution_count": 19,
   "metadata": {},
   "outputs": [],
   "source": [
    "def make_predictions(model, df_test, batch_size, threshold): \n",
    "    n_prints = 0\n",
    "    predictions = []\n",
    "    true_labels = []\n",
    "    # Split data in batches \n",
    "    test_batches = split(df_test, batch_size)\n",
    "    \n",
    "    for batch in test_batches:\n",
    "        # Vectorize batches\n",
    "        batch_ix, seq_lengths = vectorize(batch.filtered_tokens.tolist(), token_to_id)\n",
    "        # Convert vectorized batch to tensor \n",
    "        batch_ix = torch.tensor(batch_ix, dtype=torch.int64)\n",
    "\n",
    "        # Select true labels \n",
    "        y_true = batch.obscene.tolist()\n",
    "\n",
    "        # Make prediction \n",
    "        y_pred = model(batch_ix, seq_lengths).detach().squeeze().numpy()\n",
    "        # Convert it to binaries \n",
    "        y_pred = [int(pred.item() > threshold) for pred in y_pred]\n",
    "        \n",
    "        # Add them to parallel lists \n",
    "        predictions.extend(y_pred)\n",
    "        true_labels.extend(y_true)\n",
    "        \n",
    "        # Print some examples with obscene documents texts and predicted and true labels \n",
    "        for true, pred, document in zip(y_true, y_pred, batch.comment_text):\n",
    "            if true == 1.0 and n_prints < 10:\n",
    "                print(\"Predicted label: {}\".format(pred))\n",
    "                print(\"True label: {}\".format(true))\n",
    "                print(\"Document: {}\".format(document))\n",
    "                print(\"*-*-\"*20)\n",
    "                n_prints += 1\n",
    "        \n",
    "    return true_labels, predictions"
   ]
  },
  {
   "cell_type": "code",
   "execution_count": 20,
   "metadata": {},
   "outputs": [
    {
     "name": "stdout",
     "output_type": "stream",
     "text": [
      "Predicted label: 0\n",
      "True label: 1\n",
      "Document: message \n",
      "\n",
      "Dude, this is the Internet, not outside, and I'm not going to fight you, so we're even you ARE NOT IN CHARGE OF WIKIPEDIA SO STOP DELETING SHIT FAGGOT\n",
      "*-*-*-*-*-*-*-*-*-*-*-*-*-*-*-*-*-*-*-*-*-*-*-*-*-*-*-*-*-*-*-*-*-*-*-*-*-*-*-*-\n",
      "Predicted label: 0\n",
      "True label: 1\n",
      "Document: What a load of pompous bullshit.\n",
      "*-*-*-*-*-*-*-*-*-*-*-*-*-*-*-*-*-*-*-*-*-*-*-*-*-*-*-*-*-*-*-*-*-*-*-*-*-*-*-*-\n",
      "Predicted label: 0\n",
      "True label: 1\n",
      "Document: shit-faced loser\n",
      "You fucking twat\n",
      "*-*-*-*-*-*-*-*-*-*-*-*-*-*-*-*-*-*-*-*-*-*-*-*-*-*-*-*-*-*-*-*-*-*-*-*-*-*-*-*-\n",
      "Predicted label: 0\n",
      "True label: 1\n",
      "Document: I hat en.wikipedia.com all the people that work for this web page suck balls. You MO FO's that cant get any girls so u go after men u homo's\n",
      "*-*-*-*-*-*-*-*-*-*-*-*-*-*-*-*-*-*-*-*-*-*-*-*-*-*-*-*-*-*-*-*-*-*-*-*-*-*-*-*-\n",
      "Predicted label: 0\n",
      "True label: 1\n",
      "Document: bitch \n",
      "\n",
      "you are such a whiny ass attention whore bitch, go choke on a cock\n",
      "*-*-*-*-*-*-*-*-*-*-*-*-*-*-*-*-*-*-*-*-*-*-*-*-*-*-*-*-*-*-*-*-*-*-*-*-*-*-*-*-\n",
      "Predicted label: 0\n",
      "True label: 1\n",
      "Document: Listen you sick fuck \n",
      "\n",
      "You perverted freakshow loser, nobody wants anything to do with you.  Go fuck yourself and leave Wikipedia the fuck alone and spare the world your scum.\n",
      "*-*-*-*-*-*-*-*-*-*-*-*-*-*-*-*-*-*-*-*-*-*-*-*-*-*-*-*-*-*-*-*-*-*-*-*-*-*-*-*-\n",
      "Predicted label: 0\n",
      "True label: 1\n",
      "Document: NIGHTSTALLIONS WIFE GOT FUCKED BY A NIGGER AND HAD HIS BABY\n",
      "\n",
      "AND IT SMELLED OF FRIED CHICKEN\n",
      "*-*-*-*-*-*-*-*-*-*-*-*-*-*-*-*-*-*-*-*-*-*-*-*-*-*-*-*-*-*-*-*-*-*-*-*-*-*-*-*-\n",
      "Predicted label: 0\n",
      "True label: 1\n",
      "Document: \"\n",
      "\n",
      " THIS IS F***ING SERIOUS! \n",
      "\n",
      "I NOTICED \"\"The Legend of Sleepy Hollow\"\" HAS THE SAME PREVIEWS \"\"Donald's Scary Tales\"\" HAS, WHERE THE COPYWRITE DATE ON THE LAST TAPE I MENTIONED SAID 1990, I'M STARTING TO SAY THAT \"\"The Legend of Sleepy Hollow\"\" WAS RELEASED IN 1990 BECAUSE EVERY TAPE WITH THE SAME PREVIEWS ALWAYS COMES OUT ON THE SAME DAY, AND YOU AWAYS SAY THAT! YOU ALSO SAID THAT TAPE WAS ORIGINALLY 1990, AND I'M TRYING TO TALK YOU BACK INTO IT BECAUSE I MADE A MISTAKE AND DECIDED THAT YOU WERE RIGHT! PLUS, THAT WOULD MEAN THE LASERDISC VERSION OF \"\"The Adventures of Ichabod and Mr. Toad\"\" WAS 1990! SAME THING GOES WITH THE 1990 VHS RELEASES OF \"\"Dumbo\"\", \"\"The Sword in the Stone\"\", and \"\"Alice in Wonderland\"\". THEY HAVE THE SAME OPENING THE 1990 VHS OF \"\"The Little Mermaid\"\" HAS, SO THEY ARE 1990 FOR THE SAME OPENING! \"\"Robin Hood\"\" WAS MAY 3, 1991 BECAUSE LIKE YOU SAID, TITLES ARE USUALLY RE-ISSUED TO PROMOTE THE NEWEST TITLES OF THE SERIES, SO \"\"Robin Hood\"\" WAS RE-ISSUED TO PROMOTE \"\"The Jungle Book\"\"! ALSO, MY COUSINS' D*** COPY OF \"\"Pinocchio\"\" WAS PRINTED APRIL 28, 1987, SO IT DROPPED OUT APRIL 1987, NOT JANUARY! SAME WITH \"\"Robin Hood\"\"! PLUS, OCTOBER 27 IS SUNDAY! NOTHING EVER HAPPENS ON SUNDAY! SO, THE 1985 VHS OF \"\"The Love Bug\"\" WAS OCTOBER 29 BECAUSE IT'S TUESDAY, AND I'M NOT GOING TO LEAVE UNTIL YOU ACCEPT THIS, YOU F***ING PUSSBAG!  \"\n",
      "*-*-*-*-*-*-*-*-*-*-*-*-*-*-*-*-*-*-*-*-*-*-*-*-*-*-*-*-*-*-*-*-*-*-*-*-*-*-*-*-\n",
      "Predicted label: 0\n",
      "True label: 1\n",
      "Document: \"\n",
      "\n",
      "So what? She didn't use foul language she still acted like a royal bitch. She isn't queen of wikipedia. \"\"Get some tea,\"\" bullshit.\n",
      "\n",
      "And you know what? Your a motherfucker too. You can eat my ass you son of a bitch. You can't go around and talk down to people like she did and expect them to just take it like its nothing.   \"\n",
      "*-*-*-*-*-*-*-*-*-*-*-*-*-*-*-*-*-*-*-*-*-*-*-*-*-*-*-*-*-*-*-*-*-*-*-*-*-*-*-*-\n",
      "Predicted label: 0\n",
      "True label: 1\n",
      "Document: Whatever, dumbass. \n",
      "\n",
      "Go eat Jimbo's pussy.\n",
      "*-*-*-*-*-*-*-*-*-*-*-*-*-*-*-*-*-*-*-*-*-*-*-*-*-*-*-*-*-*-*-*-*-*-*-*-*-*-*-*-\n"
     ]
    }
   ],
   "source": [
    "true_labels, predictions = make_predictions(model, df_test, batch_size=64, threshold=0.3)"
   ]
  },
  {
   "cell_type": "code",
   "execution_count": 21,
   "metadata": {},
   "outputs": [
    {
     "name": "stdout",
     "output_type": "stream",
     "text": [
      "              precision    recall  f1-score   support\n",
      "\n",
      "           0       0.94      1.00      0.97     17170\n",
      "           1       0.00      0.00      0.00      1010\n",
      "\n",
      "    accuracy                           0.94     18180\n",
      "   macro avg       0.47      0.50      0.49     18180\n",
      "weighted avg       0.89      0.94      0.92     18180\n",
      "\n"
     ]
    },
    {
     "name": "stderr",
     "output_type": "stream",
     "text": [
      "c:\\users\\laplace-transform\\appdata\\local\\programs\\python\\python37\\lib\\site-packages\\sklearn\\metrics\\_classification.py:1272: UndefinedMetricWarning: Precision and F-score are ill-defined and being set to 0.0 in labels with no predicted samples. Use `zero_division` parameter to control this behavior.\n",
      "  _warn_prf(average, modifier, msg_start, len(result))\n"
     ]
    }
   ],
   "source": [
    "# Pring a classification report: \n",
    "\n",
    "print(classification_report(true_labels, predictions))"
   ]
  },
  {
   "cell_type": "code",
   "execution_count": 28,
   "metadata": {},
   "outputs": [
    {
     "name": "stdout",
     "output_type": "stream",
     "text": [
      "{0, 1} {0}\n"
     ]
    }
   ],
   "source": [
    "print(set(true_labels), set(predictions))"
   ]
  },
  {
   "cell_type": "code",
   "execution_count": 31,
   "metadata": {},
   "outputs": [
    {
     "data": {
      "text/plain": [
       "17.98318496538081"
      ]
     },
     "execution_count": 31,
     "metadata": {},
     "output_type": "execute_result"
    }
   ],
   "source": [
    "len(df_test)/np.sum(df_test.obscene == 1)"
   ]
  },
  {
   "cell_type": "code",
   "execution_count": 22,
   "metadata": {},
   "outputs": [],
   "source": [
    "# let's try to implement poor stratifying\n",
    "def stratified_train_test(frame, name_col, train_size = 0.5, reset_idx = False):\n",
    "    \n",
    "    assert 0 < train_size < 1\n",
    "    \n",
    "    frame_train_non = frame[frame['toxicity'] == 0].sample(int(train_size * len(frame[frame['toxicity'] == 0])))\n",
    "    frame_train_mrk = frame[frame[name_col] != 0].sample(int(train_size * len(frame[frame[name_col] != 0])))\n",
    "    \n",
    "    frame_train = frame_train_non.append(frame_train_mrk).sample(frac = 1)\n",
    "    frame_test = frame.drop(index = frame_train.index).sample(frac = 1)\n",
    "    \n",
    "    if reset_idx:\n",
    "        frame_train = frame_train.reset_index(drop = True)\n",
    "        frame_test = frame_test.reset_index(drop = True)\n",
    "        \n",
    "    return frame_train, frame_test"
   ]
  },
  {
   "cell_type": "code",
   "execution_count": 23,
   "metadata": {},
   "outputs": [],
   "source": [
    "df_train, df_test = stratified_train_test(df_filtered, 'obscene', 0.6)"
   ]
  },
  {
   "cell_type": "code",
   "execution_count": 24,
   "metadata": {},
   "outputs": [
    {
     "name": "stdout",
     "output_type": "stream",
     "text": [
      "Number of iterations for 1 epoch: 426\n",
      "Epoch 0: train loss: 0.21891022000916516\n",
      "Epoch 1: train loss: 0.22322526211225083\n",
      "Epoch 2: train loss: 0.21847224711689725\n",
      "Epoch 3: train loss: 0.216330610001416\n",
      "Epoch 4: train loss: 0.22706942381818254\n",
      "Epoch 5: train loss: 0.21622732662958716\n",
      "Epoch 6: train loss: 0.23156302108346294\n",
      "Epoch 7: train loss: 0.21933251182972838\n",
      "Epoch 8: train loss: 0.2261203642882092\n",
      "Epoch 9: train loss: 0.220414074137807\n"
     ]
    }
   ],
   "source": [
    "# Initialise the model \n",
    "model = RNNLoop(num_tokens=len(cleaned_vocab))\n",
    "# specify loss function\n",
    "criterion = nn.BCELoss()\n",
    "# specify optimizer\n",
    "optimizer = torch.optim.Adam(model.parameters(), lr = 0.0075)\n",
    "history = []\n",
    "\n",
    "batch_size = 64\n",
    "n_epochs = 10\n",
    "n_iters = df_train.shape[0] // batch_size\n",
    "print(\"Number of iterations for 1 epoch: {}\".format(n_iters))\n",
    "\n",
    "for epoch in range(n_epochs):\n",
    "    epoch_loss = 0 \n",
    "    for step in range(n_iters):\n",
    "\n",
    "        optimizer.zero_grad()    # Forward pass\n",
    "        # Make a random sample from the dataframe \n",
    "        sample = df_train.sample(batch_size)\n",
    "\n",
    "        # Vectorize the obtained sample \n",
    "        batch_ix, seq_lengths = vectorize(sample.filtered_tokens.tolist(), token_to_id)\n",
    "        # Convert vectorized batch to tensor \n",
    "        batch_ix = torch.tensor(batch_ix, dtype=torch.int64)\n",
    "\n",
    "        # Select true labels \n",
    "        y_true = sample.obscene.tolist()\n",
    "        # Convert true labels to tensor \n",
    "        y_true = torch.tensor(y_true, dtype=torch.float)\n",
    "\n",
    "        # Make prediction \n",
    "        y_pred = model(batch_ix, seq_lengths)\n",
    "\n",
    "        loss = criterion(y_pred.squeeze(), y_true)\n",
    "\n",
    "        epoch_loss += loss.item() / n_iters\n",
    "        loss.backward()   # Backward pass \n",
    "        optimizer.step()\n",
    "                \n",
    "    loss_stratified.append(epoch_loss)\n",
    "                \n",
    "    print('Epoch {}: train loss: {}'.format(epoch, epoch_loss))    "
   ]
  },
  {
   "cell_type": "code",
   "execution_count": 25,
   "metadata": {},
   "outputs": [
    {
     "name": "stdout",
     "output_type": "stream",
     "text": [
      "Predicted label: 0\n",
      "True label: 1\n",
      "Document: \"\n",
      "\n",
      "What the fuck?!?!\n",
      "\n",
      "\"\"Germany\"\" was full of dirty nazi scum at the time of theRevolutions of 1848.....\n",
      "\n",
      "Can somebody correct that statement, it is very, very and demeans the article.\"\n",
      "*-*-*-*-*-*-*-*-*-*-*-*-*-*-*-*-*-*-*-*-*-*-*-*-*-*-*-*-*-*-*-*-*-*-*-*-*-*-*-*-\n",
      "Predicted label: 0\n",
      "True label: 1\n",
      "Document: fffffffff   uuuuuu     uuuuu   ccccccccccccc  kkkkk   uuuuuuuuu\n",
      "fffffffff   uuuuuu     uuuuu   ccccccccccccc\n",
      "fffff       uuuuuu     uuuuu   cccc\n",
      "fffffffff   uuuuuu     uuuuu   cccc\n",
      "fffffffff   uuuuuu     uuuuu   cccc\n",
      "fffff       uuuuuu     uuuuu   cccc\n",
      "fffff       uuuuuuuuuuuuuuuu   cccccccccccc\n",
      "fffff       uuuuuuuuuuuuuuuu   cccccccccccc\n",
      "*-*-*-*-*-*-*-*-*-*-*-*-*-*-*-*-*-*-*-*-*-*-*-*-*-*-*-*-*-*-*-*-*-*-*-*-*-*-*-*-\n",
      "Predicted label: 0\n",
      "True label: 1\n",
      "Document: MAYBE YOU DONT UNDERSTAND THE HEIRACHY YOU FUCKING CUNT ARSE MUTHER FUCKER.\n",
      "*-*-*-*-*-*-*-*-*-*-*-*-*-*-*-*-*-*-*-*-*-*-*-*-*-*-*-*-*-*-*-*-*-*-*-*-*-*-*-*-\n",
      "Predicted label: 0\n",
      "True label: 1\n",
      "Document: Fuck You\n",
      "All I Did Was Put Stuff On My user Page And Your Deleted It SO Fuck You And Fuck Wikipedia\n",
      "*-*-*-*-*-*-*-*-*-*-*-*-*-*-*-*-*-*-*-*-*-*-*-*-*-*-*-*-*-*-*-*-*-*-*-*-*-*-*-*-\n",
      "Predicted label: 0\n",
      "True label: 1\n",
      "Document: moooovvvvvveeeeeeeeeerrrrrrrrr fuuuuuuuuuuuuuucccccckkkkkkkkkkkkkkeeeeeeeeeeeer\n",
      "why the hell did you block oliver hacker pro\n",
      "imbisil\n",
      "*-*-*-*-*-*-*-*-*-*-*-*-*-*-*-*-*-*-*-*-*-*-*-*-*-*-*-*-*-*-*-*-*-*-*-*-*-*-*-*-\n",
      "Predicted label: 0\n",
      "True label: 1\n",
      "Document: Sound like the kind of malice and stupidity I expect from you\n",
      "*-*-*-*-*-*-*-*-*-*-*-*-*-*-*-*-*-*-*-*-*-*-*-*-*-*-*-*-*-*-*-*-*-*-*-*-*-*-*-*-\n",
      "Predicted label: 0\n",
      "True label: 1\n",
      "Document: Elsewhere I am nothing but sunshine, gumdrops and cuppycakes.  Here on my page, if you decide to be an asshat, I will put you in your place.\n",
      "*-*-*-*-*-*-*-*-*-*-*-*-*-*-*-*-*-*-*-*-*-*-*-*-*-*-*-*-*-*-*-*-*-*-*-*-*-*-*-*-\n",
      "Predicted label: 0\n",
      "True label: 1\n",
      "Document: Thank you for the explanation. Now I know exactly what your issue is. Not. Seriously, can you be any more ignorant? I mean, are you actually trying to be an asshole? It's a simple process - you object to something, I ask what the issue is, you give an answer. Prick.\n",
      "*-*-*-*-*-*-*-*-*-*-*-*-*-*-*-*-*-*-*-*-*-*-*-*-*-*-*-*-*-*-*-*-*-*-*-*-*-*-*-*-\n",
      "Predicted label: 0\n",
      "True label: 1\n",
      "Document: oh shit you gon get banned\n",
      "*-*-*-*-*-*-*-*-*-*-*-*-*-*-*-*-*-*-*-*-*-*-*-*-*-*-*-*-*-*-*-*-*-*-*-*-*-*-*-*-\n",
      "Predicted label: 0\n",
      "True label: 1\n",
      "Document: well hes an idiot, he removed my edits for no reason even though they were correct\n",
      "*-*-*-*-*-*-*-*-*-*-*-*-*-*-*-*-*-*-*-*-*-*-*-*-*-*-*-*-*-*-*-*-*-*-*-*-*-*-*-*-\n",
      "              precision    recall  f1-score   support\n",
      "\n",
      "           0       0.94      1.00      0.97     17170\n",
      "           1       0.00      0.00      0.00      1011\n",
      "\n",
      "    accuracy                           0.94     18181\n",
      "   macro avg       0.47      0.50      0.49     18181\n",
      "weighted avg       0.89      0.94      0.92     18181\n",
      "\n"
     ]
    }
   ],
   "source": [
    "true_labels, predictions = make_predictions(model, df_test, batch_size=64, threshold=0.3)\n",
    "print(classification_report(true_labels, predictions))"
   ]
  },
  {
   "cell_type": "markdown",
   "metadata": {},
   "source": [
    "Видно из результатов, применение районированной выборки для обучения и валидации модели приносит результаты немного лучше. Но ситуаця с небольшим количеством текстов с пометкой 'obscene' всё ещё остаётся нерешённой. Необходимо как-то манипулировать данными, чтобы увеличить объём проблематичной выборки."
   ]
  },
  {
   "cell_type": "code",
   "execution_count": 26,
   "metadata": {},
   "outputs": [],
   "source": [
    "# now we'll be using upscaling method"
   ]
  },
  {
   "cell_type": "code",
   "execution_count": 27,
   "metadata": {},
   "outputs": [
    {
     "ename": "NameError",
     "evalue": "name 'loss_strtified' is not defined",
     "output_type": "error",
     "traceback": [
      "\u001b[1;31m---------------------------------------------------------------------------\u001b[0m",
      "\u001b[1;31mNameError\u001b[0m                                 Traceback (most recent call last)",
      "\u001b[1;32m<ipython-input-27-bc99a92fac7a>\u001b[0m in \u001b[0;36m<module>\u001b[1;34m\u001b[0m\n\u001b[0;32m      2\u001b[0m \u001b[1;33m\u001b[0m\u001b[0m\n\u001b[0;32m      3\u001b[0m \u001b[0mfast_train_loss_plot\u001b[0m\u001b[1;33m(\u001b[0m\u001b[0mloss_unbalanced\u001b[0m\u001b[1;33m,\u001b[0m \u001b[0ma\u001b[0m\u001b[1;33m)\u001b[0m\u001b[1;33m\u001b[0m\u001b[1;33m\u001b[0m\u001b[0m\n\u001b[1;32m----> 4\u001b[1;33m \u001b[0mfast_train_loss_plot\u001b[0m\u001b[1;33m(\u001b[0m\u001b[0mloss_strtified\u001b[0m\u001b[1;33m,\u001b[0m \u001b[0ma\u001b[0m\u001b[1;33m)\u001b[0m\u001b[1;33m\u001b[0m\u001b[1;33m\u001b[0m\u001b[0m\n\u001b[0m",
      "\u001b[1;31mNameError\u001b[0m: name 'loss_strtified' is not defined"
     ]
    },
    {
     "data": {
      "image/png": "[encoded data removed]",
      "text/plain": [
       "<Figure size 1008x576 with 1 Axes>"
      ]
     },
     "metadata": {
      "needs_background": "light"
     },
     "output_type": "display_data"
    }
   ],
   "source": [
    "f, a = plt.subplots(1, 1, figsize = (14, 8))\n",
    "\n",
    "fast_train_loss_plot(loss_unbalanced, a)\n",
    "fast_train_loss_plot(loss_strtified, a)"
   ]
  },
  {
   "cell_type": "markdown",
   "metadata": {},
   "source": [
    "## Task\n",
    "\n",
    "1. Make a dataset balanced: for example select all of the obscene messages, calculate its number and sample from the clean \n",
    "messages equal number of examples. **(1)See if it increased your score on toxic messages.** \n",
    "\n",
    "As the **additional** task you can modify your dataset sampling during the training/testing. Read about Datasets, DataSamplers and DataLoaders in pytorch. Try to apply them. \n",
    "\n",
    "\n",
    "2. Read about RNNs different types (LSTMs and GRUs): \n",
    "  https://colah.github.io/posts/2015-08-Understanding-LSTMs/  \n",
    "\n",
    "  https://towardsdatascience.com/illustrated-guide-to-lstms-and-gru-s-a-step-by-step-explanation-44e9eb85bf21 \n",
    "  \n",
    "  **(2)What is the difference between RNN and LSTM? Why do we need LSTM? Explain it in your own words.**  \n",
    "  \n",
    "  **(3)What is the difference between LSTM and GRU? Explain it in your own words.** \n",
    "  \n",
    "  \n",
    "3. Modify your network to make it possible to work with nn.LSTM or nn.GRU layers. (Their outputs may be a little bit defferent from nn.RNN, so be careful to modify your code accordingly). \n",
    "\n",
    "4. Compare all of the previous examples: classification with RNN (or LSTM/GRU) and FFNN. **(4)Which one performed better according to the metrics? (5)To the time?**\n",
    "\n",
    "5. **(6)How dataset imbalancing are influencing your model? Read about dataset imbalancing and about possibilities to handle them. (7)Write down below what can we do with it, or implement a solution.** \n",
    "  \n",
    "  "
   ]
  },
  {
   "cell_type": "markdown",
   "metadata": {},
   "source": [
    "Please, answer the questions 1-7 and write your answers down below: "
   ]
  },
  {
   "cell_type": "markdown",
   "metadata": {},
   "source": [
    "1. Ответ дан немного раньше. Если кратко - помогло. Но этого недостаточно, можно большего добиться.\n",
    "2. RNN vs LSTM\n",
    "3. LSTM vs GRU\n",
    "4. RNN vs FFNN - metrics\n",
    "5. Исходя из проделанного в этой блокноте, хочется утверждать, что модель RNN учится дольше модели FFNN. Это объясняется сложностью первой структуры...  \n",
    "6. Интуитивно ясно, что существует прямая зависимость между качеством собранных данных для модели и её итоговыми показателями...\n",
    "7. Проблему о слабо сбалансированном наборе данных для модели можно решить двумя основными способами. Первым способом будет создание районированной выборки из исходной, вторым - искусственный метод увеличения объёма малого подмножества выборки (по сравнению с количеством остальных данных в ней)."
   ]
  }
 ],
 "metadata": {
  "kernelspec": {
   "display_name": "Python 3",
   "language": "python",
   "name": "python3"
  },
  "language_info": {
   "codemirror_mode": {
    "name": "ipython",
    "version": 3
   },
   "file_extension": ".py",
   "mimetype": "text/x-python",
   "name": "python",
   "nbconvert_exporter": "python",
   "pygments_lexer": "ipython3",
   "version": "3.7.4"
  }
 },
 "nbformat": 4,
 "nbformat_minor": 2
}
