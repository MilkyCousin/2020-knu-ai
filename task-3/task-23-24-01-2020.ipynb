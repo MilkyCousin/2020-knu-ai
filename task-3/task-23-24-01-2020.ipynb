{
  "nbformat": 4,
  "nbformat_minor": 0,
  "metadata": {
    "kernelspec": {
      "display_name": "Python 3",
      "language": "python",
      "name": "python3"
    },
    "language_info": {
      "codemirror_mode": {
        "name": "ipython",
        "version": 3
      },
      "file_extension": ".py",
      "mimetype": "text/x-python",
      "name": "python",
      "nbconvert_exporter": "python",
      "pygments_lexer": "ipython3",
      "version": "3.6.8"
    },
    "colab": {
      "name": "task-23-24-01-2020.ipynb",
      "provenance": [],
      "collapsed_sections": [],
      "machine_shape": "hm"
    }
  },
  "cells": [
    {
      "cell_type": "markdown",
      "metadata": {
        "id": "0RxlFd2H39T6",
        "colab_type": "text"
      },
      "source": [
        "## Prerequisites\n",
        "\n"
      ]
    },
    {
      "cell_type": "code",
      "metadata": {
        "id": "EjeEvdCL39UE",
        "colab_type": "code",
        "colab": {}
      },
      "source": [
        "import pandas as pd \n",
        "import numpy as np \n",
        "from sklearn.linear_model import LogisticRegression\n",
        "from sklearn.neighbors import KNeighborsClassifier\n",
        "from sklearn.ensemble import RandomForestClassifier\n",
        "from sklearn.svm import SVC\n",
        "from sklearn.naive_bayes import GaussianNB\n",
        "from sklearn.model_selection import train_test_split\n",
        "from sklearn.feature_extraction.text import CountVectorizer"
      ],
      "execution_count": 0,
      "outputs": []
    },
    {
      "cell_type": "markdown",
      "metadata": {
        "id": "N2idFb1F39UU",
        "colab_type": "text"
      },
      "source": [
        "### Note! Some of these models support only multiclass classification, please, while selecting your dataset,  \n",
        "### be sure that for algorithms which does not support multilabel classification you use only examples with only one label. \n",
        "### Examples without a label in any of the provided categories are clean messages, without any toxicity."
      ]
    },
    {
      "cell_type": "code",
      "metadata": {
        "id": "-k9dNmr039UY",
        "colab_type": "code",
        "colab": {}
      },
      "source": [
        "df = pd.read_csv(\"train.csv\")"
      ],
      "execution_count": 0,
      "outputs": []
    },
    {
      "cell_type": "code",
      "metadata": {
        "id": "MXAeIDBC39Uh",
        "colab_type": "code",
        "outputId": "3a4dafa3-38bd-4ca0-b8f2-68e89b2dade6",
        "colab": {}
      },
      "source": [
        "df.head()"
      ],
      "execution_count": 0,
      "outputs": [
        {
          "output_type": "execute_result",
          "data": {
            "text/html": [
              "<div>\n",
              "<style scoped>\n",
              "    .dataframe tbody tr th:only-of-type {\n",
              "        vertical-align: middle;\n",
              "    }\n",
              "\n",
              "    .dataframe tbody tr th {\n",
              "        vertical-align: top;\n",
              "    }\n",
              "\n",
              "    .dataframe thead th {\n",
              "        text-align: right;\n",
              "    }\n",
              "</style>\n",
              "<table border=\"1\" class=\"dataframe\">\n",
              "  <thead>\n",
              "    <tr style=\"text-align: right;\">\n",
              "      <th></th>\n",
              "      <th>id</th>\n",
              "      <th>comment_text</th>\n",
              "      <th>toxic</th>\n",
              "      <th>severe_toxic</th>\n",
              "      <th>obscene</th>\n",
              "      <th>threat</th>\n",
              "      <th>insult</th>\n",
              "      <th>identity_hate</th>\n",
              "    </tr>\n",
              "  </thead>\n",
              "  <tbody>\n",
              "    <tr>\n",
              "      <th>0</th>\n",
              "      <td>0000997932d777bf</td>\n",
              "      <td>Explanation\\nWhy the edits made under my usern...</td>\n",
              "      <td>0</td>\n",
              "      <td>0</td>\n",
              "      <td>0</td>\n",
              "      <td>0</td>\n",
              "      <td>0</td>\n",
              "      <td>0</td>\n",
              "    </tr>\n",
              "    <tr>\n",
              "      <th>1</th>\n",
              "      <td>000103f0d9cfb60f</td>\n",
              "      <td>D'aww! He matches this background colour I'm s...</td>\n",
              "      <td>0</td>\n",
              "      <td>0</td>\n",
              "      <td>0</td>\n",
              "      <td>0</td>\n",
              "      <td>0</td>\n",
              "      <td>0</td>\n",
              "    </tr>\n",
              "    <tr>\n",
              "      <th>2</th>\n",
              "      <td>000113f07ec002fd</td>\n",
              "      <td>Hey man, I'm really not trying to edit war. It...</td>\n",
              "      <td>0</td>\n",
              "      <td>0</td>\n",
              "      <td>0</td>\n",
              "      <td>0</td>\n",
              "      <td>0</td>\n",
              "      <td>0</td>\n",
              "    </tr>\n",
              "    <tr>\n",
              "      <th>3</th>\n",
              "      <td>0001b41b1c6bb37e</td>\n",
              "      <td>\"\\nMore\\nI can't make any real suggestions on ...</td>\n",
              "      <td>0</td>\n",
              "      <td>0</td>\n",
              "      <td>0</td>\n",
              "      <td>0</td>\n",
              "      <td>0</td>\n",
              "      <td>0</td>\n",
              "    </tr>\n",
              "    <tr>\n",
              "      <th>4</th>\n",
              "      <td>0001d958c54c6e35</td>\n",
              "      <td>You, sir, are my hero. Any chance you remember...</td>\n",
              "      <td>0</td>\n",
              "      <td>0</td>\n",
              "      <td>0</td>\n",
              "      <td>0</td>\n",
              "      <td>0</td>\n",
              "      <td>0</td>\n",
              "    </tr>\n",
              "  </tbody>\n",
              "</table>\n",
              "</div>"
            ],
            "text/plain": [
              "                 id                                       comment_text  toxic  \\\n",
              "0  0000997932d777bf  Explanation\\nWhy the edits made under my usern...      0   \n",
              "1  000103f0d9cfb60f  D'aww! He matches this background colour I'm s...      0   \n",
              "2  000113f07ec002fd  Hey man, I'm really not trying to edit war. It...      0   \n",
              "3  0001b41b1c6bb37e  \"\\nMore\\nI can't make any real suggestions on ...      0   \n",
              "4  0001d958c54c6e35  You, sir, are my hero. Any chance you remember...      0   \n",
              "\n",
              "   severe_toxic  obscene  threat  insult  identity_hate  \n",
              "0             0        0       0       0              0  \n",
              "1             0        0       0       0              0  \n",
              "2             0        0       0       0              0  \n",
              "3             0        0       0       0              0  \n",
              "4             0        0       0       0              0  "
            ]
          },
          "metadata": {
            "tags": []
          },
          "execution_count": 3
        }
      ]
    },
    {
      "cell_type": "code",
      "metadata": {
        "id": "M7lbcGhO39Ux",
        "colab_type": "code",
        "outputId": "3341aba9-7c7f-4b0a-8d82-a6d09a98192f",
        "colab": {}
      },
      "source": [
        "df.shape"
      ],
      "execution_count": 0,
      "outputs": [
        {
          "output_type": "execute_result",
          "data": {
            "text/plain": [
              "(159571, 8)"
            ]
          },
          "metadata": {
            "tags": []
          },
          "execution_count": 4
        }
      ]
    },
    {
      "cell_type": "markdown",
      "metadata": {
        "id": "ZhBV1GGL39U8",
        "colab_type": "text"
      },
      "source": [
        "### As one of the methods to make the training simpier, use only examples, assigned to any category vs clean examples.  \n",
        "For example:  \n",
        "- Select only messages with obscene label == 1  \n",
        "- Select all of the \"clean\" messages  \n",
        "Implement a model which can perform a binary classification  - to understand whether your message is obscene or not.   "
      ]
    },
    {
      "cell_type": "markdown",
      "metadata": {
        "id": "cOGMhNuJ39U_",
        "colab_type": "text"
      },
      "source": [
        "##### If you want to perform a multilabel classification, please understand the difference between multilabel and multiclass classification and be sure that you are solving the correct task - choose only algorithms applicable for solving this type of problem."
      ]
    },
    {
      "cell_type": "markdown",
      "metadata": {
        "id": "iYrOult339VB",
        "colab_type": "text"
      },
      "source": [
        "#### To work with multiclass task:  \n",
        "You only need to select messages which have only one label assigned: message cannot be assigned to 2 or more categories.  \n",
        "\n",
        "#### To work with multilabel task: \n",
        "You can work with the whole dataset - some of your messages have only 1 label, some more than 1. "
      ]
    },
    {
      "cell_type": "markdown",
      "metadata": {
        "id": "MWHy3UWc39VF",
        "colab_type": "text"
      },
      "source": [
        "## Text vectorization"
      ]
    },
    {
      "cell_type": "markdown",
      "metadata": {
        "id": "kBLgtgCj39VI",
        "colab_type": "text"
      },
      "source": [
        "Previously we worked only with words vectorization. But we need to have a vector for each text, not only words from it. \n",
        "\n",
        "Before starting a text vectorization, please, make sure you are working with clean data - use the dataset created on the previous day. Cleaned from punctuation, stop words, lemmatized or stemmed, etc. "
      ]
    },
    {
      "cell_type": "code",
      "metadata": {
        "id": "KDA-aYyg39VL",
        "colab_type": "code",
        "outputId": "0e1704b1-dfef-4d59-e734-41fc310a5d7d",
        "colab": {
          "base_uri": "https://localhost:8080/",
          "height": 51
        }
      },
      "source": [
        "from string import punctuation\n",
        "\n",
        "from nltk.tokenize import word_tokenize\n",
        "from nltk.corpus import stopwords\n",
        "from nltk.stem import WordNetLemmatizer \n",
        "import nltk\n",
        "nltk.download('stopwords')  \n",
        "lemmatizer = WordNetLemmatizer() \n",
        "stop_words = set(stopwords.words('english'))"
      ],
      "execution_count": 3,
      "outputs": [
        {
          "output_type": "stream",
          "text": [
            "[nltk_data] Downloading package stopwords to /root/nltk_data...\n",
            "[nltk_data]   Unzipping corpora/stopwords.zip.\n"
          ],
          "name": "stdout"
        }
      ]
    },
    {
      "cell_type": "code",
      "metadata": {
        "id": "QN-BANZA39VW",
        "colab_type": "code",
        "outputId": "75689c61-e8c2-4cf4-de8d-4eaaa081bc9e",
        "colab": {
          "base_uri": "https://localhost:8080/",
          "height": 85
        }
      },
      "source": [
        "import nltk\n",
        "nltk.download('punkt')\n",
        "nltk.download('wordnet')\n",
        "def preprocess_text(tokenizer, lemmatizer, stop_words, punctuation, text): \n",
        "    tokens = tokenizer(text.lower())\n",
        "    lemmas = [lemmatizer.lemmatize(token) for token in tokens]\n",
        "    return [token for token in lemmas if token not in stop_words and token not in punctuation]\n",
        "\n",
        "df['cleaned'] = df.comment_text.apply(lambda x: preprocess_text(word_tokenize, lemmatizer, stop_words, punctuation, x))"
      ],
      "execution_count": 4,
      "outputs": [
        {
          "output_type": "stream",
          "text": [
            "[nltk_data] Downloading package punkt to /root/nltk_data...\n",
            "[nltk_data]   Unzipping tokenizers/punkt.zip.\n",
            "[nltk_data] Downloading package wordnet to /root/nltk_data...\n",
            "[nltk_data]   Unzipping corpora/wordnet.zip.\n"
          ],
          "name": "stdout"
        }
      ]
    },
    {
      "cell_type": "code",
      "metadata": {
        "id": "_3pjVQa_39Vf",
        "colab_type": "code",
        "outputId": "f8096f03-b15e-4e4a-a44e-75e0cc9d5723",
        "colab": {
          "base_uri": "https://localhost:8080/",
          "height": 476
        }
      },
      "source": [
        "df.head()"
      ],
      "execution_count": 0,
      "outputs": [
        {
          "output_type": "execute_result",
          "data": {
            "text/html": [
              "<div>\n",
              "<style scoped>\n",
              "    .dataframe tbody tr th:only-of-type {\n",
              "        vertical-align: middle;\n",
              "    }\n",
              "\n",
              "    .dataframe tbody tr th {\n",
              "        vertical-align: top;\n",
              "    }\n",
              "\n",
              "    .dataframe thead th {\n",
              "        text-align: right;\n",
              "    }\n",
              "</style>\n",
              "<table border=\"1\" class=\"dataframe\">\n",
              "  <thead>\n",
              "    <tr style=\"text-align: right;\">\n",
              "      <th></th>\n",
              "      <th>id</th>\n",
              "      <th>comment_text</th>\n",
              "      <th>toxic</th>\n",
              "      <th>severe_toxic</th>\n",
              "      <th>obscene</th>\n",
              "      <th>threat</th>\n",
              "      <th>insult</th>\n",
              "      <th>identity_hate</th>\n",
              "      <th>cleaned</th>\n",
              "    </tr>\n",
              "  </thead>\n",
              "  <tbody>\n",
              "    <tr>\n",
              "      <th>0</th>\n",
              "      <td>0000997932d777bf</td>\n",
              "      <td>Explanation\\nWhy the edits made under my usern...</td>\n",
              "      <td>0</td>\n",
              "      <td>0</td>\n",
              "      <td>0</td>\n",
              "      <td>0</td>\n",
              "      <td>0</td>\n",
              "      <td>0</td>\n",
              "      <td>[explanation, edits, made, username, hardcore,...</td>\n",
              "    </tr>\n",
              "    <tr>\n",
              "      <th>1</th>\n",
              "      <td>000103f0d9cfb60f</td>\n",
              "      <td>D'aww! He matches this background colour I'm s...</td>\n",
              "      <td>0</td>\n",
              "      <td>0</td>\n",
              "      <td>0</td>\n",
              "      <td>0</td>\n",
              "      <td>0</td>\n",
              "      <td>0</td>\n",
              "      <td>[d'aww, match, background, colour, 'm, seeming...</td>\n",
              "    </tr>\n",
              "    <tr>\n",
              "      <th>2</th>\n",
              "      <td>000113f07ec002fd</td>\n",
              "      <td>Hey man, I'm really not trying to edit war. It...</td>\n",
              "      <td>0</td>\n",
              "      <td>0</td>\n",
              "      <td>0</td>\n",
              "      <td>0</td>\n",
              "      <td>0</td>\n",
              "      <td>0</td>\n",
              "      <td>[hey, man, 'm, really, trying, edit, war, 's, ...</td>\n",
              "    </tr>\n",
              "    <tr>\n",
              "      <th>3</th>\n",
              "      <td>0001b41b1c6bb37e</td>\n",
              "      <td>\"\\nMore\\nI can't make any real suggestions on ...</td>\n",
              "      <td>0</td>\n",
              "      <td>0</td>\n",
              "      <td>0</td>\n",
              "      <td>0</td>\n",
              "      <td>0</td>\n",
              "      <td>0</td>\n",
              "      <td>[``, ca, n't, make, real, suggestion, improvem...</td>\n",
              "    </tr>\n",
              "    <tr>\n",
              "      <th>4</th>\n",
              "      <td>0001d958c54c6e35</td>\n",
              "      <td>You, sir, are my hero. Any chance you remember...</td>\n",
              "      <td>0</td>\n",
              "      <td>0</td>\n",
              "      <td>0</td>\n",
              "      <td>0</td>\n",
              "      <td>0</td>\n",
              "      <td>0</td>\n",
              "      <td>[sir, hero, chance, remember, page, 's]</td>\n",
              "    </tr>\n",
              "  </tbody>\n",
              "</table>\n",
              "</div>"
            ],
            "text/plain": [
              "                 id  ...                                            cleaned\n",
              "0  0000997932d777bf  ...  [explanation, edits, made, username, hardcore,...\n",
              "1  000103f0d9cfb60f  ...  [d'aww, match, background, colour, 'm, seeming...\n",
              "2  000113f07ec002fd  ...  [hey, man, 'm, really, trying, edit, war, 's, ...\n",
              "3  0001b41b1c6bb37e  ...  [``, ca, n't, make, real, suggestion, improvem...\n",
              "4  0001d958c54c6e35  ...            [sir, hero, chance, remember, page, 's]\n",
              "\n",
              "[5 rows x 9 columns]"
            ]
          },
          "metadata": {
            "tags": []
          },
          "execution_count": 9
        }
      ]
    },
    {
      "cell_type": "code",
      "metadata": {
        "id": "W0Q_Xbyq39Vp",
        "colab_type": "code",
        "colab": {}
      },
      "source": [
        "def flat_nested(nested):\n",
        "    flatten = []\n",
        "    for item in nested:\n",
        "        if isinstance(item, list):\n",
        "            flatten.extend(item)\n",
        "        else:\n",
        "            flatten.append(item)\n",
        "    return flatten"
      ],
      "execution_count": 0,
      "outputs": []
    },
    {
      "cell_type": "code",
      "metadata": {
        "id": "zpLKazn739V1",
        "colab_type": "code",
        "colab": {}
      },
      "source": [
        "vocab = set(flat_nested(df.cleaned.tolist()))"
      ],
      "execution_count": 0,
      "outputs": []
    },
    {
      "cell_type": "code",
      "metadata": {
        "id": "FOrYatOC39V9",
        "colab_type": "code",
        "outputId": "33d70ace-59ff-47cf-8890-3fb6201aed92",
        "colab": {
          "base_uri": "https://localhost:8080/",
          "height": 34
        }
      },
      "source": [
        "len(vocab)"
      ],
      "execution_count": 0,
      "outputs": [
        {
          "output_type": "execute_result",
          "data": {
            "text/plain": [
              "249736"
            ]
          },
          "metadata": {
            "tags": []
          },
          "execution_count": 8
        }
      ]
    },
    {
      "cell_type": "markdown",
      "metadata": {
        "id": "BE-wjM9S39WF",
        "colab_type": "text"
      },
      "source": [
        "As we see, probably you vocabulary is too large.  \n",
        "Let's try to make it smaller.  \n",
        "For example, let's get rig of words, which has counts in our dataset less than some threshold."
      ]
    },
    {
      "cell_type": "code",
      "metadata": {
        "id": "zK3HN5Yp39WI",
        "colab_type": "code",
        "colab": {}
      },
      "source": [
        "from collections import Counter, defaultdict \n",
        "\n",
        "cnt_vocab = Counter(flat_nested(df.cleaned.tolist()))"
      ],
      "execution_count": 0,
      "outputs": []
    },
    {
      "cell_type": "code",
      "metadata": {
        "id": "YDmZOyIr39WQ",
        "colab_type": "code",
        "outputId": "0a001249-4c50-4b86-b599-baa90f7d6103",
        "colab": {
          "base_uri": "https://localhost:8080/",
          "height": 187
        }
      },
      "source": [
        "cnt_vocab.most_common(10)"
      ],
      "execution_count": 64,
      "outputs": [
        {
          "output_type": "execute_result",
          "data": {
            "text/plain": [
              "[(\"''\", 242528),\n",
              " ('``', 155370),\n",
              " ('article', 73284),\n",
              " (\"'s\", 66767),\n",
              " (\"n't\", 57144),\n",
              " ('wa', 56592),\n",
              " ('page', 56263),\n",
              " ('wikipedia', 45418),\n",
              " ('talk', 35356),\n",
              " ('ha', 31896)]"
            ]
          },
          "metadata": {
            "tags": []
          },
          "execution_count": 64
        }
      ]
    },
    {
      "cell_type": "markdown",
      "metadata": {
        "id": "v_MV0qTB39WZ",
        "colab_type": "text"
      },
      "source": [
        "You can clean words which are shorter that particular length and occur less than N times. "
      ]
    },
    {
      "cell_type": "code",
      "metadata": {
        "id": "4L84j3TU39Wi",
        "colab_type": "code",
        "colab": {}
      },
      "source": [
        "threshold_count = 10\n",
        "threshold_len = 4 \n",
        "cleaned_vocab = [token for token, count in cnt_vocab.items() if count > threshold_count and len(token) > threshold_len]"
      ],
      "execution_count": 0,
      "outputs": []
    },
    {
      "cell_type": "code",
      "metadata": {
        "id": "vSDjlE8L39Wv",
        "colab_type": "code",
        "outputId": "58de79cf-d60d-4d97-da37-00834edf2ead",
        "colab": {
          "base_uri": "https://localhost:8080/",
          "height": 34
        }
      },
      "source": [
        "len(cleaned_vocab)"
      ],
      "execution_count": 9,
      "outputs": [
        {
          "output_type": "execute_result",
          "data": {
            "text/plain": [
              "18696"
            ]
          },
          "metadata": {
            "tags": []
          },
          "execution_count": 9
        }
      ]
    },
    {
      "cell_type": "markdown",
      "metadata": {
        "id": "kl1EKDpc39W8",
        "colab_type": "text"
      },
      "source": [
        "Much better!  \n",
        "Let's try to vectorize the text summing one-hot vectors for each word. "
      ]
    },
    {
      "cell_type": "code",
      "metadata": {
        "id": "idhF_V9939W-",
        "colab_type": "code",
        "colab": {}
      },
      "source": [
        "vocabulary = defaultdict()\n",
        "\n",
        "for i, token in enumerate(cleaned_vocab): \n",
        "    empty_vec = np.zeros(len(cleaned_vocab))\n",
        "    empty_vec[i] = 1 \n",
        "    vocabulary[token] = empty_vec\n"
      ],
      "execution_count": 0,
      "outputs": []
    },
    {
      "cell_type": "code",
      "metadata": {
        "id": "YYjSvoZ239XG",
        "colab_type": "code",
        "outputId": "c73a8fba-dbd1-48f3-a65a-b3677582d28b",
        "colab": {
          "base_uri": "https://localhost:8080/",
          "height": 34
        }
      },
      "source": [
        "vocabulary['source']"
      ],
      "execution_count": 83,
      "outputs": [
        {
          "output_type": "execute_result",
          "data": {
            "text/plain": [
              "array([0., 0., 0., ..., 0., 0., 0.])"
            ]
          },
          "metadata": {
            "tags": []
          },
          "execution_count": 83
        }
      ]
    },
    {
      "cell_type": "markdown",
      "metadata": {
        "id": "L1jBmOH239XW",
        "colab_type": "text"
      },
      "source": [
        "Rigth now we have vectors for words (words are one-hot \n",
        "vectorized**)  \n",
        "Let's try to create vectors for texts: "
      ]
    },
    {
      "cell_type": "code",
      "metadata": {
        "id": "wwkqvUKW39XZ",
        "colab_type": "code",
        "outputId": "1d912074-e2f0-4931-a8d8-dea707939288",
        "colab": {
          "base_uri": "https://localhost:8080/",
          "height": 54
        }
      },
      "source": [
        "sample_text = df.cleaned[10]\n",
        "print(sample_text)"
      ],
      "execution_count": 11,
      "outputs": [
        {
          "output_type": "stream",
          "text": [
            "['``', 'fair', 'use', 'rationale', 'image', 'wonju.jpg', 'thanks', 'uploading', 'image', 'wonju.jpg', 'notice', 'image', 'page', 'specifies', 'image', 'used', 'fair', 'use', 'explanation', 'rationale', 'use', 'wikipedia', 'article', 'constitutes', 'fair', 'use', 'addition', 'boilerplate', 'fair', 'use', 'template', 'must', 'also', 'write', 'image', 'description', 'page', 'specific', 'explanation', 'rationale', 'using', 'image', 'article', 'consistent', 'fair', 'use', 'please', 'go', 'image', 'description', 'page', 'edit', 'include', 'fair', 'use', 'rationale', 'uploaded', 'fair', 'use', 'medium', 'consider', 'checking', 'specified', 'fair', 'use', 'rationale', 'page', 'find', 'list', \"'image\", 'page', 'edited', 'clicking', '``', \"''\", 'contribution', \"''\", \"''\", 'link', 'located', 'top', 'wikipedia', 'page', 'logged', 'selecting', '``', \"''\", 'image', \"''\", \"''\", 'dropdown', 'box', 'note', 'fair', 'use', 'image', 'uploaded', '4', 'may', '2006', 'lacking', 'explanation', 'deleted', 'one', 'week', 'uploaded', 'described', 'criterion', 'speedy', 'deletion', 'question', 'please', 'ask', 'medium', 'copyright', 'question', 'page', 'thank', 'talk', '•', 'contribs', '•', 'unspecified', 'source', 'image', 'wonju.jpg', 'thanks', 'uploading', 'image', 'wonju.jpg', 'noticed', 'file', \"'s\", 'description', 'page', 'currently', 'doe', \"n't\", 'specify', 'created', 'content', 'copyright', 'status', 'unclear', 'create', 'file', 'need', 'specify', 'owner', 'copyright', 'obtained', 'website', 'link', 'website', 'wa', 'taken', 'together', 'restatement', 'website', \"'s\", 'term', 'use', 'content', 'usually', 'sufficient', 'information', 'however', 'copyright', 'holder', 'different', 'website', \"'s\", 'publisher', 'copyright', 'also', 'acknowledged', 'well', 'adding', 'source', 'please', 'add', 'proper', 'copyright', 'licensing', 'tag', 'file', 'doe', \"n't\", 'one', 'already', 'created/took', 'picture', 'audio', 'video', 'tag', 'used', 'release', 'gfdl', 'believe', 'medium', 'meet', 'criterion', 'wikipedia', 'fair', 'use', 'use', 'tag', 'one', 'tag', 'listed', 'wikipedia', 'image', 'copyright', 'tag', 'fair', 'use', 'see', 'wikipedia', 'image', 'copyright', 'tag', 'full', 'list', 'copyright', 'tag', 'use', 'uploaded', 'file', 'consider', 'checking', 'specified', 'source', 'tagged', 'find', 'list', 'file', 'uploaded', 'following', 'link', 'unsourced', 'untagged', 'image', 'may', 'deleted', 'one', 'week', 'tagged', 'described', 'criterion', 'speedy', 'deletion', 'image', 'copyrighted', 'non-free', 'license', 'per', 'wikipedia', 'fair', 'use', 'image', 'deleted', '48', 'hour', 'question', 'please', 'ask', 'medium', 'copyright', 'question', 'page', 'thank', 'talk', '•', 'contribs', '•', '``']\n"
          ],
          "name": "stdout"
        }
      ]
    },
    {
      "cell_type": "markdown",
      "metadata": {
        "id": "XbYxW_3R39Xm",
        "colab_type": "text"
      },
      "source": [
        "### One-hot vectorization and count vectorization"
      ]
    },
    {
      "cell_type": "code",
      "metadata": {
        "id": "-_xSRA9J39Xp",
        "colab_type": "code",
        "colab": {}
      },
      "source": [
        "sample_vector = np.zeros(len(cleaned_vocab))\n",
        "\n",
        "for token in sample_text: \n",
        "    try: \n",
        "        sample_vector += vocabulary[token]\n",
        "    except KeyError: \n",
        "        continue   "
      ],
      "execution_count": 0,
      "outputs": []
    },
    {
      "cell_type": "code",
      "metadata": {
        "id": "4N4110KW39Xw",
        "colab_type": "code",
        "outputId": "12aef1b7-4fe7-46a6-f736-28efd36732a8",
        "colab": {
          "base_uri": "https://localhost:8080/",
          "height": 34
        }
      },
      "source": [
        "sample_vector"
      ],
      "execution_count": 0,
      "outputs": [
        {
          "output_type": "execute_result",
          "data": {
            "text/plain": [
              "array([3., 0., 0., ..., 0., 0., 0.])"
            ]
          },
          "metadata": {
            "tags": []
          },
          "execution_count": 84
        }
      ]
    },
    {
      "cell_type": "markdown",
      "metadata": {
        "id": "UilYLtWj39X4",
        "colab_type": "text"
      },
      "source": [
        "Right now we have count vectorization for our text.   \n",
        "Use this pipeline to create vectors for all of the texts. Save them into np.array. i-th raw in np.array is a vector which represents i-th text from the dataframe.  "
      ]
    },
    {
      "cell_type": "code",
      "metadata": {
        "id": "LNafHXWY39X6",
        "colab_type": "code",
        "colab": {}
      },
      "source": [
        "sample_size=1000\n",
        "df_small = df.cleaned.sample(sample_size)\n",
        "def vectorization(shape, data):\n",
        "   k=0\n",
        "   all_text_vector = np.zeros((shape, len(cleaned_vocab)))\n",
        "   for i in data:\n",
        "     text_vector = np.zeros(len(cleaned_vocab))\n",
        "     for token in i: \n",
        "       try: \n",
        "           text_vector += vocabulary[token]\n",
        "       except KeyError: \n",
        "           continue \n",
        "     all_text_vector[k]=text_vector\n",
        "     k+=1\n",
        "   return  all_text_vector\n",
        "vectorize_text = vectorization (sample_size, df_small)\n"
      ],
      "execution_count": 0,
      "outputs": []
    },
    {
      "cell_type": "code",
      "metadata": {
        "id": "z6d3gI5G1WXL",
        "colab_type": "code",
        "outputId": "81951ca0-fcfd-4b9c-a271-a84469cc211e",
        "colab": {
          "base_uri": "https://localhost:8080/",
          "height": 136
        }
      },
      "source": [
        "all_text_vector"
      ],
      "execution_count": 0,
      "outputs": [
        {
          "output_type": "execute_result",
          "data": {
            "text/plain": [
              "array([[0., 1., 0., ..., 0., 0., 0.],\n",
              "       [0., 0., 0., ..., 0., 0., 0.],\n",
              "       [0., 0., 0., ..., 0., 0., 0.],\n",
              "       ...,\n",
              "       [0., 0., 0., ..., 0., 0., 0.],\n",
              "       [0., 0., 0., ..., 0., 0., 0.],\n",
              "       [0., 0., 0., ..., 0., 0., 0.]])"
            ]
          },
          "metadata": {
            "tags": []
          },
          "execution_count": 135
        }
      ]
    },
    {
      "cell_type": "code",
      "metadata": {
        "id": "j6BZFkI7Ct91",
        "colab_type": "code",
        "outputId": "e9c85552-bef4-42cf-8c5e-5bc32eff03f5",
        "colab": {
          "base_uri": "https://localhost:8080/",
          "height": 34
        }
      },
      "source": [
        "idx = df_small.index\n",
        "texts = df.cleaned[idx]\n",
        "test_vectorize = vectorization(sample_size, texts)\n",
        "test_arr = test_vectorize == vectorize_text\n",
        "test=np.all(test_arr)\n",
        "print(test)\n"
      ],
      "execution_count": 14,
      "outputs": [
        {
          "output_type": "stream",
          "text": [
            "True\n"
          ],
          "name": "stdout"
        }
      ]
    },
    {
      "cell_type": "markdown",
      "metadata": {
        "id": "A3Fb31ze39YC",
        "colab_type": "text"
      },
      "source": [
        "### The next step is to train any classification model on top of the received vectors and report the quality. "
      ]
    },
    {
      "cell_type": "markdown",
      "metadata": {
        "id": "BBB6XQdb39YE",
        "colab_type": "text"
      },
      "source": [
        "Please, select any of the proposed pipelines for performing a text classification task. (Binary, multiclass or multilabel).  "
      ]
    },
    {
      "cell_type": "markdown",
      "metadata": {
        "id": "2fK261iJ39YG",
        "colab_type": "text"
      },
      "source": [
        "The main task to calculate our models performance is to create a training and test sets. When you selected a texts for your task, please, use https://scikit-learn.org/stable/modules/generated/sklearn.model_selection.train_test_split.html to have at least two sets - train and test.  \n",
        "\n",
        "Train examples you will use to train your model on and test examples to evaluate your model - to understand how your model works on the unseen data. "
      ]
    },
    {
      "cell_type": "markdown",
      "metadata": {
        "id": "M_7li3J539YK",
        "colab_type": "text"
      },
      "source": [
        "### Train-test split "
      ]
    },
    {
      "cell_type": "code",
      "metadata": {
        "id": "3KDt4Zcb39YM",
        "colab_type": "code",
        "colab": {
          "base_uri": "https://localhost:8080/",
          "height": 221
        },
        "outputId": "a4871fc6-67b0-46a4-a71f-707788e84935"
      },
      "source": [
        "p=0.75\n",
        "df_categories = ['identity_hate', 'insult', 'obscene', 'severe_toxic', 'threat', 'toxic']\n",
        "df_insult = df[df['insult']==1]\n",
        "df_clean = df[~df[df_categories].any(axis = 'columns')]\n",
        "df_combined = df_insult.append(df_clean)\n",
        "df_combined = df_combined[['cleaned', 'insult']]\n",
        "df_combined = df_combined.sample(frac = 1)\n",
        "df_train, df_test = train_test_split(df_combined, train_size = p)\n",
        "X_train = df_train['cleaned'] \n",
        "Y_train = df_train['insult']\n",
        "X_test = df_test['cleaned']\n",
        "Y_test = df_test['insult']\n",
        "X_train"
      ],
      "execution_count": 15,
      "outputs": [
        {
          "output_type": "execute_result",
          "data": {
            "text/plain": [
              "24820     [``, decided, ``, '', breached, '', '', term, ...\n",
              "67788     [wikipedia, wikiproject, outline, knowledge/pr...\n",
              "95236     [``, aid, origin, opposed, scientific, consens...\n",
              "148885    [``, crux, link, 'm, really, starting, get, ti...\n",
              "13766          [edit, live, prayer, constitutes, vandalism]\n",
              "                                ...                        \n",
              "75846     [thank, experimenting, wikipedia, test, worked...\n",
              "82031     [reason, removed, wa, unsourced, probably, unn...\n",
              "123635    [hello, im, ashley, favel, know, someone, coul...\n",
              "95339     [2022, fifa, world, cup, suggest, taking, 2022...\n",
              "127804    [``, common, admin, noticeboard, beginning, 3/...\n",
              "Name: cleaned, Length: 113417, dtype: object"
            ]
          },
          "metadata": {
            "tags": []
          },
          "execution_count": 15
        }
      ]
    },
    {
      "cell_type": "markdown",
      "metadata": {
        "id": "JOEz7erB39YV",
        "colab_type": "text"
      },
      "source": [
        "TF-IDF score "
      ]
    },
    {
      "cell_type": "markdown",
      "metadata": {
        "id": "YkAQv_js39YX",
        "colab_type": "text"
      },
      "source": [
        "#### Please, review again this article or read it if you have not done it before. \n",
        "\n",
        "https://medium.com/@paritosh_30025/natural-language-processing-text-data-vectorization-af2520529cf7"
      ]
    },
    {
      "cell_type": "markdown",
      "metadata": {
        "id": "D0sgJE8s39YZ",
        "colab_type": "text"
      },
      "source": [
        "#### Implement calculating a tf-idf score for each of the words from your vocabulary. \n",
        "\n",
        "The main goal of this taks is to create a dictionary - keys of the dictionary would be tokens and values would be corresponding tf-idf score of the token.\n",
        "\n",
        "#### Calculate it MANUALLY and compare the received scores for words with the sklearn implementation:  \n",
        "from sklearn.feature_extraction.text import TfidfTransformer "
      ]
    },
    {
      "cell_type": "markdown",
      "metadata": {
        "id": "K_W4qE1H39Yb",
        "colab_type": "text"
      },
      "source": [
        "#### Tip: \n",
        "\n",
        "##### TF = (Number of time the word occurs in the current text) / (Total number of words in the current text)  \n",
        "\n",
        "##### IDF = (Total number of documents / Number of documents with word t in it)\n",
        "\n",
        "##### TF-IDF = TF*IDF "
      ]
    },
    {
      "cell_type": "markdown",
      "metadata": {
        "id": "cLBxxBvC39Ye",
        "colab_type": "text"
      },
      "source": [
        "When you calculated a tf-idf score for each of the words in your vocabulary - revectorize the texts.  \n",
        "Instead of using number of occurences of the i-th word in the i-th cell of the text vector, use it's tf-idf score.   \n",
        "\n",
        "Revectorize the documents, save vectors into np.array. "
      ]
    },
    {
      "cell_type": "code",
      "metadata": {
        "id": "-FkGwVVs39Yg",
        "colab_type": "code",
        "colab": {
          "base_uri": "https://localhost:8080/",
          "height": 51
        },
        "outputId": "5ad66d6d-f970-4af9-eb8a-abea6a429a3e"
      },
      "source": [
        "vectorizer = CountVectorizer()\n",
        "X_train_list=X_train.to_list()\n",
        "corpus=[]\n",
        "for text in X_train_list:\n",
        "  corpus.append(' '.join(text))\n",
        "X = vectorizer.fit_transform(corpus)\n",
        "matrix_freq = np.asarray(X.sum(axis=0)).ravel()\n",
        "final_matrix = np.array([np.array(vectorizer.get_feature_names()), matrix_freq])\n",
        "final_matrix"
      ],
      "execution_count": 18,
      "outputs": [
        {
          "output_type": "execute_result",
          "data": {
            "text/plain": [
              "array([['00', '000', '0000', ..., '𐌰𐌹', '𐌰𐌿', '𐌴𐌹'],\n",
              "       ['598', '1369', '5', ..., '1', '1', '1']], dtype='<U4955')"
            ]
          },
          "metadata": {
            "tags": []
          },
          "execution_count": 18
        }
      ]
    },
    {
      "cell_type": "markdown",
      "metadata": {
        "id": "05aC4o_l39Yq",
        "colab_type": "text"
      },
      "source": [
        "### Training the model "
      ]
    },
    {
      "cell_type": "markdown",
      "metadata": {
        "id": "01MNSr4y39Yu",
        "colab_type": "text"
      },
      "source": [
        "As it was said before, select any of the text classification models for the selected task and train the model. \n",
        "\n",
        "When the model is trained, you need to evaluate it somehow. \n",
        "\n",
        "Read about True positive, False positive, False negative and True negative counts and how to calculate them:   \n",
        "\n",
        "https://developers.google.com/machine-learning/crash-course/classification/true-false-positive-negative \n",
        "\n",
        "##### Calculate TP, FP, FN and TN on the test set for your model to measure its performance. \n"
      ]
    },
    {
      "cell_type": "code",
      "metadata": {
        "id": "TFigfGLd39Yx",
        "colab_type": "code",
        "colab": {}
      },
      "source": [
        "TP = 0  ## Your code here \n",
        "FP = 0  ## Your code here \n",
        "FN = 0  ## Your code here \n",
        "TN = 0  ## Your code here "
      ],
      "execution_count": 0,
      "outputs": []
    },
    {
      "cell_type": "markdown",
      "metadata": {
        "id": "7NCVBVUS39Y5",
        "colab_type": "text"
      },
      "source": [
        "#### The next step is to calculate  Precision, Recall, F1 and F2 score \n",
        "\n",
        "https://en.wikipedia.org/wiki/Sensitivity_and_specificity"
      ]
    },
    {
      "cell_type": "code",
      "metadata": {
        "id": "bNT8agzu39Y7",
        "colab_type": "code",
        "colab": {}
      },
      "source": [
        "prec = 0  ## Your code here \n",
        "rec = 0  ## Your code here \n",
        "F1 = 0  ## Your code here \n",
        "F2 = 0  ## Your code here "
      ],
      "execution_count": 0,
      "outputs": []
    },
    {
      "cell_type": "markdown",
      "metadata": {
        "id": "cAk6mGZO39ZK",
        "colab_type": "text"
      },
      "source": [
        "Calculate these metrics for the vectorization created using count vectorizing and for tf-idf vectorization.  \n",
        "Compare them. "
      ]
    },
    {
      "cell_type": "markdown",
      "metadata": {
        "id": "r1ArQ2Tc39ZN",
        "colab_type": "text"
      },
      "source": [
        "### Conclusions and improvements "
      ]
    },
    {
      "cell_type": "markdown",
      "metadata": {
        "id": "iCVeaECO39ZR",
        "colab_type": "text"
      },
      "source": [
        "For all of the vectorization pipelines we used all of the words, which were available in our dictionary, as experiment try to use the most meaningful words - select them using TF-IDF score. (for example for each text you can select not more than 10 words for vectorization, or less). \n",
        "\n",
        "Compare this approach with the first and second ones. Did your model improve? \n",
        "\n"
      ]
    },
    {
      "cell_type": "markdown",
      "metadata": {
        "id": "wtmLLs5R39ZT",
        "colab_type": "text"
      },
      "source": [
        "### Additionally, visualisations "
      ]
    },
    {
      "cell_type": "markdown",
      "metadata": {
        "id": "ZPLcHdtc39ZV",
        "colab_type": "text"
      },
      "source": [
        "For now you have a vector for each word from your vocabulary. \n",
        "You have vectors with lenght > 18000, so the dimension of your space is more than 18000 - it's impossible to visualise it in 2d space. \n",
        "\n",
        "So try to research and look for algorithms which perform dimensionality reduction. (t-SNE, PCA) \n",
        "Try to visualise obtained vectors in a vectorspace, only subset from the vocabulary, don't plot all of the words. (100) \n",
        "\n",
        "Probably on this step you will realise how this type of vectorization using these techniques is not the best way to vectorize words. \n",
        "\n",
        "Please, analyse the obtained results and explain why visualisation looks like this. "
      ]
    }
  ]
}