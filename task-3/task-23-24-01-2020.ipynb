{
  "nbformat": 4,
  "nbformat_minor": 0,
  "metadata": {
    "kernelspec": {
      "display_name": "Python 3",
      "language": "python",
      "name": "python3"
    },
    "language_info": {
      "codemirror_mode": {
        "name": "ipython",
        "version": 3
      },
      "file_extension": ".py",
      "mimetype": "text/x-python",
      "name": "python",
      "nbconvert_exporter": "python",
      "pygments_lexer": "ipython3",
      "version": "3.6.8"
    },
    "colab": {
      "name": "task-23-24-01-2020.ipynb",
      "provenance": [],
      "collapsed_sections": [],
      "machine_shape": "hm"
    }
  },
  "cells": [
    {
      "cell_type": "markdown",
      "metadata": {
        "id": "0RxlFd2H39T6",
        "colab_type": "text"
      },
      "source": [
        "## Prerequisites\n",
        "\n"
      ]
    },
    {
      "cell_type": "code",
      "metadata": {
        "id": "EjeEvdCL39UE",
        "colab_type": "code",
        "colab": {}
      },
      "source": [
        "import pandas as pd \n",
        "import numpy as np \n",
        "from sklearn.linear_model import LogisticRegression\n",
        "from sklearn.neighbors import KNeighborsClassifier\n",
        "from sklearn.ensemble import RandomForestClassifier\n",
        "from sklearn.svm import SVC\n",
        "from sklearn.naive_bayes import GaussianNB\n",
        "from sklearn.model_selection import train_test_split\n",
        "from sklearn.feature_extraction.text import CountVectorizer, TfidfTransformer\n",
        "from sklearn.pipeline import Pipeline"
      ],
      "execution_count": 0,
      "outputs": []
    },
    {
      "cell_type": "markdown",
      "metadata": {
        "id": "N2idFb1F39UU",
        "colab_type": "text"
      },
      "source": [
        "### Note! Some of these models support only multiclass classification, please, while selecting your dataset,  \n",
        "### be sure that for algorithms which does not support multilabel classification you use only examples with only one label. \n",
        "### Examples without a label in any of the provided categories are clean messages, without any toxicity."
      ]
    },
    {
      "cell_type": "code",
      "metadata": {
        "id": "-k9dNmr039UY",
        "colab_type": "code",
        "colab": {}
      },
      "source": [
        "df = pd.read_csv(\"train.csv\")"
      ],
      "execution_count": 0,
      "outputs": []
    },
    {
      "cell_type": "code",
      "metadata": {
        "id": "MXAeIDBC39Uh",
        "colab_type": "code",
        "outputId": "3a4dafa3-38bd-4ca0-b8f2-68e89b2dade6",
        "colab": {}
      },
      "source": [
        "df.head()"
      ],
      "execution_count": 0,
      "outputs": [
        {
          "output_type": "execute_result",
          "data": {
            "text/html": [
              "<div>\n",
              "<style scoped>\n",
              "    .dataframe tbody tr th:only-of-type {\n",
              "        vertical-align: middle;\n",
              "    }\n",
              "\n",
              "    .dataframe tbody tr th {\n",
              "        vertical-align: top;\n",
              "    }\n",
              "\n",
              "    .dataframe thead th {\n",
              "        text-align: right;\n",
              "    }\n",
              "</style>\n",
              "<table border=\"1\" class=\"dataframe\">\n",
              "  <thead>\n",
              "    <tr style=\"text-align: right;\">\n",
              "      <th></th>\n",
              "      <th>id</th>\n",
              "      <th>comment_text</th>\n",
              "      <th>toxic</th>\n",
              "      <th>severe_toxic</th>\n",
              "      <th>obscene</th>\n",
              "      <th>threat</th>\n",
              "      <th>insult</th>\n",
              "      <th>identity_hate</th>\n",
              "    </tr>\n",
              "  </thead>\n",
              "  <tbody>\n",
              "    <tr>\n",
              "      <th>0</th>\n",
              "      <td>0000997932d777bf</td>\n",
              "      <td>Explanation\\nWhy the edits made under my usern...</td>\n",
              "      <td>0</td>\n",
              "      <td>0</td>\n",
              "      <td>0</td>\n",
              "      <td>0</td>\n",
              "      <td>0</td>\n",
              "      <td>0</td>\n",
              "    </tr>\n",
              "    <tr>\n",
              "      <th>1</th>\n",
              "      <td>000103f0d9cfb60f</td>\n",
              "      <td>D'aww! He matches this background colour I'm s...</td>\n",
              "      <td>0</td>\n",
              "      <td>0</td>\n",
              "      <td>0</td>\n",
              "      <td>0</td>\n",
              "      <td>0</td>\n",
              "      <td>0</td>\n",
              "    </tr>\n",
              "    <tr>\n",
              "      <th>2</th>\n",
              "      <td>000113f07ec002fd</td>\n",
              "      <td>Hey man, I'm really not trying to edit war. It...</td>\n",
              "      <td>0</td>\n",
              "      <td>0</td>\n",
              "      <td>0</td>\n",
              "      <td>0</td>\n",
              "      <td>0</td>\n",
              "      <td>0</td>\n",
              "    </tr>\n",
              "    <tr>\n",
              "      <th>3</th>\n",
              "      <td>0001b41b1c6bb37e</td>\n",
              "      <td>\"\\nMore\\nI can't make any real suggestions on ...</td>\n",
              "      <td>0</td>\n",
              "      <td>0</td>\n",
              "      <td>0</td>\n",
              "      <td>0</td>\n",
              "      <td>0</td>\n",
              "      <td>0</td>\n",
              "    </tr>\n",
              "    <tr>\n",
              "      <th>4</th>\n",
              "      <td>0001d958c54c6e35</td>\n",
              "      <td>You, sir, are my hero. Any chance you remember...</td>\n",
              "      <td>0</td>\n",
              "      <td>0</td>\n",
              "      <td>0</td>\n",
              "      <td>0</td>\n",
              "      <td>0</td>\n",
              "      <td>0</td>\n",
              "    </tr>\n",
              "  </tbody>\n",
              "</table>\n",
              "</div>"
            ],
            "text/plain": [
              "                 id                                       comment_text  toxic  \\\n",
              "0  0000997932d777bf  Explanation\\nWhy the edits made under my usern...      0   \n",
              "1  000103f0d9cfb60f  D'aww! He matches this background colour I'm s...      0   \n",
              "2  000113f07ec002fd  Hey man, I'm really not trying to edit war. It...      0   \n",
              "3  0001b41b1c6bb37e  \"\\nMore\\nI can't make any real suggestions on ...      0   \n",
              "4  0001d958c54c6e35  You, sir, are my hero. Any chance you remember...      0   \n",
              "\n",
              "   severe_toxic  obscene  threat  insult  identity_hate  \n",
              "0             0        0       0       0              0  \n",
              "1             0        0       0       0              0  \n",
              "2             0        0       0       0              0  \n",
              "3             0        0       0       0              0  \n",
              "4             0        0       0       0              0  "
            ]
          },
          "metadata": {
            "tags": []
          },
          "execution_count": 3
        }
      ]
    },
    {
      "cell_type": "code",
      "metadata": {
        "id": "M7lbcGhO39Ux",
        "colab_type": "code",
        "outputId": "3341aba9-7c7f-4b0a-8d82-a6d09a98192f",
        "colab": {}
      },
      "source": [
        "df.shape"
      ],
      "execution_count": 0,
      "outputs": [
        {
          "output_type": "execute_result",
          "data": {
            "text/plain": [
              "(159571, 8)"
            ]
          },
          "metadata": {
            "tags": []
          },
          "execution_count": 4
        }
      ]
    },
    {
      "cell_type": "markdown",
      "metadata": {
        "id": "ZhBV1GGL39U8",
        "colab_type": "text"
      },
      "source": [
        "### As one of the methods to make the training simpier, use only examples, assigned to any category vs clean examples.  \n",
        "For example:  \n",
        "- Select only messages with obscene label == 1  \n",
        "- Select all of the \"clean\" messages  \n",
        "Implement a model which can perform a binary classification  - to understand whether your message is obscene or not.   "
      ]
    },
    {
      "cell_type": "markdown",
      "metadata": {
        "id": "cOGMhNuJ39U_",
        "colab_type": "text"
      },
      "source": [
        "##### If you want to perform a multilabel classification, please understand the difference between multilabel and multiclass classification and be sure that you are solving the correct task - choose only algorithms applicable for solving this type of problem."
      ]
    },
    {
      "cell_type": "markdown",
      "metadata": {
        "id": "iYrOult339VB",
        "colab_type": "text"
      },
      "source": [
        "#### To work with multiclass task:  \n",
        "You only need to select messages which have only one label assigned: message cannot be assigned to 2 or more categories.  \n",
        "\n",
        "#### To work with multilabel task: \n",
        "You can work with the whole dataset - some of your messages have only 1 label, some more than 1. "
      ]
    },
    {
      "cell_type": "markdown",
      "metadata": {
        "id": "MWHy3UWc39VF",
        "colab_type": "text"
      },
      "source": [
        "## Text vectorization"
      ]
    },
    {
      "cell_type": "markdown",
      "metadata": {
        "id": "kBLgtgCj39VI",
        "colab_type": "text"
      },
      "source": [
        "Previously we worked only with words vectorization. But we need to have a vector for each text, not only words from it. \n",
        "\n",
        "Before starting a text vectorization, please, make sure you are working with clean data - use the dataset created on the previous day. Cleaned from punctuation, stop words, lemmatized or stemmed, etc. "
      ]
    },
    {
      "cell_type": "code",
      "metadata": {
        "id": "KDA-aYyg39VL",
        "colab_type": "code",
        "outputId": "ba8c2d5f-f4a6-41c0-9240-7b46d142ea72",
        "colab": {
          "base_uri": "https://localhost:8080/",
          "height": 51
        }
      },
      "source": [
        "from string import punctuation\n",
        "\n",
        "from nltk.tokenize import word_tokenize\n",
        "from nltk.corpus import stopwords\n",
        "from nltk.stem import WordNetLemmatizer \n",
        "import nltk\n",
        "nltk.download('stopwords')  \n",
        "lemmatizer = WordNetLemmatizer() \n",
        "stop_words = set(stopwords.words('english'))"
      ],
      "execution_count": 34,
      "outputs": [
        {
          "output_type": "stream",
          "text": [
            "[nltk_data] Downloading package stopwords to /root/nltk_data...\n",
            "[nltk_data]   Package stopwords is already up-to-date!\n"
          ],
          "name": "stdout"
        }
      ]
    },
    {
      "cell_type": "code",
      "metadata": {
        "id": "QN-BANZA39VW",
        "colab_type": "code",
        "outputId": "381fef6a-ae33-40ef-9cb7-c75da1e157b1",
        "colab": {
          "base_uri": "https://localhost:8080/",
          "height": 85
        }
      },
      "source": [
        "import nltk\n",
        "nltk.download('punkt')\n",
        "nltk.download('wordnet')\n",
        "def preprocess_text(tokenizer, lemmatizer, stop_words, punctuation, text): \n",
        "    tokens = tokenizer(text.lower())\n",
        "    lemmas = [lemmatizer.lemmatize(token) for token in tokens]\n",
        "    return [token for token in lemmas if token not in stop_words and token not in punctuation]\n",
        "\n",
        "df['cleaned'] = df.comment_text.apply(lambda x: preprocess_text(word_tokenize, lemmatizer, stop_words, punctuation, x))"
      ],
      "execution_count": 35,
      "outputs": [
        {
          "output_type": "stream",
          "text": [
            "[nltk_data] Downloading package punkt to /root/nltk_data...\n",
            "[nltk_data]   Package punkt is already up-to-date!\n",
            "[nltk_data] Downloading package wordnet to /root/nltk_data...\n",
            "[nltk_data]   Package wordnet is already up-to-date!\n"
          ],
          "name": "stdout"
        }
      ]
    },
    {
      "cell_type": "code",
      "metadata": {
        "id": "_3pjVQa_39Vf",
        "colab_type": "code",
        "outputId": "707d841b-eb35-4048-d87a-d1e2e649f5f9",
        "colab": {
          "base_uri": "https://localhost:8080/",
          "height": 476
        }
      },
      "source": [
        "df.head()"
      ],
      "execution_count": 36,
      "outputs": [
        {
          "output_type": "execute_result",
          "data": {
            "text/html": [
              "<div>\n",
              "<style scoped>\n",
              "    .dataframe tbody tr th:only-of-type {\n",
              "        vertical-align: middle;\n",
              "    }\n",
              "\n",
              "    .dataframe tbody tr th {\n",
              "        vertical-align: top;\n",
              "    }\n",
              "\n",
              "    .dataframe thead th {\n",
              "        text-align: right;\n",
              "    }\n",
              "</style>\n",
              "<table border=\"1\" class=\"dataframe\">\n",
              "  <thead>\n",
              "    <tr style=\"text-align: right;\">\n",
              "      <th></th>\n",
              "      <th>id</th>\n",
              "      <th>comment_text</th>\n",
              "      <th>toxic</th>\n",
              "      <th>severe_toxic</th>\n",
              "      <th>obscene</th>\n",
              "      <th>threat</th>\n",
              "      <th>insult</th>\n",
              "      <th>identity_hate</th>\n",
              "      <th>cleaned</th>\n",
              "    </tr>\n",
              "  </thead>\n",
              "  <tbody>\n",
              "    <tr>\n",
              "      <th>0</th>\n",
              "      <td>0000997932d777bf</td>\n",
              "      <td>Explanation\\r\\nWhy the edits made under my use...</td>\n",
              "      <td>0</td>\n",
              "      <td>0</td>\n",
              "      <td>0</td>\n",
              "      <td>0</td>\n",
              "      <td>0</td>\n",
              "      <td>0</td>\n",
              "      <td>[explanation, edits, made, username, hardcore,...</td>\n",
              "    </tr>\n",
              "    <tr>\n",
              "      <th>1</th>\n",
              "      <td>000103f0d9cfb60f</td>\n",
              "      <td>D'aww! He matches this background colour I'm s...</td>\n",
              "      <td>0</td>\n",
              "      <td>0</td>\n",
              "      <td>0</td>\n",
              "      <td>0</td>\n",
              "      <td>0</td>\n",
              "      <td>0</td>\n",
              "      <td>[d'aww, match, background, colour, 'm, seeming...</td>\n",
              "    </tr>\n",
              "    <tr>\n",
              "      <th>2</th>\n",
              "      <td>000113f07ec002fd</td>\n",
              "      <td>Hey man, I'm really not trying to edit war. It...</td>\n",
              "      <td>0</td>\n",
              "      <td>0</td>\n",
              "      <td>0</td>\n",
              "      <td>0</td>\n",
              "      <td>0</td>\n",
              "      <td>0</td>\n",
              "      <td>[hey, man, 'm, really, trying, edit, war, 's, ...</td>\n",
              "    </tr>\n",
              "    <tr>\n",
              "      <th>3</th>\n",
              "      <td>0001b41b1c6bb37e</td>\n",
              "      <td>\"\\r\\nMore\\r\\nI can't make any real suggestions...</td>\n",
              "      <td>0</td>\n",
              "      <td>0</td>\n",
              "      <td>0</td>\n",
              "      <td>0</td>\n",
              "      <td>0</td>\n",
              "      <td>0</td>\n",
              "      <td>[``, ca, n't, make, real, suggestion, improvem...</td>\n",
              "    </tr>\n",
              "    <tr>\n",
              "      <th>4</th>\n",
              "      <td>0001d958c54c6e35</td>\n",
              "      <td>You, sir, are my hero. Any chance you remember...</td>\n",
              "      <td>0</td>\n",
              "      <td>0</td>\n",
              "      <td>0</td>\n",
              "      <td>0</td>\n",
              "      <td>0</td>\n",
              "      <td>0</td>\n",
              "      <td>[sir, hero, chance, remember, page, 's]</td>\n",
              "    </tr>\n",
              "  </tbody>\n",
              "</table>\n",
              "</div>"
            ],
            "text/plain": [
              "                 id  ...                                            cleaned\n",
              "0  0000997932d777bf  ...  [explanation, edits, made, username, hardcore,...\n",
              "1  000103f0d9cfb60f  ...  [d'aww, match, background, colour, 'm, seeming...\n",
              "2  000113f07ec002fd  ...  [hey, man, 'm, really, trying, edit, war, 's, ...\n",
              "3  0001b41b1c6bb37e  ...  [``, ca, n't, make, real, suggestion, improvem...\n",
              "4  0001d958c54c6e35  ...            [sir, hero, chance, remember, page, 's]\n",
              "\n",
              "[5 rows x 9 columns]"
            ]
          },
          "metadata": {
            "tags": []
          },
          "execution_count": 36
        }
      ]
    },
    {
      "cell_type": "code",
      "metadata": {
        "id": "W0Q_Xbyq39Vp",
        "colab_type": "code",
        "colab": {}
      },
      "source": [
        "def flat_nested(nested):\n",
        "    flatten = []\n",
        "    for item in nested:\n",
        "        if isinstance(item, list):\n",
        "            flatten.extend(item)\n",
        "        else:\n",
        "            flatten.append(item)\n",
        "    return flatten"
      ],
      "execution_count": 0,
      "outputs": []
    },
    {
      "cell_type": "code",
      "metadata": {
        "id": "zpLKazn739V1",
        "colab_type": "code",
        "colab": {}
      },
      "source": [
        "vocab = set(flat_nested(df.cleaned.tolist()))"
      ],
      "execution_count": 0,
      "outputs": []
    },
    {
      "cell_type": "code",
      "metadata": {
        "id": "FOrYatOC39V9",
        "colab_type": "code",
        "outputId": "33d70ace-59ff-47cf-8890-3fb6201aed92",
        "colab": {
          "base_uri": "https://localhost:8080/",
          "height": 34
        }
      },
      "source": [
        "len(vocab)"
      ],
      "execution_count": 0,
      "outputs": [
        {
          "output_type": "execute_result",
          "data": {
            "text/plain": [
              "249736"
            ]
          },
          "metadata": {
            "tags": []
          },
          "execution_count": 8
        }
      ]
    },
    {
      "cell_type": "markdown",
      "metadata": {
        "id": "BE-wjM9S39WF",
        "colab_type": "text"
      },
      "source": [
        "As we see, probably you vocabulary is too large.  \n",
        "Let's try to make it smaller.  \n",
        "For example, let's get rig of words, which has counts in our dataset less than some threshold."
      ]
    },
    {
      "cell_type": "code",
      "metadata": {
        "id": "zK3HN5Yp39WI",
        "colab_type": "code",
        "colab": {}
      },
      "source": [
        "from collections import Counter, defaultdict \n",
        "\n",
        "cnt_vocab = Counter(flat_nested(df.cleaned.tolist()))"
      ],
      "execution_count": 0,
      "outputs": []
    },
    {
      "cell_type": "code",
      "metadata": {
        "id": "YDmZOyIr39WQ",
        "colab_type": "code",
        "outputId": "0a001249-4c50-4b86-b599-baa90f7d6103",
        "colab": {
          "base_uri": "https://localhost:8080/",
          "height": 187
        }
      },
      "source": [
        "cnt_vocab.most_common(10)"
      ],
      "execution_count": 64,
      "outputs": [
        {
          "output_type": "execute_result",
          "data": {
            "text/plain": [
              "[(\"''\", 242528),\n",
              " ('``', 155370),\n",
              " ('article', 73284),\n",
              " (\"'s\", 66767),\n",
              " (\"n't\", 57144),\n",
              " ('wa', 56592),\n",
              " ('page', 56263),\n",
              " ('wikipedia', 45418),\n",
              " ('talk', 35356),\n",
              " ('ha', 31896)]"
            ]
          },
          "metadata": {
            "tags": []
          },
          "execution_count": 64
        }
      ]
    },
    {
      "cell_type": "markdown",
      "metadata": {
        "id": "v_MV0qTB39WZ",
        "colab_type": "text"
      },
      "source": [
        "You can clean words which are shorter that particular length and occur less than N times. "
      ]
    },
    {
      "cell_type": "code",
      "metadata": {
        "id": "4L84j3TU39Wi",
        "colab_type": "code",
        "colab": {}
      },
      "source": [
        "threshold_count = 10\n",
        "threshold_len = 4 \n",
        "cleaned_vocab = [token for token, count in cnt_vocab.items() if count > threshold_count and len(token) > threshold_len]"
      ],
      "execution_count": 0,
      "outputs": []
    },
    {
      "cell_type": "code",
      "metadata": {
        "id": "vSDjlE8L39Wv",
        "colab_type": "code",
        "outputId": "273d55c8-574a-4645-9331-447e871ed1f6",
        "colab": {
          "base_uri": "https://localhost:8080/",
          "height": 34
        }
      },
      "source": [
        "len(cleaned_vocab)"
      ],
      "execution_count": 9,
      "outputs": [
        {
          "output_type": "execute_result",
          "data": {
            "text/plain": [
              "18696"
            ]
          },
          "metadata": {
            "tags": []
          },
          "execution_count": 9
        }
      ]
    },
    {
      "cell_type": "markdown",
      "metadata": {
        "id": "kl1EKDpc39W8",
        "colab_type": "text"
      },
      "source": [
        "Much better!  \n",
        "Let's try to vectorize the text summing one-hot vectors for each word. "
      ]
    },
    {
      "cell_type": "code",
      "metadata": {
        "id": "idhF_V9939W-",
        "colab_type": "code",
        "colab": {}
      },
      "source": [
        "vocabulary = defaultdict()\n",
        "\n",
        "for i, token in enumerate(cleaned_vocab): \n",
        "    empty_vec = np.zeros(len(cleaned_vocab))\n",
        "    empty_vec[i] = 1 \n",
        "    vocabulary[token] = empty_vec\n"
      ],
      "execution_count": 0,
      "outputs": []
    },
    {
      "cell_type": "code",
      "metadata": {
        "id": "YYjSvoZ239XG",
        "colab_type": "code",
        "outputId": "c73a8fba-dbd1-48f3-a65a-b3677582d28b",
        "colab": {
          "base_uri": "https://localhost:8080/",
          "height": 34
        }
      },
      "source": [
        "vocabulary['source']"
      ],
      "execution_count": 83,
      "outputs": [
        {
          "output_type": "execute_result",
          "data": {
            "text/plain": [
              "array([0., 0., 0., ..., 0., 0., 0.])"
            ]
          },
          "metadata": {
            "tags": []
          },
          "execution_count": 83
        }
      ]
    },
    {
      "cell_type": "markdown",
      "metadata": {
        "id": "L1jBmOH239XW",
        "colab_type": "text"
      },
      "source": [
        "Rigth now we have vectors for words (words are one-hot \n",
        "vectorized**)  \n",
        "Let's try to create vectors for texts: "
      ]
    },
    {
      "cell_type": "code",
      "metadata": {
        "id": "wwkqvUKW39XZ",
        "colab_type": "code",
        "outputId": "d4bc0a16-a54a-4ff8-d47a-7acc5d6f031c",
        "colab": {
          "base_uri": "https://localhost:8080/",
          "height": 54
        }
      },
      "source": [
        "sample_text = df.cleaned[10]\n",
        "print(sample_text)"
      ],
      "execution_count": 42,
      "outputs": [
        {
          "output_type": "stream",
          "text": [
            "['``', 'fair', 'use', 'rationale', 'image', 'wonju.jpg', 'thanks', 'uploading', 'image', 'wonju.jpg', 'notice', 'image', 'page', 'specifies', 'image', 'used', 'fair', 'use', 'explanation', 'rationale', 'use', 'wikipedia', 'article', 'constitutes', 'fair', 'use', 'addition', 'boilerplate', 'fair', 'use', 'template', 'must', 'also', 'write', 'image', 'description', 'page', 'specific', 'explanation', 'rationale', 'using', 'image', 'article', 'consistent', 'fair', 'use', 'please', 'go', 'image', 'description', 'page', 'edit', 'include', 'fair', 'use', 'rationale', 'uploaded', 'fair', 'use', 'medium', 'consider', 'checking', 'specified', 'fair', 'use', 'rationale', 'page', 'find', 'list', \"'image\", 'page', 'edited', 'clicking', '``', \"''\", 'contribution', \"''\", \"''\", 'link', 'located', 'top', 'wikipedia', 'page', 'logged', 'selecting', '``', \"''\", 'image', \"''\", \"''\", 'dropdown', 'box', 'note', 'fair', 'use', 'image', 'uploaded', '4', 'may', '2006', 'lacking', 'explanation', 'deleted', 'one', 'week', 'uploaded', 'described', 'criterion', 'speedy', 'deletion', 'question', 'please', 'ask', 'medium', 'copyright', 'question', 'page', 'thank', 'talk', '•', 'contribs', '•', 'unspecified', 'source', 'image', 'wonju.jpg', 'thanks', 'uploading', 'image', 'wonju.jpg', 'noticed', 'file', \"'s\", 'description', 'page', 'currently', 'doe', \"n't\", 'specify', 'created', 'content', 'copyright', 'status', 'unclear', 'create', 'file', 'need', 'specify', 'owner', 'copyright', 'obtained', 'website', 'link', 'website', 'wa', 'taken', 'together', 'restatement', 'website', \"'s\", 'term', 'use', 'content', 'usually', 'sufficient', 'information', 'however', 'copyright', 'holder', 'different', 'website', \"'s\", 'publisher', 'copyright', 'also', 'acknowledged', 'well', 'adding', 'source', 'please', 'add', 'proper', 'copyright', 'licensing', 'tag', 'file', 'doe', \"n't\", 'one', 'already', 'created/took', 'picture', 'audio', 'video', 'tag', 'used', 'release', 'gfdl', 'believe', 'medium', 'meet', 'criterion', 'wikipedia', 'fair', 'use', 'use', 'tag', 'one', 'tag', 'listed', 'wikipedia', 'image', 'copyright', 'tag', 'fair', 'use', 'see', 'wikipedia', 'image', 'copyright', 'tag', 'full', 'list', 'copyright', 'tag', 'use', 'uploaded', 'file', 'consider', 'checking', 'specified', 'source', 'tagged', 'find', 'list', 'file', 'uploaded', 'following', 'link', 'unsourced', 'untagged', 'image', 'may', 'deleted', 'one', 'week', 'tagged', 'described', 'criterion', 'speedy', 'deletion', 'image', 'copyrighted', 'non-free', 'license', 'per', 'wikipedia', 'fair', 'use', 'image', 'deleted', '48', 'hour', 'question', 'please', 'ask', 'medium', 'copyright', 'question', 'page', 'thank', 'talk', '•', 'contribs', '•', '``']\n"
          ],
          "name": "stdout"
        }
      ]
    },
    {
      "cell_type": "markdown",
      "metadata": {
        "id": "XbYxW_3R39Xm",
        "colab_type": "text"
      },
      "source": [
        "### One-hot vectorization and count vectorization"
      ]
    },
    {
      "cell_type": "code",
      "metadata": {
        "id": "-_xSRA9J39Xp",
        "colab_type": "code",
        "colab": {}
      },
      "source": [
        "sample_vector = np.zeros(len(cleaned_vocab))\n",
        "\n",
        "for token in sample_text: \n",
        "    try: \n",
        "        sample_vector += vocabulary[token]\n",
        "    except KeyError: \n",
        "        continue   "
      ],
      "execution_count": 0,
      "outputs": []
    },
    {
      "cell_type": "code",
      "metadata": {
        "id": "4N4110KW39Xw",
        "colab_type": "code",
        "outputId": "12aef1b7-4fe7-46a6-f736-28efd36732a8",
        "colab": {
          "base_uri": "https://localhost:8080/",
          "height": 34
        }
      },
      "source": [
        "sample_vector"
      ],
      "execution_count": 0,
      "outputs": [
        {
          "output_type": "execute_result",
          "data": {
            "text/plain": [
              "array([3., 0., 0., ..., 0., 0., 0.])"
            ]
          },
          "metadata": {
            "tags": []
          },
          "execution_count": 84
        }
      ]
    },
    {
      "cell_type": "markdown",
      "metadata": {
        "id": "UilYLtWj39X4",
        "colab_type": "text"
      },
      "source": [
        "Right now we have count vectorization for our text.   \n",
        "Use this pipeline to create vectors for all of the texts. Save them into np.array. i-th raw in np.array is a vector which represents i-th text from the dataframe.  "
      ]
    },
    {
      "cell_type": "code",
      "metadata": {
        "id": "LNafHXWY39X6",
        "colab_type": "code",
        "colab": {}
      },
      "source": [
        "sample_size=1000\n",
        "df_small = df.cleaned.sample(sample_size)\n",
        "def vectorization(shape, data):\n",
        "   k=0\n",
        "   all_text_vector = np.zeros((shape, len(cleaned_vocab)))\n",
        "   for i in data:\n",
        "     text_vector = np.zeros(len(cleaned_vocab))\n",
        "     for token in i: \n",
        "       try: \n",
        "           text_vector += vocabulary[token]\n",
        "       except KeyError: \n",
        "           continue \n",
        "     all_text_vector[k]=text_vector\n",
        "     k+=1\n",
        "   return  all_text_vector\n",
        "vectorize_text = vectorization (sample_size, df_small)\n"
      ],
      "execution_count": 0,
      "outputs": []
    },
    {
      "cell_type": "code",
      "metadata": {
        "id": "z6d3gI5G1WXL",
        "colab_type": "code",
        "outputId": "17979c9d-a308-4b7f-cbd5-ffbb8198e69b",
        "colab": {
          "base_uri": "https://localhost:8080/",
          "height": 136
        }
      },
      "source": [
        "vectorize_text"
      ],
      "execution_count": 139,
      "outputs": [
        {
          "output_type": "execute_result",
          "data": {
            "text/plain": [
              "array([[0., 0., 0., ..., 0., 0., 0.],\n",
              "       [0., 0., 0., ..., 0., 0., 0.],\n",
              "       [0., 0., 0., ..., 0., 0., 0.],\n",
              "       ...,\n",
              "       [0., 0., 0., ..., 0., 0., 0.],\n",
              "       [0., 0., 0., ..., 0., 0., 0.],\n",
              "       [0., 0., 0., ..., 0., 0., 0.]])"
            ]
          },
          "metadata": {
            "tags": []
          },
          "execution_count": 139
        }
      ]
    },
    {
      "cell_type": "code",
      "metadata": {
        "id": "j6BZFkI7Ct91",
        "colab_type": "code",
        "outputId": "9074e4f1-35da-41e6-d59b-ceb6646c22b1",
        "colab": {
          "base_uri": "https://localhost:8080/",
          "height": 34
        }
      },
      "source": [
        "idx = df_small.index\n",
        "texts = df.cleaned[idx]\n",
        "test_vectorize = vectorization(sample_size, texts)\n",
        "test_arr = test_vectorize == vectorize_text\n",
        "test=np.all(test_arr)\n",
        "print(test)\n"
      ],
      "execution_count": 45,
      "outputs": [
        {
          "output_type": "stream",
          "text": [
            "True\n"
          ],
          "name": "stdout"
        }
      ]
    },
    {
      "cell_type": "markdown",
      "metadata": {
        "id": "A3Fb31ze39YC",
        "colab_type": "text"
      },
      "source": [
        "### The next step is to train any classification model on top of the received vectors and report the quality. "
      ]
    },
    {
      "cell_type": "markdown",
      "metadata": {
        "id": "BBB6XQdb39YE",
        "colab_type": "text"
      },
      "source": [
        "Please, select any of the proposed pipelines for performing a text classification task. (Binary, multiclass or multilabel).  "
      ]
    },
    {
      "cell_type": "markdown",
      "metadata": {
        "id": "2fK261iJ39YG",
        "colab_type": "text"
      },
      "source": [
        "The main task to calculate our models performance is to create a training and test sets. When you selected a texts for your task, please, use https://scikit-learn.org/stable/modules/generated/sklearn.model_selection.train_test_split.html to have at least two sets - train and test.  \n",
        "\n",
        "Train examples you will use to train your model on and test examples to evaluate your model - to understand how your model works on the unseen data. "
      ]
    },
    {
      "cell_type": "markdown",
      "metadata": {
        "id": "M_7li3J539YK",
        "colab_type": "text"
      },
      "source": [
        "### Train-test split "
      ]
    },
    {
      "cell_type": "code",
      "metadata": {
        "id": "3KDt4Zcb39YM",
        "colab_type": "code",
        "colab": {
          "base_uri": "https://localhost:8080/",
          "height": 221
        },
        "outputId": "3a16affc-4f38-476c-d1c6-fc9e295644c8"
      },
      "source": [
        "p=0.75\n",
        "df_categories = ['identity_hate', 'insult', 'obscene', 'severe_toxic', 'threat', 'toxic']\n",
        "df_insult = df[df['insult']==1]\n",
        "df_clean = df[~df[df_categories].any(axis = 'columns')]\n",
        "df_combined = df_insult.append(df_clean)\n",
        "df_combined = df_combined[['cleaned', 'insult']]\n",
        "df_combined = df_combined.sample(frac = 1)\n",
        "df_train, df_test = train_test_split(df_combined, train_size = p)\n",
        "X_train = df_train['cleaned'] \n",
        "Y_train = df_train['insult']\n",
        "X_test = df_test['cleaned']\n",
        "Y_test = df_test['insult']\n",
        "X_train"
      ],
      "execution_count": 46,
      "outputs": [
        {
          "output_type": "execute_result",
          "data": {
            "text/plain": [
              "129305    [``, yes, n't, understand, reason, ``, '', int...\n",
              "155946                         [put, another, one, bracket]\n",
              "70682     [``, sorry, delay, 've, semi-protected, articl...\n",
              "154634    [georges-henri, pingusson, hi, thanks, ref, edit]\n",
              "78586              [sure, anything, improve, article, talk]\n",
              "                                ...                        \n",
              "158048    [``, think, put, needed, talk, page, dpeterson...\n",
              "111148    [``, ha, since, resurrected, see, ref, article...\n",
              "121889    [distinction, would, draw, whether, content, p...\n",
              "134107    [norma, writing, end, every, edit, 's, descrip...\n",
              "153320    [``, 'm, confused, statement, ``, '', 95, free...\n",
              "Name: cleaned, Length: 113417, dtype: object"
            ]
          },
          "metadata": {
            "tags": []
          },
          "execution_count": 46
        }
      ]
    },
    {
      "cell_type": "markdown",
      "metadata": {
        "id": "JOEz7erB39YV",
        "colab_type": "text"
      },
      "source": [
        "TF-IDF score "
      ]
    },
    {
      "cell_type": "markdown",
      "metadata": {
        "id": "YkAQv_js39YX",
        "colab_type": "text"
      },
      "source": [
        "#### Please, review again this article or read it if you have not done it before. \n",
        "\n",
        "https://medium.com/@paritosh_30025/natural-language-processing-text-data-vectorization-af2520529cf7"
      ]
    },
    {
      "cell_type": "markdown",
      "metadata": {
        "id": "D0sgJE8s39YZ",
        "colab_type": "text"
      },
      "source": [
        "#### Implement calculating a tf-idf score for each of the words from your vocabulary. \n",
        "\n",
        "The main goal of this taks is to create a dictionary - keys of the dictionary would be tokens and values would be corresponding tf-idf score of the token.\n",
        "\n",
        "#### Calculate it MANUALLY and compare the received scores for words with the sklearn implementation:  \n",
        "from sklearn.feature_extraction.text import TfidfTransformer "
      ]
    },
    {
      "cell_type": "markdown",
      "metadata": {
        "id": "K_W4qE1H39Yb",
        "colab_type": "text"
      },
      "source": [
        "#### Tip: \n",
        "\n",
        "##### TF = (Number of time the word occurs in the current text) / (Total number of words in the current text)  \n",
        "\n",
        "##### IDF = (Total number of documents / Number of documents with word t in it)\n",
        "\n",
        "##### TF-IDF = TF*IDF "
      ]
    },
    {
      "cell_type": "markdown",
      "metadata": {
        "id": "cLBxxBvC39Ye",
        "colab_type": "text"
      },
      "source": [
        "When you calculated a tf-idf score for each of the words in your vocabulary - revectorize the texts.  \n",
        "Instead of using number of occurences of the i-th word in the i-th cell of the text vector, use it's tf-idf score.   \n",
        "\n",
        "Revectorize the documents, save vectors into np.array. "
      ]
    },
    {
      "cell_type": "code",
      "metadata": {
        "id": "-FkGwVVs39Yg",
        "colab_type": "code",
        "colab": {
          "base_uri": "https://localhost:8080/",
          "height": 54
        },
        "outputId": "9b863569-6f2b-43fe-8951-aba07724526d"
      },
      "source": [
        "vectorizer = CountVectorizer()\n",
        "X_train_list=X_train.to_list()\n",
        "corpus=[]\n",
        "for text in X_train_list:\n",
        "  corpus.append(' '.join(text))\n",
        "word_count_vector = vectorizer.fit_transform(corpus)\n",
        "tfidf_transformer=TfidfTransformer(smooth_idf=True,use_idf=True)\n",
        "tfidf_transformer.fit(word_count_vector)\n",
        "df_idf = pd.DataFrame(tfidf_transformer.idf_, index=vectorizer.get_feature_names(),columns=[\"idf_weights\"])\n",
        "count_vector=vectorizer.transform(corpus)\n",
        "tf_idf_vector=tfidf_transformer.transform(count_vector)\n",
        "feature_names = vectorizer.get_feature_names()\n",
        "first_document_vector=tf_idf_vector[0]\n",
        "df = pd.DataFrame(first_document_vector.T.todense(), index=feature_names, columns=[\"tfidf\"])\n",
        "df_dict = {x: float(y) for x, y in zip(df.sort_values(by=[\"tfidf\"],ascending=False).index[:10], df.sort_values(by=[\"tfidf\"],ascending=False).values[:10])}\n",
        "print(df_dict)"
      ],
      "execution_count": 47,
      "outputs": [
        {
          "output_type": "stream",
          "text": [
            "{'interrupted': 0.6522249007340178, 'deleed': 0.40992295047881866, 'comprende': 0.3960091892498387, 'template': 0.34101932114933237, 'wo': 0.18511897659570867, 'yes': 0.1631708936040326, 'understand': 0.15810721733768995, 'reason': 0.14207373720962407, 'edits': 0.1391981905874131, 'wa': 0.08941838126809708}\n"
          ],
          "name": "stdout"
        }
      ]
    },
    {
      "cell_type": "markdown",
      "metadata": {
        "id": "05aC4o_l39Yq",
        "colab_type": "text"
      },
      "source": [
        "### Training the model "
      ]
    },
    {
      "cell_type": "markdown",
      "metadata": {
        "id": "01MNSr4y39Yu",
        "colab_type": "text"
      },
      "source": [
        "As it was said before, select any of the text classification models for the selected task and train the model. \n",
        "\n",
        "When the model is trained, you need to evaluate it somehow. \n",
        "\n",
        "Read about True positive, False positive, False negative and True negative counts and how to calculate them:   \n",
        "\n",
        "https://developers.google.com/machine-learning/crash-course/classification/true-false-positive-negative \n",
        "\n",
        "##### Calculate TP, FP, FN and TN on the test set for your model to measure its performance. \n"
      ]
    },
    {
      "cell_type": "code",
      "metadata": {
        "id": "RkwgYlGDKhaL",
        "colab_type": "code",
        "colab": {}
      },
      "source": [
        "X_train_pre = X_train.str.join(' ')\n",
        "X_test_pre = X_test.str.join(' ')\n",
        "pipeline = Pipeline([('matrix', CountVectorizer(vocabulary = cleaned_vocab)),('tf-idf', TfidfTransformer())])\n",
        "X_train_tf_idf = pipeline.fit_transform(X_train_pre)\n",
        "X_test_tf_idf = pipeline.transform(X_test_pre)"
      ],
      "execution_count": 0,
      "outputs": []
    },
    {
      "cell_type": "code",
      "metadata": {
        "colab_type": "code",
        "outputId": "0e77bc37-f49a-48e3-c858-4c5210290231",
        "id": "BK609lTQtys6",
        "colab": {
          "base_uri": "https://localhost:8080/",
          "height": 34
        }
      },
      "source": [
        "linear_classifier = LogisticRegression(random_state = 0).fit(X_train_tf_idf, Y_train)\n",
        "\n",
        "Y_pred = linear_classifier.predict(X_test_tf_idf)\n",
        "\n",
        "Y_pred.shape==Y_test.shape"
      ],
      "execution_count": 49,
      "outputs": [
        {
          "output_type": "execute_result",
          "data": {
            "text/plain": [
              "True"
            ]
          },
          "metadata": {
            "tags": []
          },
          "execution_count": 49
        }
      ]
    },
    {
      "cell_type": "code",
      "metadata": {
        "colab_type": "code",
        "outputId": "b3e87cd6-4a0a-4827-a153-9597b6d03e9b",
        "id": "cTEhJ--7tm-z",
        "colab": {
          "base_uri": "https://localhost:8080/",
          "height": 85
        },
        "cellView": "both"
      },
      "source": [
        "TN =  np.sum([(Y_test==Y_pred) & Y_test]) \n",
        "TP =  np.sum([(Y_test==Y_pred) & ~Y_test])\n",
        "FN =  np.sum([(Y_test!=Y_pred) & Y_test])\n",
        "FP =  np.sum([~((Y_test==Y_pred) | Y_test)])\n",
        "    \n",
        "  \n",
        "\n",
        "print(' TN=', TN, '\\n', 'TP=', TP, '\\n', 'FN=', FN, '\\n',  'FP=', FP)\n"
      ],
      "execution_count": 50,
      "outputs": [
        {
          "output_type": "stream",
          "text": [
            " TN= 952 \n",
            " TP= 35818 \n",
            " FN= 985 \n",
            " FP= 51\n"
          ],
          "name": "stdout"
        }
      ]
    },
    {
      "cell_type": "markdown",
      "metadata": {
        "id": "7NCVBVUS39Y5",
        "colab_type": "text"
      },
      "source": [
        "#### The next step is to calculate  Precision, Recall, F1 and F2 score \n",
        "\n",
        "https://en.wikipedia.org/wiki/Sensitivity_and_specificity"
      ]
    },
    {
      "cell_type": "code",
      "metadata": {
        "id": "bNT8agzu39Y7",
        "colab_type": "code",
        "colab": {
          "base_uri": "https://localhost:8080/",
          "height": 85
        },
        "outputId": "de4dd7b7-4d29-4f4c-dcf8-02a7f7ecd75c"
      },
      "source": [
        "transpose_matr = np.transpose(np.array([[TP, FP], [FN, TN]]))\n",
        "PRE = transpose_matr[0,0]/np.sum(transpose_matr[0,:])\n",
        "REC = transpose_matr[0,0]/np.sum(transpose_matr[:,0])\n",
        "F1 = (1 + 1) * (PRE * REC) / (PRE + REC)\n",
        "F2 = (1 + 2 ** 2) * (PRE * REC) / (((2 ** 2) * PRE) + REC)\n",
        "print(' PRE=', PRE, '\\n', 'REC=', REC, '\\n', 'F1=', F1, '\\n', 'F2=', F2 )\n",
        "    \n",
        "    \n",
        "\n"
      ],
      "execution_count": 51,
      "outputs": [
        {
          "output_type": "stream",
          "text": [
            " PRE= 0.9732358775099856 \n",
            " REC= 0.9985781594134211 \n",
            " F1= 0.98574416556583 \n",
            " F2= 0.9934046672102684\n"
          ],
          "name": "stdout"
        }
      ]
    },
    {
      "cell_type": "markdown",
      "metadata": {
        "id": "cAk6mGZO39ZK",
        "colab_type": "text"
      },
      "source": [
        "Calculate these metrics for the vectorization created using count vectorizing and for tf-idf vectorization.  \n",
        "Compare them. "
      ]
    },
    {
      "cell_type": "code",
      "metadata": {
        "id": "8088yeAEbk6J",
        "colab_type": "code",
        "colab": {
          "base_uri": "https://localhost:8080/",
          "height": 350
        },
        "outputId": "22bd01a1-49ba-40f4-baee-d1edb9f2cad7"
      },
      "source": [
        "df_train_1, df_test_1 = train_test_split(df.sample(sample_size), train_size_1 = p)\n",
        "Y_train_1 = df_train_1['insult']\n",
        "linear_classifier = LogisticRegression(random_state = 0).fit(vectorize_text, Y_train_1)\n",
        "\n",
        "Y_pred = linear_classifier.predict(X_test_tf_idf)\n",
        "\n",
        "Y_pred.shape==Y_test.shape"
      ],
      "execution_count": 55,
      "outputs": [
        {
          "output_type": "error",
          "ename": "TypeError",
          "evalue": "ignored",
          "traceback": [
            "\u001b[0;31m---------------------------------------------------------------------------\u001b[0m",
            "\u001b[0;31mTypeError\u001b[0m                                 Traceback (most recent call last)",
            "\u001b[0;32m<ipython-input-55-854c6a5ca255>\u001b[0m in \u001b[0;36m<module>\u001b[0;34m()\u001b[0m\n\u001b[0;32m----> 1\u001b[0;31m \u001b[0mdf_train_1\u001b[0m\u001b[0;34m,\u001b[0m \u001b[0mdf_test_1\u001b[0m \u001b[0;34m=\u001b[0m \u001b[0mtrain_test_split\u001b[0m\u001b[0;34m(\u001b[0m\u001b[0mdf\u001b[0m\u001b[0;34m.\u001b[0m\u001b[0msample\u001b[0m\u001b[0;34m(\u001b[0m\u001b[0msample_size\u001b[0m\u001b[0;34m)\u001b[0m\u001b[0;34m,\u001b[0m \u001b[0mtrain_size_1\u001b[0m \u001b[0;34m=\u001b[0m \u001b[0mp\u001b[0m\u001b[0;34m)\u001b[0m\u001b[0;34m\u001b[0m\u001b[0;34m\u001b[0m\u001b[0m\n\u001b[0m\u001b[1;32m      2\u001b[0m \u001b[0mY_train_1\u001b[0m \u001b[0;34m=\u001b[0m \u001b[0mdf_train_1\u001b[0m\u001b[0;34m[\u001b[0m\u001b[0;34m'insult'\u001b[0m\u001b[0;34m]\u001b[0m\u001b[0;34m\u001b[0m\u001b[0;34m\u001b[0m\u001b[0m\n\u001b[1;32m      3\u001b[0m \u001b[0mlinear_classifier\u001b[0m \u001b[0;34m=\u001b[0m \u001b[0mLogisticRegression\u001b[0m\u001b[0;34m(\u001b[0m\u001b[0mrandom_state\u001b[0m \u001b[0;34m=\u001b[0m \u001b[0;36m0\u001b[0m\u001b[0;34m)\u001b[0m\u001b[0;34m.\u001b[0m\u001b[0mfit\u001b[0m\u001b[0;34m(\u001b[0m\u001b[0mvectorize_text\u001b[0m\u001b[0;34m,\u001b[0m \u001b[0mY_train_1\u001b[0m\u001b[0;34m)\u001b[0m\u001b[0;34m\u001b[0m\u001b[0;34m\u001b[0m\u001b[0m\n\u001b[1;32m      4\u001b[0m \u001b[0;34m\u001b[0m\u001b[0m\n\u001b[1;32m      5\u001b[0m \u001b[0mY_pred\u001b[0m \u001b[0;34m=\u001b[0m \u001b[0mlinear_classifier\u001b[0m\u001b[0;34m.\u001b[0m\u001b[0mpredict\u001b[0m\u001b[0;34m(\u001b[0m\u001b[0mX_test_tf_idf\u001b[0m\u001b[0;34m)\u001b[0m\u001b[0;34m\u001b[0m\u001b[0;34m\u001b[0m\u001b[0m\n",
            "\u001b[0;32m/usr/local/lib/python3.6/dist-packages/sklearn/model_selection/_split.py\u001b[0m in \u001b[0;36mtrain_test_split\u001b[0;34m(*arrays, **options)\u001b[0m\n\u001b[1;32m   2114\u001b[0m \u001b[0;34m\u001b[0m\u001b[0m\n\u001b[1;32m   2115\u001b[0m     \u001b[0;32mif\u001b[0m \u001b[0moptions\u001b[0m\u001b[0;34m:\u001b[0m\u001b[0;34m\u001b[0m\u001b[0;34m\u001b[0m\u001b[0m\n\u001b[0;32m-> 2116\u001b[0;31m         \u001b[0;32mraise\u001b[0m \u001b[0mTypeError\u001b[0m\u001b[0;34m(\u001b[0m\u001b[0;34m\"Invalid parameters passed: %s\"\u001b[0m \u001b[0;34m%\u001b[0m \u001b[0mstr\u001b[0m\u001b[0;34m(\u001b[0m\u001b[0moptions\u001b[0m\u001b[0;34m)\u001b[0m\u001b[0;34m)\u001b[0m\u001b[0;34m\u001b[0m\u001b[0;34m\u001b[0m\u001b[0m\n\u001b[0m\u001b[1;32m   2117\u001b[0m \u001b[0;34m\u001b[0m\u001b[0m\n\u001b[1;32m   2118\u001b[0m     \u001b[0marrays\u001b[0m \u001b[0;34m=\u001b[0m \u001b[0mindexable\u001b[0m\u001b[0;34m(\u001b[0m\u001b[0;34m*\u001b[0m\u001b[0marrays\u001b[0m\u001b[0;34m)\u001b[0m\u001b[0;34m\u001b[0m\u001b[0;34m\u001b[0m\u001b[0m\n",
            "\u001b[0;31mTypeError\u001b[0m: Invalid parameters passed: {'train_size_1': 0.75}"
          ]
        }
      ]
    },
    {
      "cell_type": "markdown",
      "metadata": {
        "id": "r1ArQ2Tc39ZN",
        "colab_type": "text"
      },
      "source": [
        "### Conclusions and improvements "
      ]
    },
    {
      "cell_type": "markdown",
      "metadata": {
        "id": "iCVeaECO39ZR",
        "colab_type": "text"
      },
      "source": [
        "For all of the vectorization pipelines we used all of the words, which were available in our dictionary, as experiment try to use the most meaningful words - select them using TF-IDF score. (for example for each text you can select not more than 10 words for vectorization, or less). \n",
        "\n",
        "Compare this approach with the first and second ones. Did your model improve? \n",
        "\n"
      ]
    },
    {
      "cell_type": "markdown",
      "metadata": {
        "id": "wtmLLs5R39ZT",
        "colab_type": "text"
      },
      "source": [
        "### Additionally, visualisations "
      ]
    },
    {
      "cell_type": "markdown",
      "metadata": {
        "id": "ZPLcHdtc39ZV",
        "colab_type": "text"
      },
      "source": [
        "For now you have a vector for each word from your vocabulary. \n",
        "You have vectors with lenght > 18000, so the dimension of your space is more than 18000 - it's impossible to visualise it in 2d space. \n",
        "\n",
        "So try to research and look for algorithms which perform dimensionality reduction. (t-SNE, PCA) \n",
        "Try to visualise obtained vectors in a vectorspace, only subset from the vocabulary, don't plot all of the words. (100) \n",
        "\n",
        "Probably on this step you will realise how this type of vectorization using these techniques is not the best way to vectorize words. \n",
        "\n",
        "Please, analyse the obtained results and explain why visualisation looks like this. "
      ]
    }
  ]
}